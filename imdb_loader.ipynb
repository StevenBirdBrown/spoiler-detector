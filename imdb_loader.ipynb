{
 "cells": [
  {
   "cell_type": "code",
   "execution_count": 1,
   "metadata": {},
   "outputs": [],
   "source": [
    "import json\n",
    "import numpy as np\n",
    "import pandas as pd\n",
    "import csv\n",
    "import gluonnlp as nlp\n",
    "import multiprocessing as mp\n",
    "import re"
   ]
  },
  {
   "cell_type": "markdown",
   "metadata": {},
   "source": [
    "## Load and merge the data\n",
    "The source is Kaggle, [IMDB Spoiler Dataset](https://www.kaggle.com/rmisra/imdb-spoiler-dataset). The downloaded zip includes two files, we will demonstrate some of their contents below."
   ]
  },
  {
   "cell_type": "code",
   "execution_count": 2,
   "metadata": {},
   "outputs": [
    {
     "name": "stdout",
     "output_type": "stream",
     "text": [
      "(573385, 7)\n"
     ]
    },
    {
     "data": {
      "text/html": [
       "<div>\n",
       "<style scoped>\n",
       "    .dataframe tbody tr th:only-of-type {\n",
       "        vertical-align: middle;\n",
       "    }\n",
       "\n",
       "    .dataframe tbody tr th {\n",
       "        vertical-align: top;\n",
       "    }\n",
       "\n",
       "    .dataframe thead th {\n",
       "        text-align: right;\n",
       "    }\n",
       "</style>\n",
       "<table border=\"1\" class=\"dataframe\">\n",
       "  <thead>\n",
       "    <tr style=\"text-align: right;\">\n",
       "      <th></th>\n",
       "      <th>review_date</th>\n",
       "      <th>movie_id</th>\n",
       "      <th>user_id</th>\n",
       "      <th>is_spoiler</th>\n",
       "      <th>review_text</th>\n",
       "      <th>rating</th>\n",
       "      <th>review_summary</th>\n",
       "    </tr>\n",
       "  </thead>\n",
       "  <tbody>\n",
       "    <tr>\n",
       "      <td>215749</td>\n",
       "      <td>2014-09-22</td>\n",
       "      <td>tt2872732</td>\n",
       "      <td>ur55379996</td>\n",
       "      <td>False</td>\n",
       "      <td>Went to this movie with several family members...</td>\n",
       "      <td>8</td>\n",
       "      <td>Brilliant</td>\n",
       "    </tr>\n",
       "    <tr>\n",
       "      <td>186531</td>\n",
       "      <td>2015-09-22</td>\n",
       "      <td>tt1454468</td>\n",
       "      <td>ur10930023</td>\n",
       "      <td>False</td>\n",
       "      <td>I know this flick is classified as science fic...</td>\n",
       "      <td>2</td>\n",
       "      <td>As vacuous as space itself</td>\n",
       "    </tr>\n",
       "    <tr>\n",
       "      <td>542919</td>\n",
       "      <td>2002-05-18</td>\n",
       "      <td>tt0118571</td>\n",
       "      <td>ur1639009</td>\n",
       "      <td>False</td>\n",
       "      <td>A1 acting and casting.  Story-line excellent b...</td>\n",
       "      <td>10</td>\n",
       "      <td>Excellently acted &amp; portrayed.  Slightly futur...</td>\n",
       "    </tr>\n",
       "    <tr>\n",
       "      <td>420259</td>\n",
       "      <td>2007-12-29</td>\n",
       "      <td>tt0467406</td>\n",
       "      <td>ur17896607</td>\n",
       "      <td>False</td>\n",
       "      <td>I've come to expect good things from Fox Searc...</td>\n",
       "      <td>10</td>\n",
       "      <td>a memorable piece of cinema</td>\n",
       "    </tr>\n",
       "    <tr>\n",
       "      <td>529592</td>\n",
       "      <td>2007-03-04</td>\n",
       "      <td>tt0117731</td>\n",
       "      <td>ur1054286</td>\n",
       "      <td>True</td>\n",
       "      <td>It's a mystery to many people, particularly \"S...</td>\n",
       "      <td>8</td>\n",
       "      <td>One of the Best Trek Films.</td>\n",
       "    </tr>\n",
       "  </tbody>\n",
       "</table>\n",
       "</div>"
      ],
      "text/plain": [
       "       review_date   movie_id     user_id  is_spoiler  \\\n",
       "215749  2014-09-22  tt2872732  ur55379996       False   \n",
       "186531  2015-09-22  tt1454468  ur10930023       False   \n",
       "542919  2002-05-18  tt0118571   ur1639009       False   \n",
       "420259  2007-12-29  tt0467406  ur17896607       False   \n",
       "529592  2007-03-04  tt0117731   ur1054286        True   \n",
       "\n",
       "                                              review_text  rating  \\\n",
       "215749  Went to this movie with several family members...       8   \n",
       "186531  I know this flick is classified as science fic...       2   \n",
       "542919  A1 acting and casting.  Story-line excellent b...      10   \n",
       "420259  I've come to expect good things from Fox Searc...      10   \n",
       "529592  It's a mystery to many people, particularly \"S...       8   \n",
       "\n",
       "                                           review_summary  \n",
       "215749                                          Brilliant  \n",
       "186531                         As vacuous as space itself  \n",
       "542919  Excellently acted & portrayed.  Slightly futur...  \n",
       "420259                        a memorable piece of cinema  \n",
       "529592                        One of the Best Trek Films.  "
      ]
     },
     "execution_count": 2,
     "metadata": {},
     "output_type": "execute_result"
    }
   ],
   "source": [
    "df_reviews = pd.read_json('./data/imdb/IMDB_reviews.json', lines=True).\\\n",
    "             drop_duplicates('review_text').sample(frac=1)\n",
    "df_reviews.review_date = pd.to_datetime(df_reviews.review_date, infer_datetime_format=True)\n",
    "df_reviews.user_id = df_reviews.user_id.astype('category')\n",
    "print(df_reviews.shape)\n",
    "review_fields = [field for field in df_reviews]\n",
    "df_reviews.tail()"
   ]
  },
  {
   "cell_type": "code",
   "execution_count": 3,
   "metadata": {},
   "outputs": [
    {
     "name": "stdout",
     "output_type": "stream",
     "text": [
      "num of spoilers in all: 150856\n",
      "ration of spoilers in all: 0.2631\n",
      "a dummy classifier can achieve acc of 0.7369\n",
      "a rough estimation of how many users declare their reviews as spoilers: 0.1752\n"
     ]
    }
   ],
   "source": [
    "# the total number of spoilers in dataset\n",
    "num_spoilers = sum(df_reviews.is_spoiler)\n",
    "print('num of spoilers in all: %d\\nration of spoilers in all: %.4f\\na dummy classifier can achieve acc of %.4f' \\\n",
    "      % (num_spoilers, num_spoilers / df_reviews.shape[0], \\\n",
    "         1 - num_spoilers / df_reviews.shape[0]))\n",
    "# only less than 20% of the user comments' explicitly say that they contain spoilers\n",
    "num_notice = df_reviews.review_text.str.contains('spoiler', case=False).sum() / \\\n",
    "             df_reviews.is_spoiler.sum()\n",
    "print('a rough estimation of how many users declare their reviews as spoilers: %.4f' % num_notice)"
   ]
  },
  {
   "cell_type": "code",
   "execution_count": null,
   "metadata": {},
   "outputs": [],
   "source": [
    "tokenizer = nlp.data.SpacyTokenizer('en')\n",
    "def get_word_count(x):\n",
    "    return len(tokenizer(x))\n",
    "\n",
    "with mp.Pool() as pool:\n",
    "    length_list = pool.map(get_word_count, df_reviews.review_text)"
   ]
  },
  {
   "cell_type": "code",
   "execution_count": 5,
   "metadata": {},
   "outputs": [
    {
     "name": "stdout",
     "output_type": "stream",
     "text": [
      "the average number of words in a review is: 303\n"
     ]
    }
   ],
   "source": [
    "print('the average number of words in a review is:', round(sum(length_list) / df_reviews.shape[0]))"
   ]
  },
  {
   "cell_type": "code",
   "execution_count": 3,
   "metadata": {},
   "outputs": [
    {
     "name": "stdout",
     "output_type": "stream",
     "text": [
      "(1572, 7)\n"
     ]
    },
    {
     "data": {
      "text/html": [
       "<div>\n",
       "<style scoped>\n",
       "    .dataframe tbody tr th:only-of-type {\n",
       "        vertical-align: middle;\n",
       "    }\n",
       "\n",
       "    .dataframe tbody tr th {\n",
       "        vertical-align: top;\n",
       "    }\n",
       "\n",
       "    .dataframe thead th {\n",
       "        text-align: right;\n",
       "    }\n",
       "</style>\n",
       "<table border=\"1\" class=\"dataframe\">\n",
       "  <thead>\n",
       "    <tr style=\"text-align: right;\">\n",
       "      <th></th>\n",
       "      <th>movie_id</th>\n",
       "      <th>plot_summary</th>\n",
       "      <th>duration</th>\n",
       "      <th>genre</th>\n",
       "      <th>rating</th>\n",
       "      <th>release_date</th>\n",
       "      <th>plot_synopsis</th>\n",
       "    </tr>\n",
       "  </thead>\n",
       "  <tbody>\n",
       "    <tr>\n",
       "      <td>1567</td>\n",
       "      <td>tt0289879</td>\n",
       "      <td>Evan Treborn grows up in a small town with his...</td>\n",
       "      <td>1h 53min</td>\n",
       "      <td>[Sci-Fi, Thriller]</td>\n",
       "      <td>7.7</td>\n",
       "      <td>2004-01-23</td>\n",
       "      <td>In the year 1998, Evan Treborn (Ashton Kutcher...</td>\n",
       "    </tr>\n",
       "    <tr>\n",
       "      <td>1568</td>\n",
       "      <td>tt1723811</td>\n",
       "      <td>Brandon is a 30-something man living in New Yo...</td>\n",
       "      <td>1h 41min</td>\n",
       "      <td>[Drama]</td>\n",
       "      <td>7.2</td>\n",
       "      <td>2012-01-13</td>\n",
       "      <td>Brandon (Michael Fassbender) is a successful, ...</td>\n",
       "    </tr>\n",
       "    <tr>\n",
       "      <td>1569</td>\n",
       "      <td>tt5013056</td>\n",
       "      <td>Evacuation of Allied soldiers from the British...</td>\n",
       "      <td>1h 46min</td>\n",
       "      <td>[Action, Drama, History]</td>\n",
       "      <td>8.1</td>\n",
       "      <td>2017-07-21</td>\n",
       "      <td>The film alternates between three different pe...</td>\n",
       "    </tr>\n",
       "    <tr>\n",
       "      <td>1570</td>\n",
       "      <td>tt0104014/</td>\n",
       "      <td>For a while now, beautiful 24-year-old Diana B...</td>\n",
       "      <td>1h 33min</td>\n",
       "      <td>[Comedy, Drama]</td>\n",
       "      <td>5.3</td>\n",
       "      <td>1992-02-21</td>\n",
       "      <td></td>\n",
       "    </tr>\n",
       "    <tr>\n",
       "      <td>1571</td>\n",
       "      <td>tt0114142/</td>\n",
       "      <td>The marriage of David Burgess, a senior execut...</td>\n",
       "      <td>1h 32min</td>\n",
       "      <td>[Drama, Thriller]</td>\n",
       "      <td>4.0</td>\n",
       "      <td>1999-01-29</td>\n",
       "      <td></td>\n",
       "    </tr>\n",
       "  </tbody>\n",
       "</table>\n",
       "</div>"
      ],
      "text/plain": [
       "        movie_id                                       plot_summary  duration  \\\n",
       "1567   tt0289879  Evan Treborn grows up in a small town with his...  1h 53min   \n",
       "1568   tt1723811  Brandon is a 30-something man living in New Yo...  1h 41min   \n",
       "1569   tt5013056  Evacuation of Allied soldiers from the British...  1h 46min   \n",
       "1570  tt0104014/  For a while now, beautiful 24-year-old Diana B...  1h 33min   \n",
       "1571  tt0114142/  The marriage of David Burgess, a senior execut...  1h 32min   \n",
       "\n",
       "                         genre  rating release_date  \\\n",
       "1567        [Sci-Fi, Thriller]     7.7   2004-01-23   \n",
       "1568                   [Drama]     7.2   2012-01-13   \n",
       "1569  [Action, Drama, History]     8.1   2017-07-21   \n",
       "1570           [Comedy, Drama]     5.3   1992-02-21   \n",
       "1571         [Drama, Thriller]     4.0   1999-01-29   \n",
       "\n",
       "                                          plot_synopsis  \n",
       "1567  In the year 1998, Evan Treborn (Ashton Kutcher...  \n",
       "1568  Brandon (Michael Fassbender) is a successful, ...  \n",
       "1569  The film alternates between three different pe...  \n",
       "1570                                                     \n",
       "1571                                                     "
      ]
     },
     "execution_count": 3,
     "metadata": {},
     "output_type": "execute_result"
    }
   ],
   "source": [
    "# imdb information about the movies\n",
    "df_movies = pd.read_json('./data/imdb/IMDB_movie_details.json', lines=True)\n",
    "df_movies.release_date = pd.to_datetime(df_movies.release_date, infer_datetime_format=True)\n",
    "print(df_movies.shape)\n",
    "df_movies.tail()"
   ]
  },
  {
   "cell_type": "code",
   "execution_count": 4,
   "metadata": {},
   "outputs": [
    {
     "ename": "NameError",
     "evalue": "name 'get_word_count' is not defined",
     "output_type": "error",
     "traceback": [
      "\u001b[1;31m---------------------------------------------------------------------------\u001b[0m",
      "\u001b[1;31mNameError\u001b[0m                                 Traceback (most recent call last)",
      "\u001b[1;32m<ipython-input-4-310d2055d00e>\u001b[0m in \u001b[0;36m<module>\u001b[1;34m\u001b[0m\n\u001b[0;32m      1\u001b[0m \u001b[1;32mwith\u001b[0m \u001b[0mmp\u001b[0m\u001b[1;33m.\u001b[0m\u001b[0mPool\u001b[0m\u001b[1;33m(\u001b[0m\u001b[1;33m)\u001b[0m \u001b[1;32mas\u001b[0m \u001b[0mpool\u001b[0m\u001b[1;33m:\u001b[0m\u001b[1;33m\u001b[0m\u001b[1;33m\u001b[0m\u001b[0m\n\u001b[1;32m----> 2\u001b[1;33m     \u001b[0mlength_list\u001b[0m \u001b[1;33m=\u001b[0m \u001b[0mpool\u001b[0m\u001b[1;33m.\u001b[0m\u001b[0mmap\u001b[0m\u001b[1;33m(\u001b[0m\u001b[0mget_word_count\u001b[0m\u001b[1;33m,\u001b[0m \u001b[0mdf_movies\u001b[0m\u001b[1;33m.\u001b[0m\u001b[0mplot_synopsis\u001b[0m\u001b[1;33m)\u001b[0m\u001b[1;33m\u001b[0m\u001b[1;33m\u001b[0m\u001b[0m\n\u001b[0m\u001b[0;32m      3\u001b[0m print('the average number of words in a plot synopsis is %d' % \\\n\u001b[0;32m      4\u001b[0m       round(sum(length_list) / df_movies.shape[0]))\n",
      "\u001b[1;31mNameError\u001b[0m: name 'get_word_count' is not defined"
     ]
    }
   ],
   "source": [
    "with mp.Pool() as pool:\n",
    "    length_list = pool.map(get_word_count, df_movies.plot_synopsis)\n",
    "print('the average number of words in a plot synopsis is %d' % \\\n",
    "      round(sum(length_list) / df_movies.shape[0]))"
   ]
  },
  {
   "cell_type": "code",
   "execution_count": 5,
   "metadata": {},
   "outputs": [],
   "source": [
    "# join the two dataframe according to movie id\n",
    "df_reviews = df_reviews.merge(df_movies, on=\"movie_id\", how=\"left\", suffixes=('_review','_movie'))"
   ]
  },
  {
   "cell_type": "code",
   "execution_count": 6,
   "metadata": {},
   "outputs": [
    {
     "data": {
      "text/html": [
       "<div>\n",
       "<style scoped>\n",
       "    .dataframe tbody tr th:only-of-type {\n",
       "        vertical-align: middle;\n",
       "    }\n",
       "\n",
       "    .dataframe tbody tr th {\n",
       "        vertical-align: top;\n",
       "    }\n",
       "\n",
       "    .dataframe thead th {\n",
       "        text-align: right;\n",
       "    }\n",
       "</style>\n",
       "<table border=\"1\" class=\"dataframe\">\n",
       "  <thead>\n",
       "    <tr style=\"text-align: right;\">\n",
       "      <th></th>\n",
       "      <th>movie_id</th>\n",
       "      <th>sentence1</th>\n",
       "      <th>sentence2</th>\n",
       "      <th>label</th>\n",
       "    </tr>\n",
       "  </thead>\n",
       "  <tbody>\n",
       "    <tr>\n",
       "      <td>573380</td>\n",
       "      <td>tt2872732</td>\n",
       "      <td>In the opening shot, we see a cell split up in...</td>\n",
       "      <td>Brilliant Went to this movie with several fami...</td>\n",
       "      <td>False</td>\n",
       "    </tr>\n",
       "    <tr>\n",
       "      <td>573381</td>\n",
       "      <td>tt1454468</td>\n",
       "      <td>In 2014/2015, bio-medical engineer Dr. Ryan St...</td>\n",
       "      <td>As vacuous as space itself I know this flick i...</td>\n",
       "      <td>False</td>\n",
       "    </tr>\n",
       "    <tr>\n",
       "      <td>573382</td>\n",
       "      <td>tt0118571</td>\n",
       "      <td>The film begins with an American Special Force...</td>\n",
       "      <td>Excellently acted &amp; portrayed.  Slightly futur...</td>\n",
       "      <td>False</td>\n",
       "    </tr>\n",
       "    <tr>\n",
       "      <td>573383</td>\n",
       "      <td>tt0467406</td>\n",
       "      <td>The film opens with Juno (Ellen Page) staring ...</td>\n",
       "      <td>a memorable piece of cinema I've come to expec...</td>\n",
       "      <td>False</td>\n",
       "    </tr>\n",
       "    <tr>\n",
       "      <td>573384</td>\n",
       "      <td>tt0117731</td>\n",
       "      <td>Captain Jean-Luc Picard awakens from a nightma...</td>\n",
       "      <td>One of the Best Trek Films. It's a mystery to ...</td>\n",
       "      <td>True</td>\n",
       "    </tr>\n",
       "  </tbody>\n",
       "</table>\n",
       "</div>"
      ],
      "text/plain": [
       "         movie_id                                          sentence1  \\\n",
       "573380  tt2872732  In the opening shot, we see a cell split up in...   \n",
       "573381  tt1454468  In 2014/2015, bio-medical engineer Dr. Ryan St...   \n",
       "573382  tt0118571  The film begins with an American Special Force...   \n",
       "573383  tt0467406  The film opens with Juno (Ellen Page) staring ...   \n",
       "573384  tt0117731  Captain Jean-Luc Picard awakens from a nightma...   \n",
       "\n",
       "                                                sentence2  label  \n",
       "573380  Brilliant Went to this movie with several fami...  False  \n",
       "573381  As vacuous as space itself I know this flick i...  False  \n",
       "573382  Excellently acted & portrayed.  Slightly futur...  False  \n",
       "573383  a memorable piece of cinema I've come to expec...  False  \n",
       "573384  One of the Best Trek Films. It's a mystery to ...   True  "
      ]
     },
     "execution_count": 6,
     "metadata": {},
     "output_type": "execute_result"
    }
   ],
   "source": [
    "df_train = pd.DataFrame(columns=['movie_id', 'sentence1', 'sentence2', 'label'])\n",
    "\n",
    "df_train['movie_id'] = df_reviews['movie_id']\n",
    "\n",
    "summaries = pd.Series([re.split('\\s*Written by\\s*\\n', str(plot))[0] for plot in df_reviews['plot_summary']])\n",
    "synopses = pd.Series([str(synopsis) for synopsis in df_reviews['plot_synopsis']])\n",
    "'''\n",
    "num=0\n",
    "for synopsis in synopses:\n",
    "    if len(synopsis)>10:\n",
    "        num+=1\n",
    "print(num)\n",
    "-> output: 538318, most of them has synopses\n",
    "'''\n",
    "df_train['sentence1'] = pd.Series([synopses[i] if len(synopses[i])>len(summaries[i]) else summaries[i] \\\n",
    "                                  for i in range(len(synopses))])\n",
    "df_train['sentence2'] = df_reviews['review_summary'] + ' ' + df_reviews['review_text']\n",
    "df_train['label'] = df_reviews['is_spoiler']\n",
    "df_train.tail()"
   ]
  },
  {
   "cell_type": "code",
   "execution_count": 7,
   "metadata": {
    "scrolled": true
   },
   "outputs": [
    {
     "data": {
      "text/plain": [
       "('tt0245844',\n",
       " \"In the turbulent days in which France was transitioning away from Napoleonic rule, Edmond Dantes (Caviezel) and his closest friend, Fernand Mondego (Pearce), aspire to gain the same two things: the next captaincy of a ship in Morel's (Godfrey) Marseille-based shipping business and the hands of the lovely Mercedes Iguanada (Dominczyk).Dantes and Mondego are diverted to Elba on a shipping mission because their captain requires medical attention. Assistance comes, unexpectedly, in the form of the personal physician of the exiled Napoleon (Norton). In return for the use of his doctor, Napoleon demands that Dantes deliver a letter for him and that the mission and the letter be kept a secret. Unknown to the illiterate Dantes, the letter will provide Bonapartists in Marseille information of pertinence to a possible rescue of Napoleon. Also unknown to him, Fernand has discovered and read the letter and has full knowledge of its contents.On his return to France, Dantes's fortunes peak as Morel names him captain of one of his ships and an improved station in life prompts Edmond to propose to Mercedes, who accepts the offer. In the process of being beaten out of the two things that matter most to him in life, the jealous Fernand knows that the letter Dantes is carrying can be used to falsely implicate him in an act that might be viewed by local authorities as treasonous. Fernand, and his confidant, shipping colleague Danglars (Woodington), betray Dantes by making the magistrate Villefort (Frain) aware of the letter.Dantes is taken by local authorities in front of Villefort. Despite his determination that Dantes is innocent of any crime, he becomes edgy upon learning that the letter was addressed to Noirtier Villefort, a known Bonpartist, and, consequently, a politically inconvenient father for a young man aspiring to a prominent law career in post-Napoleonic France. To eliminate all evidence that his father was involved in plans for an escape attempt by Napoleon from Elba, Villefort burns the letter and has Dantes arrested and taken to the Chateau D'If, a maximum security prison, where Dantes rots for over a decade, with no prospects of getting out in the imaginable future.Dantes befriends a fellow prisoner named Abbe Faria (Harris), who is a great scholar and who, very gradually, transforms the unworldly Dantes into a wise, learned and cultivated man. Faria is an old man, however, and when he comes to realize that he is fatally ill, he tells Dantes of a great treasure and where it is buried.Secretly placing himself in Faria's burial sack, which is to be thrown over the cliffs and into the river alongside the prison, Dantes manages to escape. After a dangerous ordeal in which he mingles with, but ultimately befriends, an enterprising, yet violent, group of smugglers led by Luigi Vampa (Blanc), he makes his way back to Marseilles. Dantes now turns his attention to claiming the treasure Abbe Faria had referred to.After locating the treasure, Dantes's riches are suddenly boundless, but rather than retiring to a life of leisure, his new raison d'etre is vengeance, with the objects of his revenge being Fernand (now a count), Danglars (now a baron), and Villefort (now a chief prosecutor), all of whom live in Paris. As they are now members of Parisian high society, Dantes realizes that to gain access to them, he'll need to reinvent himself, and uses some of his newfound riches to purchase a huge estate near Paris. He then proclaims himself to be the Count of Monte Cristo, and although nobody knows of him, his claim is very credible in view of his visibly substantial wealth.The Count plans a party at his new estate and invites many members of Parisian high society, including all the objects of his vengeance. Now having considerable access to each of them, one at a time, he successfully sets them up for failure. Danglars is tricked into an act of embezzlement and Villefort is tricked into confessing to conspiracy to have his own father murdered within earshot of local authorities.The Count gains close access to Fernand and Mercedes, who are now husband and wife, by paying the smuggler Luigi Vampa to pretend to kidnap their son, Albert. This enables the Count himself to save Albert. Having saved their son, the Count is now welcome in the home of Fernand and Mercedes.Taking note of his mannerisms, Mercedes soon works out that the Count is actually Edmond Dantes, but the Count still has a bone to pick with her, as she married Fernand very shortly after his arrest and had Fernand's son, Albert (Cavill), not long after that. This seemed a sign of her infidelity, but the Count ultimately learns that Villefort had announced that Dantes was dead shortly after the onset of his imprisonment. Fernand, it turns out, had bargained for this announcement, from which he hoped to gain the hand of Mercedes, by murdering, at Villefort's request, Villefort's father. Now understanding that Mercedes had believed him dead, the Count is less incensed by her marriage to Fernand, but still finds the very short period of time between his imprisonment and their marriage very unsettling.The Count is about to turn his back completely on Mercedes. But then, Fernand's financial ruin from compulsive gambling compels him to leave Paris to evade his debtors, against whom he has committed crimes. Unwilling to follow Fernand with their son, Mercedes, finally, tells the Count the truth ---- she had married Fernand because she had, unknown to the Count, been impregnated by Dantes shortly before he was arrested. She wanted Albert to have a father. In truth, however, Albert's biological father is the Count himself.Finally willing to forgive her, the Count falls in love all over again with Mercedes, and, with those who had betrayed them out of the way, they resolve to live their lives, casting aside the dark and regrettable episodes which had robbed them of so many happy times with each other and with their son Albert.\")"
      ]
     },
     "execution_count": 7,
     "metadata": {},
     "output_type": "execute_result"
    }
   ],
   "source": [
    "df_train['movie_id'][233], df_train['sentence1'][233]"
   ]
  },
  {
   "cell_type": "markdown",
   "metadata": {},
   "source": [
    "## Save the processed data for future use"
   ]
  },
  {
   "cell_type": "code",
   "execution_count": 8,
   "metadata": {},
   "outputs": [
    {
     "name": "stdout",
     "output_type": "stream",
     "text": [
      "# of rows before dropping incomplete entries: 573385\n",
      "# of rows after dropping incomplete entries: 573385\n"
     ]
    },
    {
     "data": {
      "text/html": [
       "<div>\n",
       "<style scoped>\n",
       "    .dataframe tbody tr th:only-of-type {\n",
       "        vertical-align: middle;\n",
       "    }\n",
       "\n",
       "    .dataframe tbody tr th {\n",
       "        vertical-align: top;\n",
       "    }\n",
       "\n",
       "    .dataframe thead th {\n",
       "        text-align: right;\n",
       "    }\n",
       "</style>\n",
       "<table border=\"1\" class=\"dataframe\">\n",
       "  <thead>\n",
       "    <tr style=\"text-align: right;\">\n",
       "      <th></th>\n",
       "      <th>movie_id</th>\n",
       "      <th>sentence1</th>\n",
       "      <th>sentence2</th>\n",
       "      <th>label</th>\n",
       "    </tr>\n",
       "  </thead>\n",
       "  <tbody>\n",
       "    <tr>\n",
       "      <td>0</td>\n",
       "      <td>tt0097576</td>\n",
       "      <td>The story opens in Monument Valley, Utah, in 1...</td>\n",
       "      <td>Chemistry between Ford and Connery puts this f...</td>\n",
       "      <td>False</td>\n",
       "    </tr>\n",
       "    <tr>\n",
       "      <td>1</td>\n",
       "      <td>tt2488496</td>\n",
       "      <td>Luke Skywalker has vanished. In his absence, t...</td>\n",
       "      <td>You did it, J.J. ... You have ruined Star Wars...</td>\n",
       "      <td>True</td>\n",
       "    </tr>\n",
       "    <tr>\n",
       "      <td>2</td>\n",
       "      <td>tt0407887</td>\n",
       "      <td>In voiceover, Irish-American mobster Frank Cos...</td>\n",
       "      <td>No respect! This remake of \"Internal Affairs\",...</td>\n",
       "      <td>False</td>\n",
       "    </tr>\n",
       "    <tr>\n",
       "      <td>3</td>\n",
       "      <td>tt0209144</td>\n",
       "      <td>This is a complex story about Leonard Shelby (...</td>\n",
       "      <td>Scientific and psychological thriller. Who kne...</td>\n",
       "      <td>True</td>\n",
       "    </tr>\n",
       "    <tr>\n",
       "      <td>4</td>\n",
       "      <td>tt1285016</td>\n",
       "      <td>In October 2003, Harvard University student Ma...</td>\n",
       "      <td>A Grossly Overrated But Still Very Good Film A...</td>\n",
       "      <td>False</td>\n",
       "    </tr>\n",
       "  </tbody>\n",
       "</table>\n",
       "</div>"
      ],
      "text/plain": [
       "    movie_id                                          sentence1  \\\n",
       "0  tt0097576  The story opens in Monument Valley, Utah, in 1...   \n",
       "1  tt2488496  Luke Skywalker has vanished. In his absence, t...   \n",
       "2  tt0407887  In voiceover, Irish-American mobster Frank Cos...   \n",
       "3  tt0209144  This is a complex story about Leonard Shelby (...   \n",
       "4  tt1285016  In October 2003, Harvard University student Ma...   \n",
       "\n",
       "                                           sentence2  label  \n",
       "0  Chemistry between Ford and Connery puts this f...  False  \n",
       "1  You did it, J.J. ... You have ruined Star Wars...   True  \n",
       "2  No respect! This remake of \"Internal Affairs\",...  False  \n",
       "3  Scientific and psychological thriller. Who kne...   True  \n",
       "4  A Grossly Overrated But Still Very Good Film A...  False  "
      ]
     },
     "execution_count": 8,
     "metadata": {},
     "output_type": "execute_result"
    }
   ],
   "source": [
    "print('# of rows before dropping incomplete entries:', df_train.shape[0])\n",
    "dt_train=df_train.dropna()\n",
    "print('# of rows after dropping incomplete entries:', df_train.shape[0])\n",
    "df_train.to_csv('./data/imdb/train.csv', index=False)\n",
    "df_train.head()"
   ]
  },
  {
   "cell_type": "code",
   "execution_count": null,
   "metadata": {},
   "outputs": [],
   "source": []
  }
 ],
 "metadata": {
  "kernelspec": {
   "display_name": "Python 3",
   "language": "python",
   "name": "python3"
  },
  "language_info": {
   "codemirror_mode": {
    "name": "ipython",
    "version": 3
   },
   "file_extension": ".py",
   "mimetype": "text/x-python",
   "name": "python",
   "nbconvert_exporter": "python",
   "pygments_lexer": "ipython3",
   "version": "3.7.4"
  }
 },
 "nbformat": 4,
 "nbformat_minor": 2
}
