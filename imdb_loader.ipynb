{
 "cells": [
  {
   "cell_type": "code",
   "execution_count": 1,
   "metadata": {},
   "outputs": [],
   "source": [
    "import json\n",
    "import numpy as np\n",
    "import pandas as pd\n",
    "import csv\n",
    "import gluonnlp as nlp\n",
    "import multiprocessing as mp\n",
    "import re"
   ]
  },
  {
   "cell_type": "markdown",
   "metadata": {},
   "source": [
    "## Load and merge the data\n",
    "The source is Kaggle, [IMDB Spoiler Dataset](https://www.kaggle.com/rmisra/imdb-spoiler-dataset). The downloaded zip includes two files, we will demonstrate some of their contents below."
   ]
  },
  {
   "cell_type": "code",
   "execution_count": 2,
   "metadata": {},
   "outputs": [
    {
     "name": "stdout",
     "output_type": "stream",
     "text": [
      "(573385, 7)\n"
     ]
    },
    {
     "data": {
      "text/html": [
       "<div>\n",
       "<style scoped>\n",
       "    .dataframe tbody tr th:only-of-type {\n",
       "        vertical-align: middle;\n",
       "    }\n",
       "\n",
       "    .dataframe tbody tr th {\n",
       "        vertical-align: top;\n",
       "    }\n",
       "\n",
       "    .dataframe thead th {\n",
       "        text-align: right;\n",
       "    }\n",
       "</style>\n",
       "<table border=\"1\" class=\"dataframe\">\n",
       "  <thead>\n",
       "    <tr style=\"text-align: right;\">\n",
       "      <th></th>\n",
       "      <th>review_date</th>\n",
       "      <th>movie_id</th>\n",
       "      <th>user_id</th>\n",
       "      <th>is_spoiler</th>\n",
       "      <th>review_text</th>\n",
       "      <th>rating</th>\n",
       "      <th>review_summary</th>\n",
       "    </tr>\n",
       "  </thead>\n",
       "  <tbody>\n",
       "    <tr>\n",
       "      <td>168708</td>\n",
       "      <td>2012-05-20</td>\n",
       "      <td>tt1605630</td>\n",
       "      <td>ur4732215</td>\n",
       "      <td>False</td>\n",
       "      <td>I remember when i was just a little kid watchi...</td>\n",
       "      <td>8</td>\n",
       "      <td>The gang is back and im loving it!</td>\n",
       "    </tr>\n",
       "    <tr>\n",
       "      <td>511313</td>\n",
       "      <td>1999-11-09</td>\n",
       "      <td>tt0109707</td>\n",
       "      <td>ur0498475</td>\n",
       "      <td>False</td>\n",
       "      <td>The director of great visual masterpieces such...</td>\n",
       "      <td>9</td>\n",
       "      <td>Funny, touching, inspired, well acted Tim Burt...</td>\n",
       "    </tr>\n",
       "    <tr>\n",
       "      <td>362439</td>\n",
       "      <td>2005-05-02</td>\n",
       "      <td>tt0349683</td>\n",
       "      <td>ur5241654</td>\n",
       "      <td>False</td>\n",
       "      <td>This King Arthur was the best, most realistic ...</td>\n",
       "      <td>9</td>\n",
       "      <td>Best Arthur I have ever scene.</td>\n",
       "    </tr>\n",
       "    <tr>\n",
       "      <td>303744</td>\n",
       "      <td>2006-08-06</td>\n",
       "      <td>tt0244244</td>\n",
       "      <td>ur4555708</td>\n",
       "      <td>False</td>\n",
       "      <td>My head is still shaking in disbelief after kn...</td>\n",
       "      <td>1</td>\n",
       "      <td>Godawful ridiculous no-brain movie</td>\n",
       "    </tr>\n",
       "    <tr>\n",
       "      <td>108624</td>\n",
       "      <td>2015-08-20</td>\n",
       "      <td>tt2193021</td>\n",
       "      <td>ur59669062</td>\n",
       "      <td>False</td>\n",
       "      <td>I haven't watched a series live since literall...</td>\n",
       "      <td>10</td>\n",
       "      <td>I hate TV...I love this....</td>\n",
       "    </tr>\n",
       "  </tbody>\n",
       "</table>\n",
       "</div>"
      ],
      "text/plain": [
       "       review_date   movie_id     user_id  is_spoiler  \\\n",
       "168708  2012-05-20  tt1605630   ur4732215       False   \n",
       "511313  1999-11-09  tt0109707   ur0498475       False   \n",
       "362439  2005-05-02  tt0349683   ur5241654       False   \n",
       "303744  2006-08-06  tt0244244   ur4555708       False   \n",
       "108624  2015-08-20  tt2193021  ur59669062       False   \n",
       "\n",
       "                                              review_text  rating  \\\n",
       "168708  I remember when i was just a little kid watchi...       8   \n",
       "511313  The director of great visual masterpieces such...       9   \n",
       "362439  This King Arthur was the best, most realistic ...       9   \n",
       "303744  My head is still shaking in disbelief after kn...       1   \n",
       "108624  I haven't watched a series live since literall...      10   \n",
       "\n",
       "                                           review_summary  \n",
       "168708                 The gang is back and im loving it!  \n",
       "511313  Funny, touching, inspired, well acted Tim Burt...  \n",
       "362439                     Best Arthur I have ever scene.  \n",
       "303744                 Godawful ridiculous no-brain movie  \n",
       "108624                        I hate TV...I love this....  "
      ]
     },
     "execution_count": 2,
     "metadata": {},
     "output_type": "execute_result"
    }
   ],
   "source": [
    "df_reviews = pd.read_json('./data/imdb/IMDB_reviews.json', lines=True).\\\n",
    "             drop_duplicates('review_text').sample(frac=1)\n",
    "df_reviews.review_date = pd.to_datetime(df_reviews.review_date, infer_datetime_format=True)\n",
    "df_reviews.user_id = df_reviews.user_id.astype('category')\n",
    "print(df_reviews.shape)\n",
    "review_fields = [field for field in df_reviews]\n",
    "df_reviews.tail()"
   ]
  },
  {
   "cell_type": "code",
   "execution_count": 3,
   "metadata": {},
   "outputs": [
    {
     "name": "stdout",
     "output_type": "stream",
     "text": [
      "num of spoilers in all: 150856\n",
      "ration of spoilers in all: 0.2631\n",
      "a dummy classifier can achieve acc of 0.7369\n",
      "a rough estimation of how many users declare their reviews as spoilers: 0.1752\n"
     ]
    }
   ],
   "source": [
    "# the total number of spoilers in dataset\n",
    "num_spoilers = sum(df_reviews.is_spoiler)\n",
    "print('num of spoilers in all: %d\\nration of spoilers in all: %.4f\\na dummy classifier can achieve acc of %.4f' \\\n",
    "      % (num_spoilers, num_spoilers / df_reviews.shape[0], \\\n",
    "         1 - num_spoilers / df_reviews.shape[0]))\n",
    "# only less than 20% of the user comments' explicitly say that they contain spoilers\n",
    "num_notice = df_reviews.review_text.str.contains('spoiler', case=False).sum() / \\\n",
    "             df_reviews.is_spoiler.sum()\n",
    "print('a rough estimation of how many users declare their reviews as spoilers: %.4f' % num_notice)"
   ]
  },
  {
   "cell_type": "code",
   "execution_count": 4,
   "metadata": {},
   "outputs": [],
   "source": [
    "tokenizer = nlp.data.SpacyTokenizer('en')\n",
    "def get_word_count(x):\n",
    "    return len(tokenizer(x))\n",
    "\n",
    "with mp.Pool() as pool:\n",
    "    length_list = pool.map(get_word_count, df_reviews.review_text)"
   ]
  },
  {
   "cell_type": "code",
   "execution_count": 5,
   "metadata": {},
   "outputs": [
    {
     "name": "stdout",
     "output_type": "stream",
     "text": [
      "the average number of words in a review is: 303\n"
     ]
    }
   ],
   "source": [
    "print('the average number of words in a review is:', round(sum(length_list) / df_reviews.shape[0]))"
   ]
  },
  {
   "cell_type": "code",
   "execution_count": 6,
   "metadata": {},
   "outputs": [
    {
     "name": "stdout",
     "output_type": "stream",
     "text": [
      "(1572, 7)\n"
     ]
    },
    {
     "data": {
      "text/html": [
       "<div>\n",
       "<style scoped>\n",
       "    .dataframe tbody tr th:only-of-type {\n",
       "        vertical-align: middle;\n",
       "    }\n",
       "\n",
       "    .dataframe tbody tr th {\n",
       "        vertical-align: top;\n",
       "    }\n",
       "\n",
       "    .dataframe thead th {\n",
       "        text-align: right;\n",
       "    }\n",
       "</style>\n",
       "<table border=\"1\" class=\"dataframe\">\n",
       "  <thead>\n",
       "    <tr style=\"text-align: right;\">\n",
       "      <th></th>\n",
       "      <th>duration</th>\n",
       "      <th>genre</th>\n",
       "      <th>movie_id</th>\n",
       "      <th>plot_summary</th>\n",
       "      <th>plot_synopsis</th>\n",
       "      <th>rating</th>\n",
       "      <th>release_date</th>\n",
       "    </tr>\n",
       "  </thead>\n",
       "  <tbody>\n",
       "    <tr>\n",
       "      <th>1567</th>\n",
       "      <td>1h 53min</td>\n",
       "      <td>[Sci-Fi, Thriller]</td>\n",
       "      <td>tt0289879</td>\n",
       "      <td>Evan Treborn grows up in a small town with his...</td>\n",
       "      <td>In the year 1998, Evan Treborn (Ashton Kutcher...</td>\n",
       "      <td>7.7</td>\n",
       "      <td>2004-01-23</td>\n",
       "    </tr>\n",
       "    <tr>\n",
       "      <th>1568</th>\n",
       "      <td>1h 41min</td>\n",
       "      <td>[Drama]</td>\n",
       "      <td>tt1723811</td>\n",
       "      <td>Brandon is a 30-something man living in New Yo...</td>\n",
       "      <td>Brandon (Michael Fassbender) is a successful, ...</td>\n",
       "      <td>7.2</td>\n",
       "      <td>2012-01-13</td>\n",
       "    </tr>\n",
       "    <tr>\n",
       "      <th>1569</th>\n",
       "      <td>1h 46min</td>\n",
       "      <td>[Action, Drama, History]</td>\n",
       "      <td>tt5013056</td>\n",
       "      <td>Evacuation of Allied soldiers from the British...</td>\n",
       "      <td>The film alternates between three different pe...</td>\n",
       "      <td>8.1</td>\n",
       "      <td>2017-07-21</td>\n",
       "    </tr>\n",
       "    <tr>\n",
       "      <th>1570</th>\n",
       "      <td>1h 33min</td>\n",
       "      <td>[Comedy, Drama]</td>\n",
       "      <td>tt0104014/</td>\n",
       "      <td>For a while now, beautiful 24-year-old Diana B...</td>\n",
       "      <td></td>\n",
       "      <td>5.3</td>\n",
       "      <td>1992-02-21</td>\n",
       "    </tr>\n",
       "    <tr>\n",
       "      <th>1571</th>\n",
       "      <td>1h 32min</td>\n",
       "      <td>[Drama, Thriller]</td>\n",
       "      <td>tt0114142/</td>\n",
       "      <td>The marriage of David Burgess, a senior execut...</td>\n",
       "      <td></td>\n",
       "      <td>4.0</td>\n",
       "      <td>1999-01-29</td>\n",
       "    </tr>\n",
       "  </tbody>\n",
       "</table>\n",
       "</div>"
      ],
      "text/plain": [
       "      duration                     genre    movie_id  \\\n",
       "1567  1h 53min        [Sci-Fi, Thriller]   tt0289879   \n",
       "1568  1h 41min                   [Drama]   tt1723811   \n",
       "1569  1h 46min  [Action, Drama, History]   tt5013056   \n",
       "1570  1h 33min           [Comedy, Drama]  tt0104014/   \n",
       "1571  1h 32min         [Drama, Thriller]  tt0114142/   \n",
       "\n",
       "                                           plot_summary  \\\n",
       "1567  Evan Treborn grows up in a small town with his...   \n",
       "1568  Brandon is a 30-something man living in New Yo...   \n",
       "1569  Evacuation of Allied soldiers from the British...   \n",
       "1570  For a while now, beautiful 24-year-old Diana B...   \n",
       "1571  The marriage of David Burgess, a senior execut...   \n",
       "\n",
       "                                          plot_synopsis  rating release_date  \n",
       "1567  In the year 1998, Evan Treborn (Ashton Kutcher...     7.7   2004-01-23  \n",
       "1568  Brandon (Michael Fassbender) is a successful, ...     7.2   2012-01-13  \n",
       "1569  The film alternates between three different pe...     8.1   2017-07-21  \n",
       "1570                                                        5.3   1992-02-21  \n",
       "1571                                                        4.0   1999-01-29  "
      ]
     },
     "execution_count": 6,
     "metadata": {},
     "output_type": "execute_result"
    }
   ],
   "source": [
    "# imdb information about the movies\n",
    "df_movies = pd.read_json('./data/imdb/IMDB_movie_details.json', lines=True)\n",
    "df_movies.release_date = pd.to_datetime(df_movies.release_date, infer_datetime_format=True)\n",
    "print(df_movies.shape)\n",
    "df_movies.tail()"
   ]
  },
  {
   "cell_type": "code",
   "execution_count": 7,
   "metadata": {},
   "outputs": [
    {
     "name": "stdout",
     "output_type": "stream",
     "text": [
      "the average number of words in a plot summary is 120\n"
     ]
    }
   ],
   "source": [
    "with mp.Pool() as pool:\n",
    "    length_list = pool.map(get_word_count, df_movies.plot_summary)\n",
    "print('the average number of words in a plot summary is %d' % \\\n",
    "      round(sum(length_list) / df_movies.shape[0]))"
   ]
  },
  {
   "cell_type": "code",
   "execution_count": 8,
   "metadata": {},
   "outputs": [],
   "source": [
    "# join the two dataframe according to movie id\n",
    "df_reviews = df_reviews.merge(df_movies, on=\"movie_id\",how=\"left\",suffixes=('_review','_movie'))"
   ]
  },
  {
   "cell_type": "code",
   "execution_count": 24,
   "metadata": {},
   "outputs": [
    {
     "data": {
      "text/html": [
       "<div>\n",
       "<style scoped>\n",
       "    .dataframe tbody tr th:only-of-type {\n",
       "        vertical-align: middle;\n",
       "    }\n",
       "\n",
       "    .dataframe tbody tr th {\n",
       "        vertical-align: top;\n",
       "    }\n",
       "\n",
       "    .dataframe thead th {\n",
       "        text-align: right;\n",
       "    }\n",
       "</style>\n",
       "<table border=\"1\" class=\"dataframe\">\n",
       "  <thead>\n",
       "    <tr style=\"text-align: right;\">\n",
       "      <th></th>\n",
       "      <th>sentence1</th>\n",
       "      <th>sentence2</th>\n",
       "      <th>label</th>\n",
       "    </tr>\n",
       "  </thead>\n",
       "  <tbody>\n",
       "    <tr>\n",
       "      <th>573380</th>\n",
       "      <td>Once again we're plunged into the world of swo...</td>\n",
       "      <td>Don't watch it! Its a piece of sh*t made for m...</td>\n",
       "      <td>False</td>\n",
       "    </tr>\n",
       "    <tr>\n",
       "      <th>573381</th>\n",
       "      <td>Garland's novel centers on a young nicotine-ad...</td>\n",
       "      <td>Read the novel, it's a lot better then the fil...</td>\n",
       "      <td>False</td>\n",
       "    </tr>\n",
       "    <tr>\n",
       "      <th>573382</th>\n",
       "      <td>The story of Seita and Satsuko, two young Japa...</td>\n",
       "      <td>More moving than you could ever expect This fi...</td>\n",
       "      <td>False</td>\n",
       "    </tr>\n",
       "    <tr>\n",
       "      <th>573383</th>\n",
       "      <td>Epic adventure Exodus: Gods and Kings is the s...</td>\n",
       "      <td>A MOVIE! and a rarity-a thought provoking movi...</td>\n",
       "      <td>True</td>\n",
       "    </tr>\n",
       "    <tr>\n",
       "      <th>573384</th>\n",
       "      <td>Incarcerated and charged with murder, David Aa...</td>\n",
       "      <td>less than meets the eye (spoilers) This film i...</td>\n",
       "      <td>False</td>\n",
       "    </tr>\n",
       "  </tbody>\n",
       "</table>\n",
       "</div>"
      ],
      "text/plain": [
       "                                                sentence1  \\\n",
       "573380  Once again we're plunged into the world of swo...   \n",
       "573381  Garland's novel centers on a young nicotine-ad...   \n",
       "573382  The story of Seita and Satsuko, two young Japa...   \n",
       "573383  Epic adventure Exodus: Gods and Kings is the s...   \n",
       "573384  Incarcerated and charged with murder, David Aa...   \n",
       "\n",
       "                                                sentence2  label  \n",
       "573380  Don't watch it! Its a piece of sh*t made for m...  False  \n",
       "573381  Read the novel, it's a lot better then the fil...  False  \n",
       "573382  More moving than you could ever expect This fi...  False  \n",
       "573383  A MOVIE! and a rarity-a thought provoking movi...   True  \n",
       "573384  less than meets the eye (spoilers) This film i...  False  "
      ]
     },
     "execution_count": 24,
     "metadata": {},
     "output_type": "execute_result"
    }
   ],
   "source": [
    "columns_keep = ['is_spoiler', 'movie_id', 'plot_summary', 'review_summary', 'review_text',]\n",
    "all_columns = [review for review in df_reviews]\n",
    "for x in columns_keep:\n",
    "    all_columns.remove(x)\n",
    "df_train = pd.DataFrame(columns=['sentence1', 'sentence2', 'label'])\n",
    "df_train['sentence1'] = pd.Series([re.split('\\s*Written by\\s*\\n', str(plot))[0] for plot in df_reviews['plot_summary']])\n",
    "df_train['sentence2'] = df_reviews['review_summary'] + ' ' + df_reviews['review_text']\n",
    "df_train['label'] = df_reviews['is_spoiler']\n",
    "df_train.tail()"
   ]
  },
  {
   "cell_type": "code",
   "execution_count": 31,
   "metadata": {},
   "outputs": [
    {
     "data": {
      "text/plain": [
       "'Inside a snowflake exists the magical land of Whoville. In Whoville, live the Whos, an almost mutated sort of munchkinlike people. All the Whos love Christmas, yet just outside of their beloved Whoville lives the Grinch. The Grinch is a nasty creature that hates Christmas, and plots to steal it away from the Whos which he equally abhors. Yet a small child, Cindy Lou Who, decides to try befriend the Grinch.'"
      ]
     },
     "execution_count": 31,
     "metadata": {},
     "output_type": "execute_result"
    }
   ],
   "source": [
    "df_train['sentence1'][0]"
   ]
  },
  {
   "cell_type": "markdown",
   "metadata": {},
   "source": [
    "## Save the processed data for future use"
   ]
  },
  {
   "cell_type": "code",
   "execution_count": 32,
   "metadata": {},
   "outputs": [
    {
     "name": "stdout",
     "output_type": "stream",
     "text": [
      "# of rows before dropping incomplete entries: 573385\n",
      "# of rows after dropping incomplete entries: 573385\n"
     ]
    },
    {
     "data": {
      "text/html": [
       "<div>\n",
       "<style scoped>\n",
       "    .dataframe tbody tr th:only-of-type {\n",
       "        vertical-align: middle;\n",
       "    }\n",
       "\n",
       "    .dataframe tbody tr th {\n",
       "        vertical-align: top;\n",
       "    }\n",
       "\n",
       "    .dataframe thead th {\n",
       "        text-align: right;\n",
       "    }\n",
       "</style>\n",
       "<table border=\"1\" class=\"dataframe\">\n",
       "  <thead>\n",
       "    <tr style=\"text-align: right;\">\n",
       "      <th></th>\n",
       "      <th>sentence1</th>\n",
       "      <th>sentence2</th>\n",
       "      <th>label</th>\n",
       "    </tr>\n",
       "  </thead>\n",
       "  <tbody>\n",
       "    <tr>\n",
       "      <th>0</th>\n",
       "      <td>Inside a snowflake exists the magical land of ...</td>\n",
       "      <td>Great one but doesn't set up there with the or...</td>\n",
       "      <td>False</td>\n",
       "    </tr>\n",
       "    <tr>\n",
       "      <th>1</th>\n",
       "      <td>In an ancient time, predating the pyramids, th...</td>\n",
       "      <td>TSK: A Mildly Amusing Romp...But No People's E...</td>\n",
       "      <td>False</td>\n",
       "    </tr>\n",
       "    <tr>\n",
       "      <th>2</th>\n",
       "      <td>James Bond goes on his first ever mission as a...</td>\n",
       "      <td>Why all the accolades? I have to tell you that...</td>\n",
       "      <td>False</td>\n",
       "    </tr>\n",
       "    <tr>\n",
       "      <th>3</th>\n",
       "      <td>The Lost City of Z tells the incredible true s...</td>\n",
       "      <td>Movie fell down I read this book many years ag...</td>\n",
       "      <td>False</td>\n",
       "    </tr>\n",
       "    <tr>\n",
       "      <th>4</th>\n",
       "      <td>This is the tale of Harry Potter, an ordinary ...</td>\n",
       "      <td>Gryffindor 150, Muggle Director 0 After readin...</td>\n",
       "      <td>False</td>\n",
       "    </tr>\n",
       "  </tbody>\n",
       "</table>\n",
       "</div>"
      ],
      "text/plain": [
       "                                           sentence1  \\\n",
       "0  Inside a snowflake exists the magical land of ...   \n",
       "1  In an ancient time, predating the pyramids, th...   \n",
       "2  James Bond goes on his first ever mission as a...   \n",
       "3  The Lost City of Z tells the incredible true s...   \n",
       "4  This is the tale of Harry Potter, an ordinary ...   \n",
       "\n",
       "                                           sentence2  label  \n",
       "0  Great one but doesn't set up there with the or...  False  \n",
       "1  TSK: A Mildly Amusing Romp...But No People's E...  False  \n",
       "2  Why all the accolades? I have to tell you that...  False  \n",
       "3  Movie fell down I read this book many years ag...  False  \n",
       "4  Gryffindor 150, Muggle Director 0 After readin...  False  "
      ]
     },
     "execution_count": 32,
     "metadata": {},
     "output_type": "execute_result"
    }
   ],
   "source": [
    "print('# of rows before dropping incomplete entries:', df_train.shape[0])\n",
    "dt_train=df_train.dropna()\n",
    "print('# of rows after dropping incomplete entries:', df_train.shape[0])\n",
    "df_train.to_csv('./data/imdb/train.csv', index=False)\n",
    "df_train.head()"
   ]
  }
 ],
 "metadata": {
  "kernelspec": {
   "display_name": "Python 3",
   "language": "python",
   "name": "python3"
  },
  "language_info": {
   "codemirror_mode": {
    "name": "ipython",
    "version": 3
   },
   "file_extension": ".py",
   "mimetype": "text/x-python",
   "name": "python",
   "nbconvert_exporter": "python",
   "pygments_lexer": "ipython3",
   "version": "3.7.4"
  }
 },
 "nbformat": 4,
 "nbformat_minor": 2
}
