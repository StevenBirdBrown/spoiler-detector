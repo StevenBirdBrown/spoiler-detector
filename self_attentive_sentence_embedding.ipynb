{
 "cells": [
  {
   "cell_type": "markdown",
   "metadata": {},
   "source": [
    "# A Structured Self-attentive Sentence Embedding\n",
    "\n",
    "After word embedding is applied to the representation of words, natural language processing(NLP) has been effectively improved in many ways. Along with the widespread use of word embedding, many techniques have been developed to express the semantics of sentences by words, such as:\n",
    "1. The vector representation of multiple words in a sentence is concatenated or weighted to obtain a vector to represent the sentence.\n",
    "2. Convolution(CNN) and maximum pooling(MaxPooling) on the matrix of all the word vectors of the sentence, using the final result to represent the semantics of the sentence.\n",
    "3. Unroll the sentence according to the time step of the word, input the vector representation of each word into a recurrent neural network(RNN), and use the output of the last time step of the RNN as the semantic representation of the sentence.\n",
    "\n",
    "The above method solves the problem of sentence meaning in a certain extent in many aspects. When concatenating is used in method one, if the word of the sentence is too long and the vector dimension of the word is slightly larger, then the vector dimension of the sentence will be particularly large, and the internal interaction between the words of the sentence is not taken into account. The use of weighted averaging is not accurate and does not adequately express the impact of each word on sentence semantics. Many useful word meanings may be lost in Method2. The third method selects the output of the last step. If the sentence is too long, the output of the last step does not accurately express the semantics of the sentence.\n",
    "\n",
    "Based on the above mentioned method, Zhouhan Lin, Minwei Feng et al. published a paper [A Structured Self-attentive Sentence Embedding](https://arxiv.org/pdf/1703.03130.pdf)[1] in 2017, proposed a method based on self-attention structure for sentence embedding and applied to user's reviews classification, textual entailment and other tasks. In the end, good results were obtained.\n",
    "\n",
    "In this tutorial, we will use [GluonNLP](https://gluon-nlp.mxnet.io/index.html) to reproduce the model structure in \"A Structured Self-attentive Sentence Embedding\" and apply it to [Yelp Data's review star rating data set](https://www.yelp.com/dataset/challenge) for classification.\n",
    "\n",
    "## Import Related Packages"
   ]
  },
  {
   "cell_type": "code",
   "execution_count": 1,
   "metadata": {},
   "outputs": [],
   "source": [
    "import os\n",
    "import json\n",
    "import zipfile\n",
    "import time\n",
    "import itertools\n",
    "\n",
    "import numpy as np\n",
    "import mxnet as mx\n",
    "import multiprocessing as mp\n",
    "import gluonnlp as nlp\n",
    "\n",
    "from mxnet import gluon, nd, init\n",
    "from mxnet.gluon import nn, rnn\n",
    "from mxnet import autograd, gluon, nd\n",
    "from d2l import try_gpu\n",
    "import pandas as pd\n",
    "\n",
    "# iUse sklearn's metric function to evaluate the results of the experiment\n",
    "from sklearn.metrics import accuracy_score, f1_score\n",
    "\n",
    "# fixed random number seed\n",
    "np.random.seed(2018)\n",
    "mx.random.seed(2018)"
   ]
  },
  {
   "cell_type": "markdown",
   "metadata": {},
   "source": [
    "## Data pipeline\n",
    "\n",
    "### Load The Reviews of Yelp Data\n",
    "\n",
    "[Yelp users' review dataset](https://www.kaggle.com/yelp-dataset/yelp-dataset) is formatted as json. The original paper selected 500K documents as the training set, 2K as the validation set, and 2Kas the test set. For easier reproducibility of the experiment, we subsampled 198K documents from this dataset as training set and 2K documents as validation set.\n",
    "Each sample in the data is a user's comment, the language is English, and each comment category is marked 1-5, representing 5 different emotional colors."
   ]
  },
  {
   "cell_type": "code",
   "execution_count": 44,
   "metadata": {},
   "outputs": [],
   "source": [
    "data_folder = 'data/'\n",
    "file_name = 'train.csv'\n",
    "file_path = data_folder + file_name\n",
    "\n",
    "## load json data.\n",
    "nrows = 6000\n",
    "data = pd.read_csv(file_path, nrows=nrows)\n",
    "\n",
    "# create a list of review a label paris.\n",
    "dataset = [[review, plot, int(label)] for review, plot, label in zip(data['review_text'], \\\n",
    "                                                     data['plot_summary'], data['is_spoiler'])]\n",
    "\n",
    "# randomly divide one percent from the training set as a verification set.\n",
    "train_dataset, valid_dataset = nlp.data.train_valid_split(dataset, 0.2)\n",
    "len(train_dataset), len(valid_dataset)\n",
    "left, right, label = train_dataset[23]"
   ]
  },
  {
   "cell_type": "markdown",
   "metadata": {},
   "source": [
    "### Data Processing\n",
    "\n",
    "The purpose of the following code is to process the raw data so that the processed data can be used for model training and prediction. We will use the `SpacyTokenizer` to split the document into tokens, `ClipSequence` to crop the comments to the specified length, and build a vocabulary based on the word frequency of the training data. Then we attach the [Glove](https://nlp.stanford.edu/pubs/glove.pdf)[2]  pre-trained word vector to the vocabulary and convert each token into the corresponding word index in the vocabulary.\n",
    "Finally get the standardized training data set and verification data set"
   ]
  },
  {
   "cell_type": "code",
   "execution_count": 3,
   "metadata": {},
   "outputs": [
    {
     "name": "stdout",
     "output_type": "stream",
     "text": [
      "Done! Tokenizing Time=2.50s, #Sentences=4800\n",
      "Done! Tokenizing Time=0.97s, #Sentences=1200\n"
     ]
    }
   ],
   "source": [
    "# tokenizer takes as input a string and outputs a list of tokens.\n",
    "tokenizer = nlp.data.SpacyTokenizer('en')\n",
    "\n",
    "# length_clip takes as input a list and outputs a list with maximum length 300.\n",
    "length_clip_review = nlp.data.ClipSequence(300)\n",
    "length_clip_plot = nlp.data.ClipSequence(300)\n",
    "\n",
    "def preprocess(x):\n",
    "\n",
    "    # now the first element in tuple is review, second plot and third label\n",
    "    data_review, data_plot, label = x[0], x[1], x[2]\n",
    "\n",
    "    # clip the length of review words\n",
    "    data_review, data_plot = length_clip_review(tokenizer(data_review)), \\\n",
    "                             length_clip_plot(tokenizer(data_plot))\n",
    "    return data_review, data_plot, label\n",
    "\n",
    "def get_length(x):\n",
    "    return float(len(x[0]))\n",
    "\n",
    "def preprocess_dataset(dataset):\n",
    "    start = time.time()\n",
    "\n",
    "    with mp.Pool() as pool:\n",
    "        # Each sample is processed in an asynchronous manner.\n",
    "        dataset = gluon.data.ArrayDataset(pool.map(preprocess, dataset))\n",
    "        lengths = gluon.data.ArrayDataset(pool.map(get_length, dataset))\n",
    "    end = time.time()\n",
    "\n",
    "    print('Done! Tokenizing Time={:.2f}s, #Sentences={}'.format(end - start, len(dataset)))\n",
    "    return dataset, lengths\n",
    "\n",
    "# Preprocess the dataset\n",
    "train_dataset, train_data_lengths = preprocess_dataset(train_dataset)\n",
    "valid_dataset, valid_data_lengths = preprocess_dataset(valid_dataset)"
   ]
  },
  {
   "cell_type": "code",
   "execution_count": 32,
   "metadata": {},
   "outputs": [
    {
     "name": "stdout",
     "output_type": "stream",
     "text": [
      "0.25766666666666665\n"
     ]
    }
   ],
   "source": [
    "cnt = 0\n",
    "for data in dataset:\n",
    "    cnt += data[2]\n",
    "print(cnt/len(dataset))"
   ]
  },
  {
   "cell_type": "code",
   "execution_count": 5,
   "metadata": {},
   "outputs": [
    {
     "name": "stdout",
     "output_type": "stream",
     "text": [
      "Vocab(size=10004, unk=\"<unk>\", reserved=\"['<pad>', '<bos>', '<eos>']\")\n"
     ]
    }
   ],
   "source": [
    "# create vocab\n",
    "train_seqs = [sample[0]+sample[1] for sample in train_dataset]\n",
    "counter = nlp.data.count_tokens(list(itertools.chain.from_iterable(train_seqs)))\n",
    "\n",
    "vocab = nlp.Vocab(counter, max_size=10000)\n",
    "\n",
    "# load pre-trained embedding, Glove\n",
    "embedding_weights = nlp.embedding.GloVe(source='glove.twitter.27B.200d')\n",
    "vocab.set_embedding(embedding_weights)\n",
    "print(vocab)\n",
    "\n",
    "# NOTE: to use the same encoder, we need to ensure that two inputs are of the same length\n",
    "# this is achieved by manual padding\n",
    "def token_to_idx(x):\n",
    "    idx_left, idx_right, label = vocab[x[0]], vocab[x[1]], x[2]\n",
    "    len_left, len_right = len(idx_left), len(idx_right)\n",
    "    if len(idx_left) > len(idx_right):\n",
    "        idx_right += [0] * (len_left - len_right)\n",
    "    elif len(idx_left) < len(idx_right):\n",
    "        idx_left += [0] * (len_right - len_left)\n",
    "    return idx_left, idx_right, label\n",
    "\n",
    "# A token index or a list of token indices is returned according to the vocabulary.\n",
    "with mp.Pool() as pool:\n",
    "    train_dataset = pool.map(token_to_idx, train_dataset)\n",
    "    valid_dataset = pool.map(token_to_idx, valid_dataset)"
   ]
  },
  {
   "cell_type": "code",
   "execution_count": 6,
   "metadata": {},
   "outputs": [
    {
     "data": {
      "text/plain": [
       "True"
      ]
     },
     "execution_count": 6,
     "metadata": {},
     "output_type": "execute_result"
    }
   ],
   "source": [
    "len(train_dataset[:][1]) == len(train_dataset[:][0])"
   ]
  },
  {
   "cell_type": "markdown",
   "metadata": {},
   "source": [
    "## Bucketing and DataLoader\n",
    "Since each sentence may have a different length, we need to use `Pad` to fill the sentences in a minibatch to equal lengths so that the data can be quickly tensored on the GPU. At the same time, we need to use `Stack` to stack the category tags of a batch of data. For convenience, we use `Tuple` to combine `Pad` and `Stack`.\n",
    "\n",
    "In order to make the length of the sentence pad in each minibatch as small as possible, we should make the sentences with similar lengths in a batch as much as possible. In light of this, we consider constructing a sampler using `FixedBucketSampler`, which defines how the samples in a dataset will be iterated in a more economic way.\n",
    "\n",
    "Finally, we use `DataLoader` to build a data loader for the training. dataset and validation dataset. The training dataset requires FixedBucketSampler, but the validation dataset doesn't require the sampler."
   ]
  },
  {
   "cell_type": "code",
   "execution_count": 7,
   "metadata": {},
   "outputs": [
    {
     "name": "stdout",
     "output_type": "stream",
     "text": [
      "FixedBucketSampler:\n",
      "  sample_num=4800, batch_num=78\n",
      "  key=[48, 76, 104, 132, 160, 188, 216, 244, 272, 300]\n",
      "  cnt=[25, 133, 189, 278, 593, 612, 421, 295, 288, 1966]\n",
      "  batch_size=[200, 126, 92, 72, 64, 64, 64, 64, 64, 64]\n"
     ]
    }
   ],
   "source": [
    "batch_size = 64\n",
    "bucket_num = 10\n",
    "bucket_ratio = 0.5\n",
    "\n",
    "\n",
    "def get_dataloader():\n",
    "    # Construct the DataLoader Pad data, stack label and lengths\n",
    "    batchify_fn = nlp.data.batchify.Tuple(nlp.data.batchify.Pad(axis=0), \\\n",
    "                                          nlp.data.batchify.Pad(axis=0),\n",
    "                                          nlp.data.batchify.Stack())\n",
    "\n",
    "    # n this example, we use a FixedBucketSampler,\n",
    "    # which assigns each data sample to a fixed bucket based on its length.\n",
    "    batch_sampler = nlp.data.sampler.FixedBucketSampler(\n",
    "        train_data_lengths,\n",
    "        batch_size=batch_size,\n",
    "        num_buckets=bucket_num,\n",
    "        ratio=bucket_ratio,\n",
    "        shuffle=True)\n",
    "    print(batch_sampler.stats())\n",
    "\n",
    "    # train_dataloader\n",
    "    train_dataloader = gluon.data.DataLoader(\n",
    "        dataset=train_dataset,\n",
    "        batch_sampler=batch_sampler,\n",
    "        batchify_fn=batchify_fn)\n",
    "    # valid_dataloader\n",
    "    valid_dataloader = gluon.data.DataLoader(\n",
    "        dataset=valid_dataset,\n",
    "        batch_size=batch_size,\n",
    "        shuffle=False,\n",
    "        batchify_fn=batchify_fn)\n",
    "    return train_dataloader, valid_dataloader\n",
    "\n",
    "train_dataloader, valid_dataloader = get_dataloader()"
   ]
  },
  {
   "cell_type": "code",
   "execution_count": 8,
   "metadata": {
    "scrolled": true
   },
   "outputs": [],
   "source": [
    "# experiement one the two dataloaders\n",
    "# for left, right, label in train_dataloader:\n",
    "#    print(left.shape, right.shape, label.shape)"
   ]
  },
  {
   "cell_type": "markdown",
   "metadata": {},
   "source": [
    "## Model Structure\n",
    "\n",
    "In the original paper, the representation of the sentence is: firstly, the sentence is disassembled into a list corresponding to the word, then the words are unrolled in order, and the word vector of each word is calculated as the input of each step of the [bidirectional LSTM neural network layer](https://www.bioinf.jku.at/publications/older/2604.pdf)[3]. Taking the output of each step of the bidirectional LSTM network layer, a matrix H is obtained. Suppose the hidden_dim of the bidirectional LSTM is `u`, the word length of the sentence is `n`, then the dimension of the last H is `n-by-2u`.  For example, the sentence \"this movie is amazing\" would be represented as:\n",
    "![](Bi-LSTM-Rep.png)\n",
    "\n",
    "Attention is like when we are looking at things, we always give different importance to things in the scope of the perspective. For example, when we are communicating with people, our eyes will always pay more attention to the face of the communicator, not to the edge of other perspectives. So when we want to express the sentence, we can pay different attention to the output H of the bidirectional LSTM layer.\n",
    "![](attention-nlp.png)\n",
    "$$\n",
    "A = Softmax(W_{s2}tanh(W_{s1}H^T))\n",
    "$$\n",
    "\n",
    "Here, W<sub>s1</sub> is a weight matrix with the shape: d<sub>a</sub>-by-2u, where d<sub>a</sub> is a hyperparameter.\n",
    "W<sub>s2</sub> is a weight matrix with the shape: r-by-d<sub>a</sub>, where r is the number of different attentions you want to use.\n",
    "\n",
    "When the attention matrix A and the output H of the LSTM are obtained, the final representation is obtained by M=AH.\n",
    "\n",
    "\n",
    "\n",
    "We can first customize a layer of attention, specify the number of hidden nodes att_unit and the number of attention channels att_hops."
   ]
  },
  {
   "cell_type": "code",
   "execution_count": 9,
   "metadata": {},
   "outputs": [
    {
     "name": "stdout",
     "output_type": "stream",
     "text": [
      "SelfAttention(\n",
      "  (ut_dense): Dense(None -> 20, Activation(tanh))\n",
      "  (et_dense): Dense(None -> 5, linear)\n",
      ")\n"
     ]
    }
   ],
   "source": [
    "# custom attention layer\n",
    "# in this class, we want to implement the operation:\n",
    "# softmax(W_2 * tanh(W_1 * H))\n",
    "# where H is the word embedding of the whole sentence, of shape (num_of_word, embed_size)\n",
    "class SelfAttention(nn.HybridBlock):\n",
    "    def __init__(self, att_unit, att_hops, **kwargs):\n",
    "        super(SelfAttention, self).__init__(**kwargs)\n",
    "        with self.name_scope():\n",
    "            # this layer is tanh(w_1 * H), the att_unit corresponds to d_a in the essay\n",
    "            self.ut_dense = nn.Dense(att_unit, activation='tanh', flatten=False)\n",
    "            # this layer implements the multiple hops\n",
    "            self.et_dense = nn.Dense(att_hops, activation=None, flatten=False)\n",
    "\n",
    "    def hybrid_forward(self, F, x): # F is the backend which implements the tensor operation\n",
    "        # x shape: [batch_size, seq_len, embedding_width]\n",
    "        # ut shape: [batch_size, seq_len, att_unit]\n",
    "        ut = self.ut_dense(x) # batch_size * seq_len [* embed_size * embed_size *] att_unit\n",
    "        # et shape: [batch_size, seq_len, att_hops]\n",
    "        et = self.et_dense(ut)# batch_size * seq_len [* att_unit * att_unit *] att_hops\n",
    "\n",
    "        # att shape: [batch_size,  att_hops, seq_len]\n",
    "        # softmax is performed along the seq_len dimension\n",
    "        att = F.softmax(F.transpose(et, axes=(0, 2, 1)), axis=-1)\n",
    "        # ignore batch, att: att_hops [* seq_len * seq_len *] embed_size\n",
    "        # output shape [batch_size, att_hops, embedding_width]\n",
    "        output = F.batch_dot(att, x)\n",
    "        # output is the weighted matrix representation of the matrix\n",
    "        # att is the weighted vector we use as attention\n",
    "        return output, att\n",
    "    \n",
    "# d_a = 20, hops = 5\n",
    "print(SelfAttention(20, 5))"
   ]
  },
  {
   "cell_type": "markdown",
   "metadata": {},
   "source": [
    "When the number of samples for labels are very unbalanced, applying different weights on different labels may improve the performance of the model. This can be seen as a method to correct [covariance shift](http://d2l.ai/chapter_multilayer-perceptrons/environment.html)."
   ]
  },
  {
   "cell_type": "markdown",
   "metadata": {},
   "source": [
    " ## this block is currently not used\n",
    " classWeightedSoftmaxCE(nn.HybridBlock):\n",
    "    def __init__(self, sparse_label=True, from_logits=False,  **kwargs):\n",
    "        super(WeightedSoftmaxCE, self).__init__(**kwargs)\n",
    "        with self.name_scope():\n",
    "            self.sparse_label = sparse_label\n",
    "            self.from_logits = from_logits\n",
    "\n",
    "    def hybrid_forward(self, F, pred, label, class_weight, depth=None):\n",
    "        if self.sparse_label:\n",
    "            label = F.reshape(label, shape=(-1, ))\n",
    "            label = F.one_hot(label, depth)\n",
    "        if not self.from_logits:\n",
    "            pred = F.log_softmax(pred, -1)\n",
    "\n",
    "        weight_label = F.broadcast_mul(label, class_weight)\n",
    "        loss = -F.sum(pred * weight_label, axis=-1)\n",
    "\n",
    "        # return F.mean(loss, axis=0, exclude=True)\n",
    "        return loss"
   ]
  },
  {
   "cell_type": "code",
   "execution_count": 13,
   "metadata": {},
   "outputs": [],
   "source": [
    "class SelfAttentiveBiLSTM(nn.HybridBlock):\n",
    "    def __init__(self, vocab_len, embsize, nhidden, nlayers, natt_unit, natt_hops, \\\n",
    "                 nfc, nclass, # these two params are not used currrently\n",
    "                 drop_prob, pool_way, prune_p=None, prune_q=None, **kwargs):\n",
    "        super(SelfAttentiveBiLSTM, self).__init__(**kwargs)\n",
    "        with self.name_scope():\n",
    "            self.embedding_layer = nn.Embedding(vocab_len, embsize)\n",
    "            self.bilstm = rnn.LSTM(nhidden, num_layers=nlayers, dropout=drop_prob, \\\n",
    "                                   bidirectional=True)\n",
    "            self.att_encoder = SelfAttention(natt_unit, natt_hops)\n",
    "            ''' \n",
    "            BEGIN NOT_USED\n",
    "            # this layer is used to extracted the flattened representation of\n",
    "            # sentence matrix to a nfc dimension vector for final output\n",
    "            self.dense = nn.Dense(nfc, activation='tanhe')\n",
    "            # this layer is used to output the final class\n",
    "            self.output_layer = nn.Dense(nclass)\n",
    "            END NOT_USED\n",
    "            '''\n",
    "            # since we want to use manhattan distance to measure similarity\n",
    "            # we substitute the dense and output layers with a manhattan distancer\n",
    "            self.output_layer = nn.HybridLambda(lambda F, left, right: \\\n",
    "                                                F.exp(-F.sum(F.abs(left-right), \\\n",
    "                                                axis=-1)))\n",
    "            \n",
    "            self.dense_p, self.dense_q = None, None\n",
    "            if all([prune_p, prune_q]):\n",
    "                self.dense_p = nn.Dense(prune_p, activation='tanh', flatten=False)\n",
    "                self.dense_q = nn.Dense(prune_q, activation='tanh', flatten=False)\n",
    "\n",
    "            self.drop_prob = drop_prob\n",
    "            self.pool_way = pool_way\n",
    "\n",
    "    def hybrid_forward(self, F, inp_left, inp_right):\n",
    "        # inp is a list containing left_text and right_text\n",
    "        # their size: [batch, token_idx]\n",
    "        # inp_embed_left/right size: [batch, seq_len, embed_size]\n",
    "        inp_embed_left = self.embedding_layer(inp_left)\n",
    "        inp_embed_right = self.embedding_layer(inp_right)\n",
    "        # rnn requires the first dimension to be the time steps\n",
    "        h_output_left = self.bilstm(F.transpose(inp_embed_left, axes=(1, 0, 2)))\n",
    "        h_output_right = self.bilstm(F.transpose(inp_embed_right, axes=(1, 0, 2)))\n",
    "        # att_output: [batch, att_hops, emsize]\n",
    "        att_left, att_left = self.att_encoder(F.transpose(h_output_left, axes=(1, 0, 2)))\n",
    "        att_right, att_right = self.att_encoder(F.transpose(h_output_right, axes=(1, 0, 2)))\n",
    "        '''\n",
    "        FIXME: now this code will only work with flatten\n",
    "        '''\n",
    "        last_input_left, last_input_right = None, None\n",
    "        if self.pool_way == 'flatten':\n",
    "            last_input_left = F.Dropout(F.flatten(att_left), self.drop_prob)\n",
    "            last_input_right = F.Dropout(F.flatten(att_right), self.drop_prob)\n",
    "        else:\n",
    "            raise NotImplemented\n",
    "        '''\n",
    "        elif self.pool_way == 'mean':\n",
    "            dense_input = F.Dropout(F.mean(att_output, axis=1), self.drop_prob)\n",
    "        elif self.pool_way == 'prune' and all([self.dense_p, self.dense_q]):\n",
    "            # p_section: [batch, att_hops, prune_p]\n",
    "            p_section = self.dense_p(att_output)\n",
    "            # q_section: [batch, emsize, prune_q]\n",
    "            q_section = self.dense_q(F.transpose(att_output, axes=(0, 2, 1)))\n",
    "            dense_input = F.Dropout(F.concat(F.flatten(p_section), F.flatten(q_section), dim=-1), self.drop_prob)\n",
    "        '''\n",
    "        output = self.output_layer(last_input_left, last_input_right)\n",
    "\n",
    "        return output, att_left, att_right"
   ]
  },
  {
   "cell_type": "markdown",
   "metadata": {},
   "source": [
    "## Configure parameters and build models\n",
    "\n",
    "The resulting `M` is a matrix, and the way to classify this matrix is `flatten`, `mean` or `prune`. Prune is a way of trimming parameters proposed in the original paper and has been implemented here."
   ]
  },
  {
   "cell_type": "code",
   "execution_count": 14,
   "metadata": {},
   "outputs": [],
   "source": [
    "vocab_len = len(vocab)\n",
    "emsize = 200   # word embedding size\n",
    "nhidden = 200    # lstm hidden_dim\n",
    "nlayers = 2     # lstm layers\n",
    "natt_unit = 100     # the hidden_units of attention layer\n",
    "natt_hops = 3    # the channels of attention\n",
    "\n",
    "# these two variables are not used, preserve for now\n",
    "nfc = 512\n",
    "nclass = 2\n",
    "\n",
    "drop_prob = 0.5\n",
    "pool_way = 'flatten'    # # The way to handle M\n",
    "prune_p = None\n",
    "prune_q = None\n",
    "\n",
    "ctx = try_gpu()\n",
    "\n",
    "model = SelfAttentiveBiLSTM(vocab_len, emsize, nhidden, nlayers,\n",
    "                            natt_unit, natt_hops, nfc, nclass,\n",
    "                            drop_prob, pool_way, prune_p, prune_q)\n",
    "\n",
    "model.initialize(init=init.Xavier(), ctx=ctx)\n",
    "model.hybridize()\n",
    "\n",
    "# Attach a pre-trained glove word vector to the embedding layer\n",
    "model.embedding_layer.weight.set_data(vocab.embedding.idx_to_vec)\n",
    "# fixed the layer\n",
    "model.embedding_layer.collect_params().setattr('grad_req', 'null')"
   ]
  },
  {
   "cell_type": "markdown",
   "metadata": {},
   "source": [
    "Using r attention can improve the representation of sentences with different semantics, but if the value of each line in the attention matrix A (r-byn) is very close, that is, there is no difference between several attentions. Subsequently, in M = AH, the resulting M will contain a lot of redundant information.\n",
    "So in order to solve this problem, we should try to force A to ensure that the value of each line has obvious differences, that is, try to satisfy the diversity of attention. Therefore, a penalty can be used to achieve this goal.\n",
    "$$ P = ||(AA^T-I)||_F^2 $$\n",
    "\n",
    "\n",
    "It can be seen from the above formula that if the value of each row of A is more similar, the result of P will be larger, and the value of A is less similar for each row, and P is smaller. This means that when the r-focused diversity of A is larger, the smaller P is. So by including this penalty item with the Loss of the model, you can try to ensure the diversity of A."
   ]
  },
  {
   "cell_type": "code",
   "execution_count": 74,
   "metadata": {},
   "outputs": [],
   "source": [
    "def calculate_loss(x, y, model, loss, class_weight, penal_coeff):\n",
    "    pred, att_left, att_right = model(x[0], x[1])\n",
    "    y = nd.array(y.asnumpy().astype('float32')).as_in_context(ctx)\n",
    "    if loss_name == 'sce':\n",
    "        l = loss(pred, y)\n",
    "    elif loss_name == 'wsce':\n",
    "        l = loss(pred, y, class_weight, class_weight.shape[0])\n",
    "    elif loss_name == 'l2':\n",
    "        l = loss(pred, y)\n",
    "    else:\n",
    "        raise NotImplemented\n",
    "    # penalty, now we have two att's\n",
    "    diversity_penalty_left = nd.batch_dot(att_left, nd.transpose(att_left, axes=(0, 2, 1))) - \\\n",
    "                             nd.eye(att_left.shape[1], ctx=att_left.context)\n",
    "    diversity_penalty_right = nd.batch_dot(att_right, nd.transpose(att_right, axes=(0, 2, 1))) - \\\n",
    "                              nd.eye(att_right.shape[1], ctx=att_right.context)\n",
    "    l = l + penal_coeff * (diversity_penalty_left.norm(axis=(1, 2)) + \\\n",
    "                           diversity_penalty_right.norm(axis=(1, 2)))\n",
    "\n",
    "    return pred, l"
   ]
  },
  {
   "cell_type": "code",
   "execution_count": 25,
   "metadata": {},
   "outputs": [],
   "source": [
    "def one_epoch(data_iter, model, loss, trainer, ctx, is_train, epoch,\n",
    "              penal_coeff=0.0, clip=None, class_weight=None, loss_name='l2'):\n",
    "\n",
    "    loss_val = 0.\n",
    "    total_pred = []\n",
    "    total_true = []\n",
    "    n_batch = 0\n",
    "\n",
    "    for batch_x_left, batch_x_right, batch_y in data_iter:\n",
    "        batch_x_left = batch_x_left.as_in_context(ctx)\n",
    "        batch_x_right = batch_x_right.as_in_context(ctx)\n",
    "        batch_y = batch_y.as_in_context(ctx)\n",
    "\n",
    "        if is_train:\n",
    "            with autograd.record():\n",
    "                batch_pred, l = calculate_loss([batch_x_left, batch_x_right], \\\n",
    "                                               batch_y, model, loss, class_weight, \\\n",
    "                                               penal_coeff)\n",
    "\n",
    "            # backward calculate\n",
    "            l.backward()\n",
    "\n",
    "            # clip gradient\n",
    "            clip_params = [p.data() for p in model.collect_params().values()]\n",
    "            if clip is not None:\n",
    "                norm = nd.array([0.0], ctx)\n",
    "                for param in clip_params:\n",
    "                    if param.grad is not None:\n",
    "                        norm += (param.grad ** 2).sum()\n",
    "                norm = norm.sqrt().asscalar()\n",
    "                if norm > clip:\n",
    "                    for param in clip_params:\n",
    "                        if param.grad is not None:\n",
    "                            param.grad[:] *= clip / norm\n",
    "\n",
    "            # update parmas\n",
    "            trainer.step(batch_x_left.shape[0])\n",
    "\n",
    "        else:\n",
    "            batch_pred, l = calculate_loss([batch_x_left, batch_x_right], \\\n",
    "                                           batch_y, model, loss, class_weight, \\\n",
    "                                           penal_coeff)\n",
    "\n",
    "        # keep result for metric\n",
    "        batch_pred = (batch_pred>.5).asnumpy()\n",
    "        batch_true = np.reshape(batch_y.asnumpy(), (-1, ))\n",
    "        total_pred.extend(batch_pred.tolist())\n",
    "        total_true.extend(batch_true.tolist())\n",
    "        \n",
    "        batch_loss = l.mean().asscalar()\n",
    "\n",
    "        n_batch += 1\n",
    "        loss_val += batch_loss\n",
    "\n",
    "        # check the result of traing phase\n",
    "        if is_train and n_batch % 100 == 0:\n",
    "            print('epoch %d, batch %d, batch_train_loss %.4f, batch_train_acc %.3f' %\n",
    "                  (epoch, n_batch, batch_loss, accuracy_score(batch_true, batch_pred)))\n",
    "\n",
    "    # metric\n",
    "    F1 = f1_score(np.array(total_true), np.array(total_pred), average='weighted')\n",
    "    acc = accuracy_score(np.array(total_true), np.array(total_pred))\n",
    "    loss_val /= n_batch\n",
    "\n",
    "    if is_train:\n",
    "        print('epoch %d, learning_rate %.5f \\n\\t train_loss %.4f, acc_train %.3f, F1_train %.3f, ' %\n",
    "              (epoch, trainer.learning_rate, loss_val, acc, F1))\n",
    "        # declay lr\n",
    "        if epoch % 2 == 0:\n",
    "            trainer.set_learning_rate(trainer.learning_rate * 0.9)\n",
    "    else:\n",
    "        print('\\t valid_loss %.4f, acc_valid %.3f, F1_valid %.3f, ' % (loss_val, acc, F1))\n"
   ]
  },
  {
   "cell_type": "code",
   "execution_count": 18,
   "metadata": {},
   "outputs": [],
   "source": [
    "def train_valid(data_iter_train, data_iter_valid, model, loss, trainer, ctx, nepochs,\n",
    "                penal_coeff=0.0, clip=None, class_weight=None, loss_name='l2'):\n",
    "\n",
    "    for epoch in range(1, nepochs+1):\n",
    "        start = time.time()\n",
    "        # train\n",
    "        is_train = True\n",
    "        one_epoch(data_iter_train, model, loss, trainer, ctx, is_train,\n",
    "                  epoch, penal_coeff, clip, class_weight, loss_name)\n",
    "\n",
    "        # valid\n",
    "        is_train = False\n",
    "        one_epoch(data_iter_valid, model, loss, trainer, ctx, is_train,\n",
    "                  epoch, penal_coeff, clip, class_weight, loss_name)\n",
    "        end = time.time()\n",
    "        print('time %.2f sec' % (end-start))\n",
    "        print(\"*\"*100)\n"
   ]
  },
  {
   "cell_type": "markdown",
   "metadata": {},
   "source": [
    "## Train\n",
    "Now that we are training the model, we use WeightedSoftmaxCE to alleviate the problem of data category imbalance. We performed statistical analysis on the data in advance to get a set of class_weight."
   ]
  },
  {
   "cell_type": "code",
   "execution_count": 71,
   "metadata": {},
   "outputs": [],
   "source": [
    "class_weight = None\n",
    "loss_name = 'l2'\n",
    "optim = 'adam'\n",
    "lr = 0.01\n",
    "penal_coeff = 0.01\n",
    "clip = .5\n",
    "nepochs = \n",
    "\n",
    "trainer = gluon.Trainer(model.collect_params(), optim, {'learning_rate': lr})\n",
    "\n",
    "if loss_name == 'sce':\n",
    "    loss = gluon.loss.SoftmaxCrossEntropyLoss()\n",
    "elif loss_name == 'wsce':\n",
    "    loss = WeightedSoftmaxCE()\n",
    "    # the value of class_weight is obtained by counting data in advance. It can be seen as a hyperparameter.\n",
    "    class_weight = nd.array([3.0, 5.3, 4.0, 2.0, 1.0], ctx=ctx)\n",
    "elif loss_name == 'l2':\n",
    "    loss = gluon.loss.L2Loss()"
   ]
  },
  {
   "cell_type": "code",
   "execution_count": 75,
   "metadata": {},
   "outputs": [
    {
     "name": "stdout",
     "output_type": "stream",
     "text": [
      "epoch 1, learning_rate 0.01000 \n",
      "\t train_loss 0.1491, acc_train 0.744, F1_train 0.634, \n",
      "\t valid_loss 0.4031, acc_valid 0.263, F1_valid 0.110, \n",
      "time 21.80 sec\n",
      "****************************************************************************************************\n"
     ]
    }
   ],
   "source": [
    "# train and valid\n",
    "train_valid(train_dataloader, valid_dataloader, model, loss, trainer, ctx, nepochs,\n",
    "            penal_coeff=penal_coeff, clip=clip, class_weight=class_weight, loss_name=loss_name)"
   ]
  },
  {
   "cell_type": "markdown",
   "metadata": {},
   "source": [
    "## Predict\n",
    "Now we will randomly input a sentence into the model and predict its emotional value tag. The range of emotional markers is 1-5, which corresponds to the degree of negative to positive."
   ]
  },
  {
   "cell_type": "code",
   "execution_count": 83,
   "metadata": {},
   "outputs": [],
   "source": [
    "left = 'john is a former police, his daughter, sarah was killed in a car accident, which he \\\n",
    "        did not think was purely accidental. with his investigation went deeper, he found \\\n",
    "        that sarah\\'s boyfriend, jack, was the one to blame.'\n",
    "right = 'in this movie, sarah was killed by her boyfriend jack.'\n",
    "left_token = vocab[tokenizer(left)]\n",
    "right_token = vocab[tokenizer(right)]\n",
    "right_token += [0] * (len(left_token) - len(right_token))"
   ]
  },
  {
   "cell_type": "code",
   "execution_count": 84,
   "metadata": {},
   "outputs": [
    {
     "name": "stdout",
     "output_type": "stream",
     "text": [
      "\n",
      "[[0.000e+00 1.100e+01 8.000e+00 5.640e+02 3.960e+02 5.000e+00 1.800e+01\n",
      "  3.590e+02 5.000e+00 0.000e+00 2.600e+01 4.620e+02 1.200e+01 8.000e+00\n",
      "  5.010e+02 8.970e+02 5.000e+00 8.000e+01 2.800e+01 0.000e+00 9.100e+01\n",
      "  3.600e+01 1.490e+02 2.600e+01 4.531e+03 0.000e+00 6.000e+00 1.900e+01\n",
      "  1.800e+01 1.248e+03 4.060e+02 2.273e+03 5.000e+00 2.800e+01 2.680e+02\n",
      "  0.000e+00 1.300e+01 0.000e+00 1.600e+01 1.192e+03 5.000e+00 0.000e+00\n",
      "  5.000e+00 2.600e+01 4.000e+00 4.400e+01 9.000e+00 3.943e+03 6.000e+00]]\n",
      "<NDArray 1x49 @gpu(0)> \n",
      "[[  12.   21.   22.    5.    0.   26.  462.   20.   46. 1192.    0.    6.\n",
      "     0.    0.    0.    0.    0.    0.    0.    0.    0.    0.    0.    0.\n",
      "     0.    0.    0.    0.    0.    0.    0.    0.    0.    0.    0.    0.\n",
      "     0.    0.    0.    0.    0.    0.    0.    0.    0.    0.    0.    0.\n",
      "     0.]]\n",
      "<NDArray 1x49 @gpu(0)>\n",
      "\n",
      "[1.]\n",
      "<NDArray 1 @gpu(0)>\n",
      "\n",
      "[[[0.02105873 0.02047076 0.02038004 0.02036754 0.02036585 0.02036562\n",
      "   0.02036558 0.02036558 0.02036558 0.02036558 0.02036558 0.02036558\n",
      "   0.02036558 0.02036558 0.02036558 0.02036558 0.02036558 0.02036558\n",
      "   0.02036558 0.02036558 0.02036558 0.02036558 0.02036558 0.02036558\n",
      "   0.02036558 0.02036558 0.02036558 0.02036558 0.02036558 0.02036558\n",
      "   0.02036558 0.02036558 0.02036558 0.02036558 0.02036558 0.02036558\n",
      "   0.02036558 0.02036558 0.02036558 0.02036558 0.02036558 0.02036558\n",
      "   0.02036558 0.02036563 0.02036596 0.02036841 0.02038648 0.02051922\n",
      "   0.0214593 ]\n",
      "  [0.02595661 0.02077971 0.02013606 0.02004999 0.02003836 0.02003678\n",
      "   0.02003655 0.02003653 0.02003653 0.02003653 0.02003653 0.02003653\n",
      "   0.02003653 0.02003653 0.02003653 0.02003653 0.02003653 0.02003653\n",
      "   0.02003653 0.02003653 0.02003653 0.02003653 0.02003653 0.02003653\n",
      "   0.02003653 0.02003653 0.02003653 0.02003653 0.02003653 0.02003653\n",
      "   0.02003653 0.02003653 0.02003653 0.02003653 0.02003653 0.02003653\n",
      "   0.02003653 0.02003653 0.02003653 0.02003653 0.02003653 0.02003653\n",
      "   0.02003659 0.02003691 0.02003944 0.02005798 0.02019547 0.02123238\n",
      "   0.03008866]\n",
      "  [0.01498023 0.01980209 0.0205928  0.02070276 0.02071769 0.02071971\n",
      "   0.02071998 0.02072002 0.02072002 0.02072002 0.02072002 0.02072002\n",
      "   0.02072002 0.02072002 0.02072002 0.02072002 0.02072002 0.02072002\n",
      "   0.02072002 0.02072002 0.02072002 0.02072002 0.02072002 0.02072002\n",
      "   0.02072002 0.02072002 0.02072002 0.02072002 0.02072002 0.02072002\n",
      "   0.02072002 0.02072002 0.02072002 0.02072002 0.02072002 0.02072002\n",
      "   0.02072002 0.02072002 0.02072002 0.02072002 0.02072002 0.02072002\n",
      "   0.02071998 0.02071961 0.02071694 0.02069729 0.02055278 0.01952337\n",
      "   0.01363401]]]\n",
      "<NDArray 1x3x49 @gpu(0)> \n",
      "[[[0.02105869 0.02047076 0.02038004 0.02036754 0.02036584 0.02036561\n",
      "   0.02036558 0.02036558 0.02036558 0.02036558 0.02036558 0.02036558\n",
      "   0.02036558 0.02036558 0.02036558 0.02036558 0.02036558 0.02036558\n",
      "   0.02036558 0.02036558 0.02036558 0.02036558 0.02036558 0.02036558\n",
      "   0.02036558 0.02036558 0.02036558 0.02036558 0.02036558 0.02036558\n",
      "   0.02036558 0.02036558 0.02036558 0.02036558 0.02036558 0.02036558\n",
      "   0.02036558 0.02036558 0.02036558 0.02036558 0.02036558 0.02036558\n",
      "   0.02036558 0.02036563 0.02036596 0.02036841 0.02038648 0.02051924\n",
      "   0.02145937]\n",
      "  [0.0259555  0.02077967 0.02013607 0.02004999 0.02003835 0.02003678\n",
      "   0.02003655 0.02003653 0.02003653 0.02003653 0.02003653 0.02003653\n",
      "   0.02003653 0.02003653 0.02003653 0.02003653 0.02003653 0.02003653\n",
      "   0.02003653 0.02003653 0.02003653 0.02003653 0.02003653 0.02003653\n",
      "   0.02003653 0.02003653 0.02003653 0.02003653 0.02003653 0.02003653\n",
      "   0.02003653 0.02003653 0.02003653 0.02003653 0.02003653 0.02003653\n",
      "   0.02003653 0.02003653 0.02003653 0.02003653 0.02003653 0.02003653\n",
      "   0.02003659 0.02003692 0.02003944 0.02005798 0.02019551 0.02123258\n",
      "   0.03008939]\n",
      "  [0.01498088 0.01980217 0.0205928  0.02070274 0.02071769 0.02071971\n",
      "   0.02071998 0.02072002 0.02072002 0.02072002 0.02072002 0.02072002\n",
      "   0.02072002 0.02072002 0.02072002 0.02072002 0.02072002 0.02072002\n",
      "   0.02072002 0.02072002 0.02072002 0.02072002 0.02072002 0.02072002\n",
      "   0.02072002 0.02072002 0.02072002 0.02072002 0.02072002 0.02072002\n",
      "   0.02072002 0.02072002 0.02072002 0.02072002 0.02072002 0.02072002\n",
      "   0.02072002 0.02072002 0.02072002 0.02072002 0.02072002 0.02072002\n",
      "   0.02071998 0.02071961 0.02071694 0.02069729 0.02055274 0.01952318\n",
      "   0.01363351]]]\n",
      "<NDArray 1x3x49 @gpu(0)>\n"
     ]
    }
   ],
   "source": [
    "left_input = nd.array(left_token, ctx=ctx).reshape(1,-1)\n",
    "right_input = nd.array(right_token, ctx=ctx).reshape(1,-1)\n",
    "print(left_input, right_input)\n",
    "#print(model)\n",
    "pred, att_left, att_right = model(left_input, right_input)\n",
    "label = pred>.5\n",
    "print(label)\n",
    "print(att_left, att_right)"
   ]
  },
  {
   "cell_type": "markdown",
   "metadata": {},
   "source": [
    "In order to intuitively feel the role of the attention mechanism, we visualize the output of the model's attention on the predicted samples."
   ]
  },
  {
   "cell_type": "code",
   "execution_count": 92,
   "metadata": {},
   "outputs": [
    {
     "data": {
      "image/png": "[encoded data removed]",
      "text/plain": [
       "<Figure size 2880x72 with 2 Axes>"
      ]
     },
     "metadata": {
      "needs_background": "light"
     },
     "output_type": "display_data"
    }
   ],
   "source": [
    "import matplotlib.pyplot as plt\n",
    "import seaborn as sns\n",
    "%matplotlib inline\n",
    "\n",
    "np.squeeze(att_left.asnumpy(), 0).shape\n",
    "plt.figure(figsize=(40,1))\n",
    "cmap = sns.diverging_palette(220, 10, as_cmap=True)\n",
    "sns.heatmap(np.squeeze(att_right.asnumpy(), 0), cmap=cmap, annot=True,\n",
    "            xticklabels=tokenizer(right), yticklabels=['att0', 'att1', 'att2'])\n",
    "plt.show()"
   ]
  },
  {
   "cell_type": "markdown",
   "metadata": {},
   "source": [
    "## Conclusion\n",
    "Word embedding can effectively represent the semantic similarity between words, which brings many breakthroughs for complex natural language processing tasks. The attention mechanism can intuitively grasp the important semantic features in the sentence. The LSTM captures the word order relationship between words in a sentence. Through word embedding, LSTM and attention mechanisms work together to effectively represent the semantics of a sentence and apply it to many practical tasks.\n",
    "\n",
    "GluonNLP provides us with many efficient and convenient tools to help us experiment quickly. This greatly simplifies the tedious work of natural language processing.\n",
    "\n",
    "## Reference\n",
    "1. [A Structured Self-Attentive Sentence Embedding](https://arxiv.org/pdf/1703.03130.pdf)\n",
    "2. [Glove: Global vectors for word representation. In Proceedings of the 2014 conference on empirical methods in natural language processing](https://nlp.stanford.edu/pubs/glove.pdf)\n",
    "3. [Long short-term memory](https://www.bioinf.jku.at/publications/older/2604.pdf)"
   ]
  }
 ],
 "metadata": {
  "kernelspec": {
   "display_name": "Python 3",
   "language": "python",
   "name": "python3"
  },
  "language_info": {
   "codemirror_mode": {
    "name": "ipython",
    "version": 3
   },
   "file_extension": ".py",
   "mimetype": "text/x-python",
   "name": "python",
   "nbconvert_exporter": "python",
   "pygments_lexer": "ipython3",
   "version": "3.7.3"
  }
 },
 "nbformat": 4,
 "nbformat_minor": 2
}
