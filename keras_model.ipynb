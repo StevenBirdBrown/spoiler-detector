{
 "cells": [
  {
   "cell_type": "markdown",
   "metadata": {},
   "source": [
    "The code here is modified based on [this implementation](https://github.com/eliorc/Medium/blob/master/MaLSTM.ipynb) of [Mamhattan LSTM](https://www.aaai.org/ocs/index.php/AAAI/AAAI16/paper/download/12195/12023)"
   ]
  },
  {
   "cell_type": "code",
   "execution_count": 2,
   "metadata": {},
   "outputs": [
    {
     "name": "stderr",
     "output_type": "stream",
     "text": [
      "Using Theano backend.\n",
      "WARNING (theano.tensor.blas): Using NumPy C-API based implementation for BLAS functions.\n",
      "/home/steven/miniconda3/envs/dl/lib/python3.7/site-packages/theano/gpuarray/dnn.py:184: UserWarning: Your cuDNN version is more recent than Theano. If you encounter problems, try updating Theano or downgrading cuDNN to a version >= v5 and <= v7.\n",
      "  warnings.warn(\"Your cuDNN version is more recent than \"\n",
      "Using cuDNN version 7600 on context None\n",
      "Mapped name None to device cuda: GeForce GTX 1070 with Max-Q Design (0000:01:00.0)\n"
     ]
    }
   ],
   "source": [
    "import mxnet\n",
    "from mxnet import ndarray as nd\n",
    "from time import time\n",
    "from gensim.models import KeyedVectors\n",
    "import pandas as pd\n",
    "import numpy as np\n",
    "from nltk.corpus import stopwords\n",
    "from sklearn.model_selection import train_test_split\n",
    "from keras.preprocessing.sequence import pad_sequences\n",
    "from keras.models import Model\n",
    "from keras.layers import Input, Embedding, LSTM, GRU, Lambda\n",
    "import keras.backend as K\n",
    "from keras.optimizers import Adam\n",
    "from keras.callbacks import ModelCheckpoint\n",
    "import re, itertools"
   ]
  },
  {
   "cell_type": "code",
   "execution_count": 3,
   "metadata": {},
   "outputs": [],
   "source": [
    "# file path\n",
    "TRAIN_CSV = './data/train.csv'\n",
    "EMBEDDING = './data/GoogleNews-vectors-negative300.bin.gz'\n",
    "MODEL_DIR = './model/'\n",
    "# control how many samples are read, due to memory limitation\n",
    "nrows = 60000\n",
    "train_df = pd.read_csv(TRAIN_CSV, nrows=nrows)\n",
    "stops = set(stopwords.words('english'))\n",
    "\n",
    "def text_to_word_list(text):\n",
    "    ''' Pre process and convert texts to a list of words '''\n",
    "    text = str(text)\n",
    "    text = text.lower()\n",
    "\n",
    "    # Clean the text\n",
    "    text = re.sub(r\"[^A-Za-z0-9^,!.\\/'+-=]\", \" \", text)\n",
    "    text = re.sub(r\"what's\", \"what is \", text)\n",
    "    text = re.sub(r\"\\'s\", \" \", text)\n",
    "    text = re.sub(r\"\\'ve\", \" have \", text)\n",
    "    text = re.sub(r\"can't\", \"cannot \", text)\n",
    "    text = re.sub(r\"n't\", \" not \", text)\n",
    "    text = re.sub(r\"i'm\", \"i am \", text)\n",
    "    text = re.sub(r\"\\'re\", \" are \", text)\n",
    "    text = re.sub(r\"\\'d\", \" would \", text)\n",
    "    text = re.sub(r\"\\'ll\", \" will \", text)\n",
    "    text = re.sub(r\",\", \" \", text)\n",
    "    text = re.sub(r\"\\.\", \" \", text)\n",
    "    text = re.sub(r\"!\", \" ! \", text)\n",
    "    text = re.sub(r\"\\/\", \" \", text)\n",
    "    text = re.sub(r\"\\^\", \" ^ \", text)\n",
    "    text = re.sub(r\"\\+\", \" + \", text)\n",
    "    text = re.sub(r\"\\-\", \" - \", text)\n",
    "    text = re.sub(r\"\\=\", \" = \", text)\n",
    "    text = re.sub(r\"'\", \" \", text)\n",
    "    text = re.sub(r\"(\\d+)(k)\", r\"\\g<1>000\", text)\n",
    "    text = re.sub(r\":\", \" : \", text)\n",
    "    text = re.sub(r\" e g \", \" eg \", text)\n",
    "    text = re.sub(r\" b g \", \" bg \", text)\n",
    "    text = re.sub(r\" u s \", \" american \", text)\n",
    "    text = re.sub(r\"\\0s\", \"0\", text)\n",
    "    text = re.sub(r\" 9 11 \", \"911\", text)\n",
    "    text = re.sub(r\"e - mail\", \"email\", text)\n",
    "    text = re.sub(r\"j k\", \"jk\", text)\n",
    "    text = re.sub(r\"\\s{2,}\", \" \", text)\n",
    "\n",
    "    text = text.split()\n",
    "\n",
    "    return text\n",
    "# prepare embedding\n",
    "vocab = dict()\n",
    "inverse_vocab = ['<unk>']\n",
    "word2vec = KeyedVectors.load_word2vec_format(EMBEDDING, binary=True)"
   ]
  },
  {
   "cell_type": "code",
   "execution_count": 4,
   "metadata": {},
   "outputs": [
    {
     "ename": "KeyboardInterrupt",
     "evalue": "",
     "output_type": "error",
     "traceback": [
      "\u001b[0;31m---------------------------------------------------------------------------\u001b[0m",
      "\u001b[0;31mKeyboardInterrupt\u001b[0m                         Traceback (most recent call last)",
      "\u001b[0;32m<ipython-input-4-0a21af0a8ebb>\u001b[0m in \u001b[0;36m<module>\u001b[0;34m\u001b[0m\n\u001b[1;32m      3\u001b[0m     \u001b[0;32mfor\u001b[0m \u001b[0mcolumn\u001b[0m \u001b[0;32min\u001b[0m \u001b[0mtarget_columns\u001b[0m\u001b[0;34m:\u001b[0m\u001b[0;34m\u001b[0m\u001b[0;34m\u001b[0m\u001b[0m\n\u001b[1;32m      4\u001b[0m         \u001b[0membedding\u001b[0m \u001b[0;34m=\u001b[0m \u001b[0;34m[\u001b[0m\u001b[0;34m]\u001b[0m\u001b[0;34m\u001b[0m\u001b[0;34m\u001b[0m\u001b[0m\n\u001b[0;32m----> 5\u001b[0;31m         \u001b[0;32mfor\u001b[0m \u001b[0mword\u001b[0m \u001b[0;32min\u001b[0m \u001b[0mtext_to_word_list\u001b[0m\u001b[0;34m(\u001b[0m\u001b[0mrow\u001b[0m\u001b[0;34m[\u001b[0m\u001b[0mcolumn\u001b[0m\u001b[0;34m]\u001b[0m\u001b[0;34m)\u001b[0m\u001b[0;34m:\u001b[0m\u001b[0;34m\u001b[0m\u001b[0;34m\u001b[0m\u001b[0m\n\u001b[0m\u001b[1;32m      6\u001b[0m             \u001b[0;32mif\u001b[0m \u001b[0mword\u001b[0m \u001b[0;32min\u001b[0m \u001b[0mstops\u001b[0m \u001b[0;32mand\u001b[0m \u001b[0mword\u001b[0m \u001b[0;32mnot\u001b[0m \u001b[0;32min\u001b[0m \u001b[0mword2vec\u001b[0m\u001b[0;34m.\u001b[0m\u001b[0mvocab\u001b[0m\u001b[0;34m:\u001b[0m\u001b[0;34m\u001b[0m\u001b[0;34m\u001b[0m\u001b[0m\n\u001b[1;32m      7\u001b[0m                 \u001b[0;32mcontinue\u001b[0m\u001b[0;34m\u001b[0m\u001b[0;34m\u001b[0m\u001b[0m\n",
      "\u001b[0;32m<ipython-input-3-5b93729962b4>\u001b[0m in \u001b[0;36mtext_to_word_list\u001b[0;34m(text)\u001b[0m\n\u001b[1;32m     42\u001b[0m     \u001b[0mtext\u001b[0m \u001b[0;34m=\u001b[0m \u001b[0mre\u001b[0m\u001b[0;34m.\u001b[0m\u001b[0msub\u001b[0m\u001b[0;34m(\u001b[0m\u001b[0;34mr\"e - mail\"\u001b[0m\u001b[0;34m,\u001b[0m \u001b[0;34m\"email\"\u001b[0m\u001b[0;34m,\u001b[0m \u001b[0mtext\u001b[0m\u001b[0;34m)\u001b[0m\u001b[0;34m\u001b[0m\u001b[0;34m\u001b[0m\u001b[0m\n\u001b[1;32m     43\u001b[0m     \u001b[0mtext\u001b[0m \u001b[0;34m=\u001b[0m \u001b[0mre\u001b[0m\u001b[0;34m.\u001b[0m\u001b[0msub\u001b[0m\u001b[0;34m(\u001b[0m\u001b[0;34mr\"j k\"\u001b[0m\u001b[0;34m,\u001b[0m \u001b[0;34m\"jk\"\u001b[0m\u001b[0;34m,\u001b[0m \u001b[0mtext\u001b[0m\u001b[0;34m)\u001b[0m\u001b[0;34m\u001b[0m\u001b[0;34m\u001b[0m\u001b[0m\n\u001b[0;32m---> 44\u001b[0;31m     \u001b[0mtext\u001b[0m \u001b[0;34m=\u001b[0m \u001b[0mre\u001b[0m\u001b[0;34m.\u001b[0m\u001b[0msub\u001b[0m\u001b[0;34m(\u001b[0m\u001b[0;34mr\"\\s{2,}\"\u001b[0m\u001b[0;34m,\u001b[0m \u001b[0;34m\" \"\u001b[0m\u001b[0;34m,\u001b[0m \u001b[0mtext\u001b[0m\u001b[0;34m)\u001b[0m\u001b[0;34m\u001b[0m\u001b[0;34m\u001b[0m\u001b[0m\n\u001b[0m\u001b[1;32m     45\u001b[0m \u001b[0;34m\u001b[0m\u001b[0m\n\u001b[1;32m     46\u001b[0m     \u001b[0mtext\u001b[0m \u001b[0;34m=\u001b[0m \u001b[0mtext\u001b[0m\u001b[0;34m.\u001b[0m\u001b[0msplit\u001b[0m\u001b[0;34m(\u001b[0m\u001b[0;34m)\u001b[0m\u001b[0;34m\u001b[0m\u001b[0;34m\u001b[0m\u001b[0m\n",
      "\u001b[0;32m~/miniconda3/envs/dl/lib/python3.7/re.py\u001b[0m in \u001b[0;36msub\u001b[0;34m(pattern, repl, string, count, flags)\u001b[0m\n\u001b[1;32m    190\u001b[0m     \u001b[0ma\u001b[0m \u001b[0mcallable\u001b[0m\u001b[0;34m,\u001b[0m \u001b[0mit\u001b[0m\u001b[0;31m'\u001b[0m\u001b[0ms\u001b[0m \u001b[0mpassed\u001b[0m \u001b[0mthe\u001b[0m \u001b[0mMatch\u001b[0m \u001b[0mobject\u001b[0m \u001b[0;32mand\u001b[0m \u001b[0mmust\u001b[0m \u001b[0;32mreturn\u001b[0m\u001b[0;34m\u001b[0m\u001b[0;34m\u001b[0m\u001b[0m\n\u001b[1;32m    191\u001b[0m     a replacement string to be used.\"\"\"\n\u001b[0;32m--> 192\u001b[0;31m     \u001b[0;32mreturn\u001b[0m \u001b[0m_compile\u001b[0m\u001b[0;34m(\u001b[0m\u001b[0mpattern\u001b[0m\u001b[0;34m,\u001b[0m \u001b[0mflags\u001b[0m\u001b[0;34m)\u001b[0m\u001b[0;34m.\u001b[0m\u001b[0msub\u001b[0m\u001b[0;34m(\u001b[0m\u001b[0mrepl\u001b[0m\u001b[0;34m,\u001b[0m \u001b[0mstring\u001b[0m\u001b[0;34m,\u001b[0m \u001b[0mcount\u001b[0m\u001b[0;34m)\u001b[0m\u001b[0;34m\u001b[0m\u001b[0;34m\u001b[0m\u001b[0m\n\u001b[0m\u001b[1;32m    193\u001b[0m \u001b[0;34m\u001b[0m\u001b[0m\n\u001b[1;32m    194\u001b[0m \u001b[0;32mdef\u001b[0m \u001b[0msubn\u001b[0m\u001b[0;34m(\u001b[0m\u001b[0mpattern\u001b[0m\u001b[0;34m,\u001b[0m \u001b[0mrepl\u001b[0m\u001b[0;34m,\u001b[0m \u001b[0mstring\u001b[0m\u001b[0;34m,\u001b[0m \u001b[0mcount\u001b[0m\u001b[0;34m=\u001b[0m\u001b[0;36m0\u001b[0m\u001b[0;34m,\u001b[0m \u001b[0mflags\u001b[0m\u001b[0;34m=\u001b[0m\u001b[0;36m0\u001b[0m\u001b[0;34m)\u001b[0m\u001b[0;34m:\u001b[0m\u001b[0;34m\u001b[0m\u001b[0;34m\u001b[0m\u001b[0m\n",
      "\u001b[0;31mKeyboardInterrupt\u001b[0m: "
     ]
    }
   ],
   "source": [
    "target_columns = ['review_text', 'plot_summary']\n",
    "for index, row in train_df.iterrows():\n",
    "    for column in target_columns:\n",
    "        embedding = []\n",
    "        for word in text_to_word_list(row[column]):\n",
    "            if word in stops and word not in word2vec.vocab:\n",
    "                continue\n",
    "            if word not in vocab:\n",
    "                vocab[word] = len(inverse_vocab)\n",
    "                inverse_vocab.append(word)\n",
    "            embedding.append(vocab[word])\n",
    "        train_df.at[index, column] = embedding\n",
    "\n",
    "embedding_dim = 300\n",
    "embeddings = 1 * np.random.randn(len(vocab) + 1, embedding_dim)\n",
    "embeddings[0] = 0\n",
    "\n",
    "for word, index in vocab.items():\n",
    "    if word in word2vec.vocab:\n",
    "        embeddings[index] = word2vec.word_vec(word)\n",
    "del word2vec"
   ]
  },
  {
   "cell_type": "code",
   "execution_count": 17,
   "metadata": {},
   "outputs": [],
   "source": [
    "max_seq_length  = max(train_df.review_text.map(lambda x: len(x)).max(),\n",
    "                      train_df.plot_summary.map(lambda x: len(x)).max())\n",
    "valid_size = round(len(train_df) * .2)\n",
    "\n",
    "X = train_df[target_columns]\n",
    "Y = train_df['is_spoiler']\n",
    "\n",
    "X_train, X_valid, Y_train, Y_valid = train_test_split(X, Y, test_size=valid_size)\n",
    "X_train = {'left': X_train.review_text, 'right': X_train.plot_summary}\n",
    "X_valid = {'left': X_valid.review_text, 'right': X_valid.plot_summary}\n",
    "Y_train = Y_train.values\n",
    "Y_valid = Y_valid.values"
   ]
  },
  {
   "cell_type": "code",
   "execution_count": 18,
   "metadata": {},
   "outputs": [],
   "source": [
    "for dataset, side in itertools.product([X_train, X_valid], ['left', 'right']):\n",
    "    dataset[side] = pad_sequences(dataset[side], maxlen=max_seq_length)"
   ]
  },
  {
   "cell_type": "code",
   "execution_count": 19,
   "metadata": {},
   "outputs": [
    {
     "name": "stderr",
     "output_type": "stream",
     "text": [
      "/home/steven/miniconda3/envs/dl/lib/python3.7/site-packages/ipykernel_launcher.py:43: UserWarning: The `nb_epoch` argument in `fit` has been renamed `epochs`.\n"
     ]
    },
    {
     "name": "stdout",
     "output_type": "stream",
     "text": [
      "Train on 48000 samples, validate on 12000 samples\n",
      "Epoch 1/30\n",
      "48000/48000 [==============================] - 1506s 31ms/step - loss: 0.2438 - acc: 0.7349 - val_loss: 0.2196 - val_acc: 0.7318\n",
      "Epoch 2/30\n",
      "48000/48000 [==============================] - 1482s 31ms/step - loss: 0.2001 - acc: 0.7327 - val_loss: 0.1898 - val_acc: 0.7338\n",
      "Epoch 3/30\n",
      "48000/48000 [==============================] - 1481s 31ms/step - loss: 0.1807 - acc: 0.7388 - val_loss: 0.1792 - val_acc: 0.7401\n",
      "Epoch 4/30\n",
      "48000/48000 [==============================] - 1481s 31ms/step - loss: 0.1731 - acc: 0.7472 - val_loss: 0.1769 - val_acc: 0.7395\n",
      "Epoch 5/30\n",
      "48000/48000 [==============================] - 1481s 31ms/step - loss: 0.1694 - acc: 0.7530 - val_loss: 0.1751 - val_acc: 0.7431\n",
      "Epoch 6/30\n",
      "48000/48000 [==============================] - 1481s 31ms/step - loss: 0.1665 - acc: 0.7573 - val_loss: 0.1737 - val_acc: 0.7478\n",
      "Epoch 7/30\n",
      "48000/48000 [==============================] - 1482s 31ms/step - loss: 0.1631 - acc: 0.7643 - val_loss: 0.1736 - val_acc: 0.7469\n",
      "Epoch 8/30\n",
      "48000/48000 [==============================] - 1480s 31ms/step - loss: 0.1610 - acc: 0.7684 - val_loss: 0.1745 - val_acc: 0.7450\n",
      "Epoch 9/30\n",
      "48000/48000 [==============================] - 1478s 31ms/step - loss: 0.1591 - acc: 0.7713 - val_loss: 0.1746 - val_acc: 0.7468\n",
      "Epoch 10/30\n",
      "48000/48000 [==============================] - 1478s 31ms/step - loss: 0.1578 - acc: 0.7741 - val_loss: 0.1773 - val_acc: 0.7450\n",
      "Epoch 11/30\n",
      "48000/48000 [==============================] - 1478s 31ms/step - loss: 0.1559 - acc: 0.7765 - val_loss: 0.1745 - val_acc: 0.7472\n",
      "Epoch 12/30\n",
      "48000/48000 [==============================] - 1478s 31ms/step - loss: 0.1543 - acc: 0.7807 - val_loss: 0.1761 - val_acc: 0.7399\n",
      "Epoch 13/30\n",
      "48000/48000 [==============================] - 1478s 31ms/step - loss: 0.1534 - acc: 0.7820 - val_loss: 0.1752 - val_acc: 0.7438\n",
      "Epoch 14/30\n",
      "48000/48000 [==============================] - 1478s 31ms/step - loss: 0.1518 - acc: 0.7866 - val_loss: 0.1742 - val_acc: 0.7477\n",
      "Epoch 15/30\n",
      "48000/48000 [==============================] - 1478s 31ms/step - loss: 0.1505 - acc: 0.7871 - val_loss: 0.1751 - val_acc: 0.7438\n",
      "Epoch 16/30\n",
      "48000/48000 [==============================] - 1477s 31ms/step - loss: 0.1490 - acc: 0.7905 - val_loss: 0.1756 - val_acc: 0.7468\n",
      "Epoch 17/30\n",
      "48000/48000 [==============================] - 1478s 31ms/step - loss: 0.1478 - acc: 0.7934 - val_loss: 0.1749 - val_acc: 0.7443\n",
      "Epoch 18/30\n",
      "48000/48000 [==============================] - 1479s 31ms/step - loss: 0.1467 - acc: 0.7942 - val_loss: 0.1749 - val_acc: 0.7449\n",
      "Epoch 19/30\n",
      "48000/48000 [==============================] - 1478s 31ms/step - loss: 0.1453 - acc: 0.7966 - val_loss: 0.1749 - val_acc: 0.7445\n",
      "Epoch 20/30\n",
      "48000/48000 [==============================] - 1478s 31ms/step - loss: 0.1445 - acc: 0.7979 - val_loss: 0.1751 - val_acc: 0.7476\n",
      "Epoch 21/30\n",
      "48000/48000 [==============================] - 1478s 31ms/step - loss: 0.1427 - acc: 0.8017 - val_loss: 0.1769 - val_acc: 0.7482\n",
      "Epoch 22/30\n",
      "48000/48000 [==============================] - 1482s 31ms/step - loss: 0.1417 - acc: 0.8032 - val_loss: 0.1780 - val_acc: 0.7420\n",
      "Epoch 23/30\n",
      "48000/48000 [==============================] - 1500s 31ms/step - loss: 0.1408 - acc: 0.8039 - val_loss: 0.1772 - val_acc: 0.7369\n",
      "Epoch 24/30\n",
      "48000/48000 [==============================] - 1476s 31ms/step - loss: 0.1392 - acc: 0.8076 - val_loss: 0.1765 - val_acc: 0.7433\n",
      "Epoch 25/30\n",
      "48000/48000 [==============================] - 1477s 31ms/step - loss: 0.1384 - acc: 0.8097 - val_loss: 0.1780 - val_acc: 0.7393\n",
      "Epoch 26/30\n",
      "48000/48000 [==============================] - 1477s 31ms/step - loss: 0.1371 - acc: 0.8109 - val_loss: 0.1774 - val_acc: 0.7446\n",
      "Epoch 27/30\n",
      "48000/48000 [==============================] - 1476s 31ms/step - loss: 0.1364 - acc: 0.8127 - val_loss: 0.1772 - val_acc: 0.7407\n",
      "Epoch 28/30\n",
      "48000/48000 [==============================] - 1476s 31ms/step - loss: 0.1351 - acc: 0.8156 - val_loss: 0.1778 - val_acc: 0.7431\n",
      "Epoch 29/30\n",
      "48000/48000 [==============================] - 1476s 31ms/step - loss: 0.1338 - acc: 0.8184 - val_loss: 0.1795 - val_acc: 0.7458\n",
      "Epoch 30/30\n",
      "48000/48000 [==============================] - 1490s 31ms/step - loss: 0.1330 - acc: 0.8193 - val_loss: 0.1787 - val_acc: 0.7453\n"
     ]
    }
   ],
   "source": [
    "n_hidden = 64\n",
    "batch_size = 64\n",
    "n_epoch = 30\n",
    "\n",
    "def exponent_neg_manhattan_distance(left, right):\n",
    "    ''' Helper function for the similarity estimate of the LSTMs outputs'''\n",
    "    return K.exp(-K.sum(K.abs(left-right), axis=1, keepdims=True))\n",
    "\n",
    "# The visible layer\n",
    "left_input = Input(shape=(max_seq_length,), dtype='int32')\n",
    "right_input = Input(shape=(max_seq_length,), dtype='int32')\n",
    "\n",
    "embedding_layer = Embedding(len(embeddings), embedding_dim, weights=[embeddings], \\\n",
    "                            input_length=max_seq_length, trainable=False)\n",
    "\n",
    "# Embedded version of the inputs\n",
    "encoded_left = embedding_layer(left_input)\n",
    "encoded_right = embedding_layer(right_input)\n",
    "\n",
    "# Since this is a siamese network, both sides share the same LSTM\n",
    "shared_lstm = GRU(n_hidden)\n",
    "\n",
    "left_output = shared_lstm(encoded_left)\n",
    "right_output = shared_lstm(encoded_right)\n",
    "\n",
    "# Calculates the distance as defined by the MaLSTM model\n",
    "malstm_distance = Lambda(function=lambda x: exponent_neg_manhattan_distance(x[0], x[1]), \\\n",
    "                         output_shape=lambda x: (x[0][0], 1))([left_output, right_output])\n",
    "\n",
    "# Pack it all up into a model\n",
    "malstm = Model([left_input, right_input], [malstm_distance])\n",
    "\n",
    "# Adadelta optimizer, with gradient clipping by norm\n",
    "optimizer = Adam(lr=0.0003, beta_1=0.9, beta_2=0.999, epsilon=None, decay=0.0, amsgrad=False)\n",
    "\n",
    "malstm.compile(loss='mean_squared_error', optimizer=optimizer, metrics=['accuracy'])\n",
    "\n",
    "# Start training\n",
    "training_start_time = time()\n",
    "\n",
    "malstm_trained = malstm.fit([X_train['left'], X_train['right']], Y_train, batch_size=batch_size, \\\n",
    "                            nb_epoch=n_epoch, validation_data=([X_valid['left'], X_valid['right']], \\\n",
    "                                                               Y_valid))"
   ]
  },
  {
   "cell_type": "code",
   "execution_count": 20,
   "metadata": {},
   "outputs": [
    {
     "name": "stdout",
     "output_type": "stream",
     "text": [
      "Training time finished.\n",
      "30 epochs in 12:20:23.768441\n"
     ]
    }
   ],
   "source": [
    "import datetime\n",
    "print(\"Training time finished.\\n{} epochs in {}\".format(n_epoch, \\\n",
    "      datetime.timedelta(seconds=time()-training_start_time)))"
   ]
  },
  {
   "cell_type": "code",
   "execution_count": 21,
   "metadata": {},
   "outputs": [
    {
     "data": {
      "image/png": "[encoded data removed]",
      "text/plain": [
       "<Figure size 432x288 with 1 Axes>"
      ]
     },
     "metadata": {
      "needs_background": "light"
     },
     "output_type": "display_data"
    },
    {
     "data": {
      "image/png": "[encoded data removed]",
      "text/plain": [
       "<Figure size 432x288 with 1 Axes>"
      ]
     },
     "metadata": {
      "needs_background": "light"
     },
     "output_type": "display_data"
    }
   ],
   "source": [
    "import matplotlib.pyplot as plt\n",
    "# Plot accuracy\n",
    "plt.plot(malstm_trained.history['acc'])\n",
    "plt.plot(malstm_trained.history['val_acc'])\n",
    "plt.title('Model Accuracy')\n",
    "plt.ylabel('Accuracy')\n",
    "plt.xlabel('Epoch')\n",
    "plt.legend(['Train', 'Validation'], loc='upper left')\n",
    "plt.show()\n",
    "\n",
    "# Plot loss\n",
    "plt.plot(malstm_trained.history['loss'])\n",
    "plt.plot(malstm_trained.history['val_loss'])\n",
    "plt.title('Model Loss')\n",
    "plt.ylabel('Loss')\n",
    "plt.xlabel('Epoch')\n",
    "plt.legend(['Train', 'Validation'], loc='upper right')\n",
    "plt.show()"
   ]
  },
  {
   "cell_type": "code",
   "execution_count": 22,
   "metadata": {},
   "outputs": [],
   "source": [
    "malstm.save('./model/magru-hidden64-batch-64.h5')"
   ]
  },
  {
   "cell_type": "code",
   "execution_count": null,
   "metadata": {},
   "outputs": [],
   "source": []
  }
 ],
 "metadata": {
  "kernelspec": {
   "display_name": "Python 3",
   "language": "python",
   "name": "python3"
  },
  "language_info": {
   "codemirror_mode": {
    "name": "ipython",
    "version": 3
   },
   "file_extension": ".py",
   "mimetype": "text/x-python",
   "name": "python",
   "nbconvert_exporter": "python",
   "pygments_lexer": "ipython3",
   "version": "3.7.3"
  }
 },
 "nbformat": 4,
 "nbformat_minor": 2
}
