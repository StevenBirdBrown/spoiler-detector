{
 "cells": [
  {
   "cell_type": "code",
   "execution_count": 1,
   "metadata": {},
   "outputs": [],
   "source": [
    "import json\n",
    "import numpy as np\n",
    "import pandas as pd\n",
    "import csv\n",
    "import gluonnlp as nlp\n",
    "import multiprocessing as mp"
   ]
  },
  {
   "cell_type": "markdown",
   "metadata": {},
   "source": [
    "## Load and merge the data\n",
    "The source is Kaggle, [IMDB Spoiler Dataset](https://www.kaggle.com/rmisra/imdb-spoiler-dataset). The downloaded zip includes two files, we will demonstrate some of their contents below."
   ]
  },
  {
   "cell_type": "code",
   "execution_count": 2,
   "metadata": {},
   "outputs": [
    {
     "name": "stdout",
     "output_type": "stream",
     "text": [
      "(573385, 7)\n"
     ]
    },
    {
     "data": {
      "text/html": [
       "<div>\n",
       "<style scoped>\n",
       "    .dataframe tbody tr th:only-of-type {\n",
       "        vertical-align: middle;\n",
       "    }\n",
       "\n",
       "    .dataframe tbody tr th {\n",
       "        vertical-align: top;\n",
       "    }\n",
       "\n",
       "    .dataframe thead th {\n",
       "        text-align: right;\n",
       "    }\n",
       "</style>\n",
       "<table border=\"1\" class=\"dataframe\">\n",
       "  <thead>\n",
       "    <tr style=\"text-align: right;\">\n",
       "      <th></th>\n",
       "      <th>is_spoiler</th>\n",
       "      <th>movie_id</th>\n",
       "      <th>rating</th>\n",
       "      <th>review_date</th>\n",
       "      <th>review_summary</th>\n",
       "      <th>review_text</th>\n",
       "      <th>user_id</th>\n",
       "    </tr>\n",
       "  </thead>\n",
       "  <tbody>\n",
       "    <tr>\n",
       "      <th>503432</th>\n",
       "      <td>False</td>\n",
       "      <td>tt0107362</td>\n",
       "      <td>9</td>\n",
       "      <td>2016-09-04</td>\n",
       "      <td>Waay underrated delightful entertainment...</td>\n",
       "      <td>I'm giving it a 9, since the movie tickles you...</td>\n",
       "      <td>ur20597848</td>\n",
       "    </tr>\n",
       "    <tr>\n",
       "      <th>14719</th>\n",
       "      <td>False</td>\n",
       "      <td>tt0110912</td>\n",
       "      <td>10</td>\n",
       "      <td>1999-02-19</td>\n",
       "      <td>Appropriately named, excellently crafted.</td>\n",
       "      <td>This movie is excellent.  Why?  Most important...</td>\n",
       "      <td>ur0220236</td>\n",
       "    </tr>\n",
       "    <tr>\n",
       "      <th>333343</th>\n",
       "      <td>False</td>\n",
       "      <td>tt0349205</td>\n",
       "      <td>10</td>\n",
       "      <td>2004-02-16</td>\n",
       "      <td>HILARIOUS!</td>\n",
       "      <td>This movie is great.  There are some really fu...</td>\n",
       "      <td>ur3110774</td>\n",
       "    </tr>\n",
       "    <tr>\n",
       "      <th>557576</th>\n",
       "      <td>False</td>\n",
       "      <td>tt0169547</td>\n",
       "      <td>10</td>\n",
       "      <td>2000-03-04</td>\n",
       "      <td>The best movie I've ever seen. It opened my ey...</td>\n",
       "      <td>American Beauty is absolutely beautiful. I'm s...</td>\n",
       "      <td>ur0471080</td>\n",
       "    </tr>\n",
       "    <tr>\n",
       "      <th>265667</th>\n",
       "      <td>False</td>\n",
       "      <td>tt1396484</td>\n",
       "      <td>8</td>\n",
       "      <td>2017-09-20</td>\n",
       "      <td>Wait. This was good?? (L)IT!</td>\n",
       "      <td>So, I went and seen IT with my girlfriend and ...</td>\n",
       "      <td>ur53564317</td>\n",
       "    </tr>\n",
       "  </tbody>\n",
       "</table>\n",
       "</div>"
      ],
      "text/plain": [
       "        is_spoiler   movie_id  rating review_date  \\\n",
       "503432       False  tt0107362       9  2016-09-04   \n",
       "14719        False  tt0110912      10  1999-02-19   \n",
       "333343       False  tt0349205      10  2004-02-16   \n",
       "557576       False  tt0169547      10  2000-03-04   \n",
       "265667       False  tt1396484       8  2017-09-20   \n",
       "\n",
       "                                           review_summary  \\\n",
       "503432        Waay underrated delightful entertainment...   \n",
       "14719           Appropriately named, excellently crafted.   \n",
       "333343                                         HILARIOUS!   \n",
       "557576  The best movie I've ever seen. It opened my ey...   \n",
       "265667                       Wait. This was good?? (L)IT!   \n",
       "\n",
       "                                              review_text     user_id  \n",
       "503432  I'm giving it a 9, since the movie tickles you...  ur20597848  \n",
       "14719   This movie is excellent.  Why?  Most important...   ur0220236  \n",
       "333343  This movie is great.  There are some really fu...   ur3110774  \n",
       "557576  American Beauty is absolutely beautiful. I'm s...   ur0471080  \n",
       "265667  So, I went and seen IT with my girlfriend and ...  ur53564317  "
      ]
     },
     "execution_count": 2,
     "metadata": {},
     "output_type": "execute_result"
    }
   ],
   "source": [
    "df_reviews = pd.read_json('./data/imdb/IMDB_reviews.json', lines=True).\\\n",
    "             drop_duplicates('review_text').sample(frac=1)\n",
    "df_reviews.review_date = pd.to_datetime(df_reviews.review_date, infer_datetime_format=True)\n",
    "df_reviews.user_id = df_reviews.user_id.astype('category')\n",
    "print(df_reviews.shape)\n",
    "review_fields = [field for field in df_reviews]\n",
    "df_reviews.tail()"
   ]
  },
  {
   "cell_type": "code",
   "execution_count": 3,
   "metadata": {},
   "outputs": [
    {
     "name": "stdout",
     "output_type": "stream",
     "text": [
      "num of spoilers in all: 150856\n",
      "ration of spoilers in all: 0.2631\n",
      "a dummy classifier can achieve acc of 0.7369\n",
      "a rough estimation of how many users declare their reviews as spoilers: 0.1752\n"
     ]
    }
   ],
   "source": [
    "# the total number of spoilers in dataset\n",
    "num_spoilers = sum(df_reviews.is_spoiler)\n",
    "print('num of spoilers in all: %d\\nration of spoilers in all: %.4f\\na dummy classifier can achieve acc of %.4f' \\\n",
    "      % (num_spoilers, num_spoilers / df_reviews.shape[0], \\\n",
    "         1 - num_spoilers / df_reviews.shape[0]))\n",
    "# only less than 20% of the user comments' explicitly say that they contain spoilers\n",
    "num_notice = df_reviews.review_text.str.contains('spoiler', case=False).sum() / \\\n",
    "             df_reviews.is_spoiler.sum()\n",
    "print('a rough estimation of how many users declare their reviews as spoilers: %.4f' % num_notice)"
   ]
  },
  {
   "cell_type": "code",
   "execution_count": 4,
   "metadata": {},
   "outputs": [],
   "source": [
    "tokenizer = nlp.data.SpacyTokenizer('en')\n",
    "def get_word_count(x):\n",
    "    return len(tokenizer(x))\n",
    "\n",
    "with mp.Pool() as pool:\n",
    "    length_list = pool.map(get_word_count, df_reviews.review_text)"
   ]
  },
  {
   "cell_type": "code",
   "execution_count": 5,
   "metadata": {},
   "outputs": [
    {
     "name": "stdout",
     "output_type": "stream",
     "text": [
      "the average number of words in a review is: 303\n"
     ]
    }
   ],
   "source": [
    "print('the average number of words in a review is:', round(sum(length_list) / df_reviews.shape[0]))"
   ]
  },
  {
   "cell_type": "code",
   "execution_count": 6,
   "metadata": {},
   "outputs": [
    {
     "name": "stdout",
     "output_type": "stream",
     "text": [
      "(1572, 7)\n"
     ]
    },
    {
     "data": {
      "text/html": [
       "<div>\n",
       "<style scoped>\n",
       "    .dataframe tbody tr th:only-of-type {\n",
       "        vertical-align: middle;\n",
       "    }\n",
       "\n",
       "    .dataframe tbody tr th {\n",
       "        vertical-align: top;\n",
       "    }\n",
       "\n",
       "    .dataframe thead th {\n",
       "        text-align: right;\n",
       "    }\n",
       "</style>\n",
       "<table border=\"1\" class=\"dataframe\">\n",
       "  <thead>\n",
       "    <tr style=\"text-align: right;\">\n",
       "      <th></th>\n",
       "      <th>duration</th>\n",
       "      <th>genre</th>\n",
       "      <th>movie_id</th>\n",
       "      <th>plot_summary</th>\n",
       "      <th>plot_synopsis</th>\n",
       "      <th>rating</th>\n",
       "      <th>release_date</th>\n",
       "    </tr>\n",
       "  </thead>\n",
       "  <tbody>\n",
       "    <tr>\n",
       "      <th>1567</th>\n",
       "      <td>1h 53min</td>\n",
       "      <td>[Sci-Fi, Thriller]</td>\n",
       "      <td>tt0289879</td>\n",
       "      <td>Evan Treborn grows up in a small town with his...</td>\n",
       "      <td>In the year 1998, Evan Treborn (Ashton Kutcher...</td>\n",
       "      <td>7.7</td>\n",
       "      <td>2004-01-23</td>\n",
       "    </tr>\n",
       "    <tr>\n",
       "      <th>1568</th>\n",
       "      <td>1h 41min</td>\n",
       "      <td>[Drama]</td>\n",
       "      <td>tt1723811</td>\n",
       "      <td>Brandon is a 30-something man living in New Yo...</td>\n",
       "      <td>Brandon (Michael Fassbender) is a successful, ...</td>\n",
       "      <td>7.2</td>\n",
       "      <td>2012-01-13</td>\n",
       "    </tr>\n",
       "    <tr>\n",
       "      <th>1569</th>\n",
       "      <td>1h 46min</td>\n",
       "      <td>[Action, Drama, History]</td>\n",
       "      <td>tt5013056</td>\n",
       "      <td>Evacuation of Allied soldiers from the British...</td>\n",
       "      <td>The film alternates between three different pe...</td>\n",
       "      <td>8.1</td>\n",
       "      <td>2017-07-21</td>\n",
       "    </tr>\n",
       "    <tr>\n",
       "      <th>1570</th>\n",
       "      <td>1h 33min</td>\n",
       "      <td>[Comedy, Drama]</td>\n",
       "      <td>tt0104014/</td>\n",
       "      <td>For a while now, beautiful 24-year-old Diana B...</td>\n",
       "      <td></td>\n",
       "      <td>5.3</td>\n",
       "      <td>1992-02-21</td>\n",
       "    </tr>\n",
       "    <tr>\n",
       "      <th>1571</th>\n",
       "      <td>1h 32min</td>\n",
       "      <td>[Drama, Thriller]</td>\n",
       "      <td>tt0114142/</td>\n",
       "      <td>The marriage of David Burgess, a senior execut...</td>\n",
       "      <td></td>\n",
       "      <td>4.0</td>\n",
       "      <td>1999-01-29</td>\n",
       "    </tr>\n",
       "  </tbody>\n",
       "</table>\n",
       "</div>"
      ],
      "text/plain": [
       "      duration                     genre    movie_id  \\\n",
       "1567  1h 53min        [Sci-Fi, Thriller]   tt0289879   \n",
       "1568  1h 41min                   [Drama]   tt1723811   \n",
       "1569  1h 46min  [Action, Drama, History]   tt5013056   \n",
       "1570  1h 33min           [Comedy, Drama]  tt0104014/   \n",
       "1571  1h 32min         [Drama, Thriller]  tt0114142/   \n",
       "\n",
       "                                           plot_summary  \\\n",
       "1567  Evan Treborn grows up in a small town with his...   \n",
       "1568  Brandon is a 30-something man living in New Yo...   \n",
       "1569  Evacuation of Allied soldiers from the British...   \n",
       "1570  For a while now, beautiful 24-year-old Diana B...   \n",
       "1571  The marriage of David Burgess, a senior execut...   \n",
       "\n",
       "                                          plot_synopsis  rating release_date  \n",
       "1567  In the year 1998, Evan Treborn (Ashton Kutcher...     7.7   2004-01-23  \n",
       "1568  Brandon (Michael Fassbender) is a successful, ...     7.2   2012-01-13  \n",
       "1569  The film alternates between three different pe...     8.1   2017-07-21  \n",
       "1570                                                        5.3   1992-02-21  \n",
       "1571                                                        4.0   1999-01-29  "
      ]
     },
     "execution_count": 6,
     "metadata": {},
     "output_type": "execute_result"
    }
   ],
   "source": [
    "# imdb information about the movies\n",
    "df_movies = pd.read_json('./data/imdb/IMDB_movie_details.json', lines=True)\n",
    "df_movies.release_date = pd.to_datetime(df_movies.release_date, infer_datetime_format=True)\n",
    "print(df_movies.shape)\n",
    "df_movies.tail()"
   ]
  },
  {
   "cell_type": "code",
   "execution_count": 7,
   "metadata": {},
   "outputs": [
    {
     "name": "stdout",
     "output_type": "stream",
     "text": [
      "the average number of words in a plot summary is 120\n"
     ]
    }
   ],
   "source": [
    "with mp.Pool() as mp:\n",
    "    length_list = mp.map(get_word_count, df_movies.plot_summary)\n",
    "print('the average number of words in a plot summary is %d' % \\\n",
    "      round(sum(length_list) / df_movies.shape[0]))"
   ]
  },
  {
   "cell_type": "code",
   "execution_count": 8,
   "metadata": {},
   "outputs": [],
   "source": [
    "# join the two dataframe according to movie id\n",
    "df_reviews = df_reviews.merge(df_movies, on=\"movie_id\",how=\"left\",suffixes=('_review','_movie'))"
   ]
  },
  {
   "cell_type": "code",
   "execution_count": 9,
   "metadata": {},
   "outputs": [
    {
     "data": {
      "text/html": [
       "<div>\n",
       "<style scoped>\n",
       "    .dataframe tbody tr th:only-of-type {\n",
       "        vertical-align: middle;\n",
       "    }\n",
       "\n",
       "    .dataframe tbody tr th {\n",
       "        vertical-align: top;\n",
       "    }\n",
       "\n",
       "    .dataframe thead th {\n",
       "        text-align: right;\n",
       "    }\n",
       "</style>\n",
       "<table border=\"1\" class=\"dataframe\">\n",
       "  <thead>\n",
       "    <tr style=\"text-align: right;\">\n",
       "      <th></th>\n",
       "      <th>is_spoiler</th>\n",
       "      <th>movie_id</th>\n",
       "      <th>review_text</th>\n",
       "      <th>plot_summary</th>\n",
       "    </tr>\n",
       "  </thead>\n",
       "  <tbody>\n",
       "    <tr>\n",
       "      <th>573380</th>\n",
       "      <td>False</td>\n",
       "      <td>tt0107362</td>\n",
       "      <td>Waay underrated delightful entertainment... I'...</td>\n",
       "      <td>Young Danny Madigan is a big fan of Jack Slate...</td>\n",
       "    </tr>\n",
       "    <tr>\n",
       "      <th>573381</th>\n",
       "      <td>False</td>\n",
       "      <td>tt0110912</td>\n",
       "      <td>Appropriately named, excellently crafted. This...</td>\n",
       "      <td>Jules Winnfield (Samuel L. Jackson) and Vincen...</td>\n",
       "    </tr>\n",
       "    <tr>\n",
       "      <th>573382</th>\n",
       "      <td>False</td>\n",
       "      <td>tt0349205</td>\n",
       "      <td>HILARIOUS! This movie is great.  There are som...</td>\n",
       "      <td>The Bakers, a family of 14, move from small-to...</td>\n",
       "    </tr>\n",
       "    <tr>\n",
       "      <th>573383</th>\n",
       "      <td>False</td>\n",
       "      <td>tt0169547</td>\n",
       "      <td>The best movie I've ever seen. It opened my ey...</td>\n",
       "      <td>After his death sometime in his forty-third ye...</td>\n",
       "    </tr>\n",
       "    <tr>\n",
       "      <th>573384</th>\n",
       "      <td>False</td>\n",
       "      <td>tt1396484</td>\n",
       "      <td>Wait. This was good?? (L)IT! So, I went and se...</td>\n",
       "      <td>In the Town of Derry, the local kids are disap...</td>\n",
       "    </tr>\n",
       "  </tbody>\n",
       "</table>\n",
       "</div>"
      ],
      "text/plain": [
       "        is_spoiler   movie_id  \\\n",
       "573380       False  tt0107362   \n",
       "573381       False  tt0110912   \n",
       "573382       False  tt0349205   \n",
       "573383       False  tt0169547   \n",
       "573384       False  tt1396484   \n",
       "\n",
       "                                              review_text  \\\n",
       "573380  Waay underrated delightful entertainment... I'...   \n",
       "573381  Appropriately named, excellently crafted. This...   \n",
       "573382  HILARIOUS! This movie is great.  There are som...   \n",
       "573383  The best movie I've ever seen. It opened my ey...   \n",
       "573384  Wait. This was good?? (L)IT! So, I went and se...   \n",
       "\n",
       "                                             plot_summary  \n",
       "573380  Young Danny Madigan is a big fan of Jack Slate...  \n",
       "573381  Jules Winnfield (Samuel L. Jackson) and Vincen...  \n",
       "573382  The Bakers, a family of 14, move from small-to...  \n",
       "573383  After his death sometime in his forty-third ye...  \n",
       "573384  In the Town of Derry, the local kids are disap...  "
      ]
     },
     "execution_count": 9,
     "metadata": {},
     "output_type": "execute_result"
    }
   ],
   "source": [
    "columns_keep = ['is_spoiler', 'movie_id', 'plot_summary', 'review_summary', 'review_text',]\n",
    "all_columns = [review for review in df_reviews]\n",
    "for x in columns_keep:\n",
    "    all_columns.remove(x)\n",
    "drop_columns = all_columns\n",
    "df_train = df_reviews.drop(columns=drop_columns)\n",
    "df_train['review_text'] = df_reviews['review_summary']+ ' ' + df_reviews['review_text']\n",
    "df_train = df_train.drop(columns=['review_summary'])\n",
    "df_train.tail()"
   ]
  },
  {
   "cell_type": "markdown",
   "metadata": {},
   "source": [
    "## Save the processed data for future use"
   ]
  },
  {
   "cell_type": "code",
   "execution_count": 10,
   "metadata": {},
   "outputs": [
    {
     "name": "stdout",
     "output_type": "stream",
     "text": [
      "# of rows before dropping incomplete entries: 573385\n",
      "# of rows after dropping incomplete entries: 573378\n"
     ]
    },
    {
     "data": {
      "text/html": [
       "<div>\n",
       "<style scoped>\n",
       "    .dataframe tbody tr th:only-of-type {\n",
       "        vertical-align: middle;\n",
       "    }\n",
       "\n",
       "    .dataframe tbody tr th {\n",
       "        vertical-align: top;\n",
       "    }\n",
       "\n",
       "    .dataframe thead th {\n",
       "        text-align: right;\n",
       "    }\n",
       "</style>\n",
       "<table border=\"1\" class=\"dataframe\">\n",
       "  <thead>\n",
       "    <tr style=\"text-align: right;\">\n",
       "      <th></th>\n",
       "      <th>is_spoiler</th>\n",
       "      <th>movie_id</th>\n",
       "      <th>review_text</th>\n",
       "      <th>plot_summary</th>\n",
       "    </tr>\n",
       "  </thead>\n",
       "  <tbody>\n",
       "    <tr>\n",
       "      <th>0</th>\n",
       "      <td>False</td>\n",
       "      <td>tt1024648</td>\n",
       "      <td>Slow paced but interesting story based on true...</td>\n",
       "      <td>In 1979, the American embassy in Iran was inva...</td>\n",
       "    </tr>\n",
       "    <tr>\n",
       "      <th>1</th>\n",
       "      <td>False</td>\n",
       "      <td>tt0914798</td>\n",
       "      <td>An ethnic propaganda This is a very sick, sci-...</td>\n",
       "      <td>Young Bruno lives a wealthy lifestyle in prewa...</td>\n",
       "    </tr>\n",
       "    <tr>\n",
       "      <th>2</th>\n",
       "      <td>False</td>\n",
       "      <td>tt0265208</td>\n",
       "      <td>The most underrated movie of all time! I first...</td>\n",
       "      <td>18-year-old Matthew Kidman is a straight 'A' o...</td>\n",
       "    </tr>\n",
       "    <tr>\n",
       "      <th>3</th>\n",
       "      <td>False</td>\n",
       "      <td>tt1951261</td>\n",
       "      <td>This is a fine ending to the series if it is t...</td>\n",
       "      <td>In the aftermath of the death of Alan's father...</td>\n",
       "    </tr>\n",
       "    <tr>\n",
       "      <th>4</th>\n",
       "      <td>False</td>\n",
       "      <td>tt0118617</td>\n",
       "      <td>One of the best! Anastasia (1997) is honestly ...</td>\n",
       "      <td>The daughter of the last Russian Tsar, Nicolas...</td>\n",
       "    </tr>\n",
       "  </tbody>\n",
       "</table>\n",
       "</div>"
      ],
      "text/plain": [
       "   is_spoiler   movie_id                                        review_text  \\\n",
       "0       False  tt1024648  Slow paced but interesting story based on true...   \n",
       "1       False  tt0914798  An ethnic propaganda This is a very sick, sci-...   \n",
       "2       False  tt0265208  The most underrated movie of all time! I first...   \n",
       "3       False  tt1951261  This is a fine ending to the series if it is t...   \n",
       "4       False  tt0118617  One of the best! Anastasia (1997) is honestly ...   \n",
       "\n",
       "                                        plot_summary  \n",
       "0  In 1979, the American embassy in Iran was inva...  \n",
       "1  Young Bruno lives a wealthy lifestyle in prewa...  \n",
       "2  18-year-old Matthew Kidman is a straight 'A' o...  \n",
       "3  In the aftermath of the death of Alan's father...  \n",
       "4  The daughter of the last Russian Tsar, Nicolas...  "
      ]
     },
     "execution_count": 10,
     "metadata": {},
     "output_type": "execute_result"
    }
   ],
   "source": [
    "print('# of rows before dropping incomplete entries:', df_train.shape[0])\n",
    "dt_train=df_train.dropna()\n",
    "print('# of rows after dropping incomplete entries:', df_train.shape[0])\n",
    "df_train.to_csv('./data/train.csv', index=False)\n",
    "df_train.head()"
   ]
  }
 ],
 "metadata": {
  "kernelspec": {
   "display_name": "Python 3",
   "language": "python",
   "name": "python3"
  },
  "language_info": {
   "codemirror_mode": {
    "name": "ipython",
    "version": 3
   },
   "file_extension": ".py",
   "mimetype": "text/x-python",
   "name": "python",
   "nbconvert_exporter": "python",
   "pygments_lexer": "ipython3",
   "version": "3.7.3"
  }
 },
 "nbformat": 4,
 "nbformat_minor": 2
}
