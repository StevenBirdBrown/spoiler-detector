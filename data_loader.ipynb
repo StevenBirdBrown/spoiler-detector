{
 "cells": [
  {
   "cell_type": "code",
   "execution_count": 3,
   "metadata": {},
   "outputs": [],
   "source": [
    "import json\n",
    "import numpy as np\n",
    "import pandas as pd\n",
    "import csv\n",
    "import gluonnlp as nlp\n",
    "import multiprocessing as mp"
   ]
  },
  {
   "cell_type": "markdown",
   "metadata": {},
   "source": [
    "## Load and merge the data\n",
    "The source is Kaggle, [IMDB Spoiler Dataset](https://www.kaggle.com/rmisra/imdb-spoiler-dataset). The downloaded zip includes two files, we will demonstrate some of their contents below."
   ]
  },
  {
   "cell_type": "code",
   "execution_count": 4,
   "metadata": {},
   "outputs": [
    {
     "name": "stdout",
     "output_type": "stream",
     "text": [
      "(573385, 7)\n"
     ]
    },
    {
     "data": {
      "text/html": [
       "<div>\n",
       "<style scoped>\n",
       "    .dataframe tbody tr th:only-of-type {\n",
       "        vertical-align: middle;\n",
       "    }\n",
       "\n",
       "    .dataframe tbody tr th {\n",
       "        vertical-align: top;\n",
       "    }\n",
       "\n",
       "    .dataframe thead th {\n",
       "        text-align: right;\n",
       "    }\n",
       "</style>\n",
       "<table border=\"1\" class=\"dataframe\">\n",
       "  <thead>\n",
       "    <tr style=\"text-align: right;\">\n",
       "      <th></th>\n",
       "      <th>is_spoiler</th>\n",
       "      <th>movie_id</th>\n",
       "      <th>rating</th>\n",
       "      <th>review_date</th>\n",
       "      <th>review_summary</th>\n",
       "      <th>review_text</th>\n",
       "      <th>user_id</th>\n",
       "    </tr>\n",
       "  </thead>\n",
       "  <tbody>\n",
       "    <tr>\n",
       "      <th>410289</th>\n",
       "      <td>False</td>\n",
       "      <td>tt0396171</td>\n",
       "      <td>4</td>\n",
       "      <td>2007-11-29</td>\n",
       "      <td>Don't let this film prevent you from reading t...</td>\n",
       "      <td>The novel by Patrick Süskind on which the scri...</td>\n",
       "      <td>ur17559125</td>\n",
       "    </tr>\n",
       "    <tr>\n",
       "      <th>510061</th>\n",
       "      <td>False</td>\n",
       "      <td>tt0110148</td>\n",
       "      <td>4</td>\n",
       "      <td>2002-01-22</td>\n",
       "      <td>Apparently, Vampires Don't Fear CHEESE, Either!!!</td>\n",
       "      <td>Let me begin by saying that I have never read ...</td>\n",
       "      <td>ur1542448</td>\n",
       "    </tr>\n",
       "    <tr>\n",
       "      <th>312153</th>\n",
       "      <td>False</td>\n",
       "      <td>tt0289043</td>\n",
       "      <td>3</td>\n",
       "      <td>2003-04-27</td>\n",
       "      <td>It's all been done before</td>\n",
       "      <td>This story has been done so many times, it's h...</td>\n",
       "      <td>ur2347354</td>\n",
       "    </tr>\n",
       "    <tr>\n",
       "      <th>182045</th>\n",
       "      <td>False</td>\n",
       "      <td>tt1663662</td>\n",
       "      <td>8</td>\n",
       "      <td>2013-07-13</td>\n",
       "      <td>Cancelling the apocalypse has never looked so ...</td>\n",
       "      <td>The publicity for Guillermo del Toro's robots ...</td>\n",
       "      <td>ur22164449</td>\n",
       "    </tr>\n",
       "    <tr>\n",
       "      <th>491546</th>\n",
       "      <td>True</td>\n",
       "      <td>tt0102526</td>\n",
       "      <td>9</td>\n",
       "      <td>2017-05-28</td>\n",
       "      <td>Wesley Snipes is brilliant</td>\n",
       "      <td>This movie is unlike any other gangster movie ...</td>\n",
       "      <td>ur33697153</td>\n",
       "    </tr>\n",
       "  </tbody>\n",
       "</table>\n",
       "</div>"
      ],
      "text/plain": [
       "        is_spoiler   movie_id  rating review_date  \\\n",
       "410289       False  tt0396171       4  2007-11-29   \n",
       "510061       False  tt0110148       4  2002-01-22   \n",
       "312153       False  tt0289043       3  2003-04-27   \n",
       "182045       False  tt1663662       8  2013-07-13   \n",
       "491546        True  tt0102526       9  2017-05-28   \n",
       "\n",
       "                                           review_summary  \\\n",
       "410289  Don't let this film prevent you from reading t...   \n",
       "510061  Apparently, Vampires Don't Fear CHEESE, Either!!!   \n",
       "312153                          It's all been done before   \n",
       "182045  Cancelling the apocalypse has never looked so ...   \n",
       "491546                         Wesley Snipes is brilliant   \n",
       "\n",
       "                                              review_text     user_id  \n",
       "410289  The novel by Patrick Süskind on which the scri...  ur17559125  \n",
       "510061  Let me begin by saying that I have never read ...   ur1542448  \n",
       "312153  This story has been done so many times, it's h...   ur2347354  \n",
       "182045  The publicity for Guillermo del Toro's robots ...  ur22164449  \n",
       "491546  This movie is unlike any other gangster movie ...  ur33697153  "
      ]
     },
     "execution_count": 4,
     "metadata": {},
     "output_type": "execute_result"
    }
   ],
   "source": [
    "df_reviews = pd.read_json('./data/imdb/IMDB_reviews.json', lines=True).\\\n",
    "             drop_duplicates('review_text').sample(frac=1)\n",
    "df_reviews.review_date = pd.to_datetime(df_reviews.review_date, infer_datetime_format=True)\n",
    "df_reviews.user_id = df_reviews.user_id.astype('category')\n",
    "print(df_reviews.shape)\n",
    "review_fields = [field for field in df_reviews]\n",
    "df_reviews.tail()"
   ]
  },
  {
   "cell_type": "code",
   "execution_count": 5,
   "metadata": {},
   "outputs": [
    {
     "name": "stdout",
     "output_type": "stream",
     "text": [
      "num of spoilers in all: 150856\n",
      "ration of spoilers in all: 0.2631\n",
      "a dummy classifier can achieve acc of 0.7369\n",
      "a rough estimation of how many users declare their reviews as spoilers: 0.1752\n"
     ]
    }
   ],
   "source": [
    "# the total number of spoilers in dataset\n",
    "num_spoilers = sum(df_reviews.is_spoiler)\n",
    "print('num of spoilers in all: %d\\nration of spoilers in all: %.4f\\na dummy classifier can achieve acc of %.4f' \\\n",
    "      % (num_spoilers, num_spoilers / df_reviews.shape[0], \\\n",
    "         1 - num_spoilers / df_reviews.shape[0]))\n",
    "# only less than 20% of the user comments' explicitly say that they contain spoilers\n",
    "num_notice = df_reviews.review_text.str.contains('spoiler', case=False).sum() / \\\n",
    "             df_reviews.is_spoiler.sum()\n",
    "print('a rough estimation of how many users declare their reviews as spoilers: %.4f' % num_notice)"
   ]
  },
  {
   "cell_type": "code",
   "execution_count": 6,
   "metadata": {},
   "outputs": [],
   "source": [
    "tokenizer = nlp.data.SpacyTokenizer('en')\n",
    "def get_word_count(x):\n",
    "    return len(tokenizer(x))\n",
    "\n",
    "with mp.Pool() as pool:\n",
    "    length_list = pool.map(get_word_count, df_reviews.review_text)"
   ]
  },
  {
   "cell_type": "code",
   "execution_count": 11,
   "metadata": {},
   "outputs": [
    {
     "name": "stdout",
     "output_type": "stream",
     "text": [
      "the average number of words in a review is: 303\n"
     ]
    }
   ],
   "source": [
    "print('the average number of words in a review is:', round(sum(length_list) / df_reviews.shape[0]))"
   ]
  },
  {
   "cell_type": "code",
   "execution_count": 13,
   "metadata": {},
   "outputs": [
    {
     "name": "stdout",
     "output_type": "stream",
     "text": [
      "(1572, 7)\n"
     ]
    },
    {
     "data": {
      "text/html": [
       "<div>\n",
       "<style scoped>\n",
       "    .dataframe tbody tr th:only-of-type {\n",
       "        vertical-align: middle;\n",
       "    }\n",
       "\n",
       "    .dataframe tbody tr th {\n",
       "        vertical-align: top;\n",
       "    }\n",
       "\n",
       "    .dataframe thead th {\n",
       "        text-align: right;\n",
       "    }\n",
       "</style>\n",
       "<table border=\"1\" class=\"dataframe\">\n",
       "  <thead>\n",
       "    <tr style=\"text-align: right;\">\n",
       "      <th></th>\n",
       "      <th>duration</th>\n",
       "      <th>genre</th>\n",
       "      <th>movie_id</th>\n",
       "      <th>plot_summary</th>\n",
       "      <th>plot_synopsis</th>\n",
       "      <th>rating</th>\n",
       "      <th>release_date</th>\n",
       "    </tr>\n",
       "  </thead>\n",
       "  <tbody>\n",
       "    <tr>\n",
       "      <th>1567</th>\n",
       "      <td>1h 53min</td>\n",
       "      <td>[Sci-Fi, Thriller]</td>\n",
       "      <td>tt0289879</td>\n",
       "      <td>Evan Treborn grows up in a small town with his...</td>\n",
       "      <td>In the year 1998, Evan Treborn (Ashton Kutcher...</td>\n",
       "      <td>7.7</td>\n",
       "      <td>2004-01-23</td>\n",
       "    </tr>\n",
       "    <tr>\n",
       "      <th>1568</th>\n",
       "      <td>1h 41min</td>\n",
       "      <td>[Drama]</td>\n",
       "      <td>tt1723811</td>\n",
       "      <td>Brandon is a 30-something man living in New Yo...</td>\n",
       "      <td>Brandon (Michael Fassbender) is a successful, ...</td>\n",
       "      <td>7.2</td>\n",
       "      <td>2012-01-13</td>\n",
       "    </tr>\n",
       "    <tr>\n",
       "      <th>1569</th>\n",
       "      <td>1h 46min</td>\n",
       "      <td>[Action, Drama, History]</td>\n",
       "      <td>tt5013056</td>\n",
       "      <td>Evacuation of Allied soldiers from the British...</td>\n",
       "      <td>The film alternates between three different pe...</td>\n",
       "      <td>8.1</td>\n",
       "      <td>2017-07-21</td>\n",
       "    </tr>\n",
       "    <tr>\n",
       "      <th>1570</th>\n",
       "      <td>1h 33min</td>\n",
       "      <td>[Comedy, Drama]</td>\n",
       "      <td>tt0104014/</td>\n",
       "      <td>For a while now, beautiful 24-year-old Diana B...</td>\n",
       "      <td></td>\n",
       "      <td>5.3</td>\n",
       "      <td>1992-02-21</td>\n",
       "    </tr>\n",
       "    <tr>\n",
       "      <th>1571</th>\n",
       "      <td>1h 32min</td>\n",
       "      <td>[Drama, Thriller]</td>\n",
       "      <td>tt0114142/</td>\n",
       "      <td>The marriage of David Burgess, a senior execut...</td>\n",
       "      <td></td>\n",
       "      <td>4.0</td>\n",
       "      <td>1999-01-29</td>\n",
       "    </tr>\n",
       "  </tbody>\n",
       "</table>\n",
       "</div>"
      ],
      "text/plain": [
       "      duration                     genre    movie_id  \\\n",
       "1567  1h 53min        [Sci-Fi, Thriller]   tt0289879   \n",
       "1568  1h 41min                   [Drama]   tt1723811   \n",
       "1569  1h 46min  [Action, Drama, History]   tt5013056   \n",
       "1570  1h 33min           [Comedy, Drama]  tt0104014/   \n",
       "1571  1h 32min         [Drama, Thriller]  tt0114142/   \n",
       "\n",
       "                                           plot_summary  \\\n",
       "1567  Evan Treborn grows up in a small town with his...   \n",
       "1568  Brandon is a 30-something man living in New Yo...   \n",
       "1569  Evacuation of Allied soldiers from the British...   \n",
       "1570  For a while now, beautiful 24-year-old Diana B...   \n",
       "1571  The marriage of David Burgess, a senior execut...   \n",
       "\n",
       "                                          plot_synopsis  rating release_date  \n",
       "1567  In the year 1998, Evan Treborn (Ashton Kutcher...     7.7   2004-01-23  \n",
       "1568  Brandon (Michael Fassbender) is a successful, ...     7.2   2012-01-13  \n",
       "1569  The film alternates between three different pe...     8.1   2017-07-21  \n",
       "1570                                                        5.3   1992-02-21  \n",
       "1571                                                        4.0   1999-01-29  "
      ]
     },
     "execution_count": 13,
     "metadata": {},
     "output_type": "execute_result"
    }
   ],
   "source": [
    "# imdb information about the movies\n",
    "df_movies = pd.read_json('./data/imdb/IMDB_movie_details.json', lines=True)\n",
    "df_movies.release_date = pd.to_datetime(df_movies.release_date, infer_datetime_format=True)\n",
    "print(df_movies.shape)\n",
    "df_movies.tail()"
   ]
  },
  {
   "cell_type": "code",
   "execution_count": 14,
   "metadata": {},
   "outputs": [
    {
     "name": "stdout",
     "output_type": "stream",
     "text": [
      "the average number of words in a plot summary is 120\n"
     ]
    }
   ],
   "source": [
    "with mp.Pool() as mp:\n",
    "    length_list = mp.map(get_word_count, df_movies.plot_summary)\n",
    "print('the average number of words in a plot summary is %d' % \\\n",
    "      round(sum(length_list) / df_movies.shape[0]))"
   ]
  },
  {
   "cell_type": "code",
   "execution_count": 15,
   "metadata": {},
   "outputs": [],
   "source": [
    "# join the two dataframe according to movie id\n",
    "df_reviews = df_reviews.merge(df_movies, on=\"movie_id\",how=\"left\",suffixes=('_review','_movie'))"
   ]
  },
  {
   "cell_type": "code",
   "execution_count": 16,
   "metadata": {},
   "outputs": [
    {
     "data": {
      "text/html": [
       "<div>\n",
       "<style scoped>\n",
       "    .dataframe tbody tr th:only-of-type {\n",
       "        vertical-align: middle;\n",
       "    }\n",
       "\n",
       "    .dataframe tbody tr th {\n",
       "        vertical-align: top;\n",
       "    }\n",
       "\n",
       "    .dataframe thead th {\n",
       "        text-align: right;\n",
       "    }\n",
       "</style>\n",
       "<table border=\"1\" class=\"dataframe\">\n",
       "  <thead>\n",
       "    <tr style=\"text-align: right;\">\n",
       "      <th></th>\n",
       "      <th>is_spoiler</th>\n",
       "      <th>movie_id</th>\n",
       "      <th>review_text</th>\n",
       "      <th>plot_summary</th>\n",
       "    </tr>\n",
       "  </thead>\n",
       "  <tbody>\n",
       "    <tr>\n",
       "      <th>573380</th>\n",
       "      <td>False</td>\n",
       "      <td>tt0396171</td>\n",
       "      <td>Don't let this film prevent you from reading t...</td>\n",
       "      <td>Jean-Baptiste Grenouille came into the world u...</td>\n",
       "    </tr>\n",
       "    <tr>\n",
       "      <th>573381</th>\n",
       "      <td>False</td>\n",
       "      <td>tt0110148</td>\n",
       "      <td>Apparently, Vampires Don't Fear CHEESE, Either...</td>\n",
       "      <td>It hasn't even been a year since a plantation ...</td>\n",
       "    </tr>\n",
       "    <tr>\n",
       "      <th>573382</th>\n",
       "      <td>False</td>\n",
       "      <td>tt0289043</td>\n",
       "      <td>It's all been done before This story has been ...</td>\n",
       "      <td>Animal activists invade a laboratory with the ...</td>\n",
       "    </tr>\n",
       "    <tr>\n",
       "      <th>573383</th>\n",
       "      <td>False</td>\n",
       "      <td>tt1663662</td>\n",
       "      <td>Cancelling the apocalypse has never looked so ...</td>\n",
       "      <td>When monstrous creatures, known as Kaiju, star...</td>\n",
       "    </tr>\n",
       "    <tr>\n",
       "      <th>573384</th>\n",
       "      <td>True</td>\n",
       "      <td>tt0102526</td>\n",
       "      <td>Wesley Snipes is brilliant This movie is unlik...</td>\n",
       "      <td>The gangster Nino has a gang who call themselv...</td>\n",
       "    </tr>\n",
       "  </tbody>\n",
       "</table>\n",
       "</div>"
      ],
      "text/plain": [
       "        is_spoiler   movie_id  \\\n",
       "573380       False  tt0396171   \n",
       "573381       False  tt0110148   \n",
       "573382       False  tt0289043   \n",
       "573383       False  tt1663662   \n",
       "573384        True  tt0102526   \n",
       "\n",
       "                                              review_text  \\\n",
       "573380  Don't let this film prevent you from reading t...   \n",
       "573381  Apparently, Vampires Don't Fear CHEESE, Either...   \n",
       "573382  It's all been done before This story has been ...   \n",
       "573383  Cancelling the apocalypse has never looked so ...   \n",
       "573384  Wesley Snipes is brilliant This movie is unlik...   \n",
       "\n",
       "                                             plot_summary  \n",
       "573380  Jean-Baptiste Grenouille came into the world u...  \n",
       "573381  It hasn't even been a year since a plantation ...  \n",
       "573382  Animal activists invade a laboratory with the ...  \n",
       "573383  When monstrous creatures, known as Kaiju, star...  \n",
       "573384  The gangster Nino has a gang who call themselv...  "
      ]
     },
     "execution_count": 16,
     "metadata": {},
     "output_type": "execute_result"
    }
   ],
   "source": [
    "columns_keep = ['is_spoiler', 'movie_id', 'plot_summary', 'review_summary', 'review_text',]\n",
    "all_columns = [review for review in df_reviews]\n",
    "for x in columns_keep:\n",
    "    all_columns.remove(x)\n",
    "drop_columns = all_columns\n",
    "df_train = df_reviews.drop(columns=drop_columns)\n",
    "df_train['review_text'] = df_reviews['review_summary']+ ' ' + df_reviews['review_text']\n",
    "df_train = df_train.drop(columns=['review_summary'])\n",
    "df_train.tail()"
   ]
  },
  {
   "cell_type": "markdown",
   "metadata": {},
   "source": [
    "## Save the processed data for future use"
   ]
  },
  {
   "cell_type": "code",
   "execution_count": 17,
   "metadata": {},
   "outputs": [],
   "source": [
    "df_train.to_csv('./data/train.csv', sep='|', index=False)"
   ]
  }
 ],
 "metadata": {
  "kernelspec": {
   "display_name": "Python 3",
   "language": "python",
   "name": "python3"
  },
  "language_info": {
   "codemirror_mode": {
    "name": "ipython",
    "version": 3
   },
   "file_extension": ".py",
   "mimetype": "text/x-python",
   "name": "python",
   "nbconvert_exporter": "python",
   "pygments_lexer": "ipython3",
   "version": "3.7.3"
  }
 },
 "nbformat": 4,
 "nbformat_minor": 2
}
