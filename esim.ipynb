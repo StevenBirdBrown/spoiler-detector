{
 "cells": [
  {
   "cell_type": "markdown",
   "metadata": {},
   "source": [
    "## Structured Self-attentive Sentence Embedding\n",
    "\n",
    "The code is based on [gluon-nlp tutorial](https://gluon-nlp.mxnet.io/examples/sentence_embedding/self_attentive_sentence_embedding.html).\n",
    "\n",
    "## Import Related Packages"
   ]
  },
  {
   "cell_type": "code",
   "execution_count": 1,
   "metadata": {},
   "outputs": [],
   "source": [
    "import os\n",
    "import json\n",
    "import zipfile\n",
    "import time\n",
    "import itertools\n",
    "\n",
    "import numpy as np\n",
    "import mxnet as mx\n",
    "import multiprocessing as mp\n",
    "import gluonnlp as nlp\n",
    "\n",
    "from mxnet import gluon, nd, init\n",
    "from mxnet.gluon import nn, rnn\n",
    "from mxnet import autograd, gluon, nd\n",
    "from d2l import try_gpu\n",
    "import pandas as pd\n",
    "\n",
    "# iUse sklearn's metric function to evaluate the results of the experiment\n",
    "from sklearn.metrics import accuracy_score, f1_score\n",
    "\n",
    "# fixed random number seed\n",
    "np.random.seed(2333)\n",
    "mx.random.seed(2333)"
   ]
  },
  {
   "cell_type": "markdown",
   "metadata": {},
   "source": [
    "## Data pipeline\n",
    "\n",
    "### Load Dataset\n",
    "\n",
    "See [dataloader](data_loader.ipynb) for how the training samples are obtained."
   ]
  },
  {
   "cell_type": "code",
   "execution_count": 2,
   "metadata": {},
   "outputs": [],
   "source": [
    "data_folder = 'data/imdb/'\n",
    "file_name = 'train.csv'\n",
    "file_path = data_folder + file_name\n",
    "dev = True\n",
    "\n",
    "# load train file\n",
    "if dev:\n",
    "    # load only n rows\n",
    "    nrows = 80000\n",
    "    data = pd.read_csv(file_path, nrows=nrows)\n",
    "else:\n",
    "    # load all\n",
    "    data = pd.read_csv(file_path)"
   ]
  },
  {
   "cell_type": "code",
   "execution_count": 3,
   "metadata": {},
   "outputs": [
    {
     "data": {
      "text/plain": [
       "(79999, 4)"
      ]
     },
     "execution_count": 3,
     "metadata": {},
     "output_type": "execute_result"
    }
   ],
   "source": [
    "data.dropna(inplace=True)\n",
    "data.shape"
   ]
  },
  {
   "cell_type": "code",
   "execution_count": 4,
   "metadata": {},
   "outputs": [
    {
     "data": {
      "text/plain": [
       "(75999, 4000)"
      ]
     },
     "execution_count": 4,
     "metadata": {},
     "output_type": "execute_result"
    }
   ],
   "source": [
    "# create a list of review a label paris.\n",
    "dataset = [[left, right, int(label)] for left, right, label in \\\n",
    "           zip(data['review_text'], data['plot_summary'], data['is_spoiler'])]\n",
    "# randomly divide one percent from the training set as a verification set.\n",
    "train_dataset, valid_dataset = nlp.data.train_valid_split(dataset)\n",
    "len(train_dataset), len(valid_dataset)"
   ]
  },
  {
   "cell_type": "markdown",
   "metadata": {},
   "source": [
    "### Data Processing\n",
    "\n",
    "The purpose of the following code is to process the raw data so that the processed data can be used for model training and prediction. We will use the `SpacyTokenizer` to split the document into tokens, `ClipSequence` to crop the comments to the specified length, and build a vocabulary based on the word frequency of the training data. Then we attach the [Glove](https://nlp.stanford.edu/pubs/glove.pdf)[2]  pre-trained word vector to the vocabulary and convert each token into the corresponding word index in the vocabulary.\n",
    "Finally get the standardized training data set and verification data set"
   ]
  },
  {
   "cell_type": "code",
   "execution_count": 5,
   "metadata": {},
   "outputs": [
    {
     "name": "stdout",
     "output_type": "stream",
     "text": [
      "Done! Tokenizing Time=34.73s, #Sentences=75999\n",
      "Done! Tokenizing Time=2.73s, #Sentences=4000\n"
     ]
    }
   ],
   "source": [
    "# tokenizer takes as input a string and outputs a list of tokens.\n",
    "tokenizer = nlp.data.SpacyTokenizer('en')\n",
    "\n",
    "# length_clip takes as input a list and outputs a list with maximum length 300.\n",
    "length_clip_review = nlp.data.ClipSequence(300)\n",
    "length_clip_plot = nlp.data.ClipSequence(100)\n",
    "\n",
    "def preprocess(x):\n",
    "    # now the first element in tuple is review, second plot and third label\n",
    "    left, right, label = x[0], x[1], int(x[2])\n",
    "    # clip the length of review words\n",
    "    left, right = length_clip_review(tokenizer(left.lower())), \\\n",
    "                  length_clip_plot(tokenizer(right.lower()))\n",
    "    return left, right, label\n",
    "\n",
    "def get_length(x):\n",
    "    return float(len(x[0]))\n",
    "\n",
    "def preprocess_dataset(dataset):\n",
    "    start = time.time()\n",
    "\n",
    "    with mp.Pool() as pool:\n",
    "        # Each sample is processed in an asynchronous manner.\n",
    "        dataset = gluon.data.ArrayDataset(pool.map(preprocess, dataset))\n",
    "        lengths = gluon.data.ArrayDataset(pool.map(get_length, dataset))\n",
    "    end = time.time()\n",
    "\n",
    "    print('Done! Tokenizing Time={:.2f}s, #Sentences={}'.format(end - start, len(dataset)))\n",
    "    return dataset, lengths\n",
    "\n",
    "# Preprocess the dataset\n",
    "train_dataset, train_data_lengths = preprocess_dataset(train_dataset)\n",
    "valid_dataset, valid_data_lengths = preprocess_dataset(valid_dataset)"
   ]
  },
  {
   "cell_type": "code",
   "execution_count": 6,
   "metadata": {},
   "outputs": [
    {
     "name": "stdout",
     "output_type": "stream",
     "text": [
      "Vocab(size=20004, unk=\"<unk>\", reserved=\"['<pad>', '<bos>', '<eos>']\")\n"
     ]
    }
   ],
   "source": [
    "# create vocab\n",
    "train_seqs = [sample[0]+sample[1] for sample in train_dataset]\n",
    "counter = nlp.data.count_tokens(list(itertools.chain.from_iterable(train_seqs)))\n",
    "\n",
    "vocab = nlp.Vocab(counter, max_size=20000)\n",
    "\n",
    "# load pre-trained embedding, Glove\n",
    "embedding_weights = nlp.embedding.GloVe(source='glove.twitter.27B.200d')\n",
    "vocab.set_embedding(embedding_weights)\n",
    "print(vocab)\n",
    "\n",
    "# NOTE: to use the same encoder, we need to ensure that two inputs are of the same length\n",
    "# this is achieved by manual padding\n",
    "def token_to_idx(x):\n",
    "    return vocab[x[0]], vocab[x[1]], x[2]\n",
    "\n",
    "# A token index or a list of token indices is returned according to the vocabulary.\n",
    "with mp.Pool() as pool:\n",
    "    train_dataset = pool.map(token_to_idx, train_dataset)\n",
    "    valid_dataset = pool.map(token_to_idx, valid_dataset)"
   ]
  },
  {
   "cell_type": "code",
   "execution_count": 9,
   "metadata": {},
   "outputs": [
    {
     "data": {
      "text/plain": [
       "(13194, \n",
       " [ 7.3501e-01  2.3659e-01  8.1485e-02  6.9116e-02 -8.2966e-02  5.1736e-01\n",
       "  -2.2106e-01  1.2918e-01 -1.4550e-01  1.8944e-01  3.4552e-01 -2.7266e-01\n",
       "   2.5191e-01  4.1132e-02 -2.9738e-01 -1.9861e-01  2.3085e-01  2.0603e-01\n",
       "  -4.2740e-02  2.6072e-01 -6.5018e-01  5.0332e-02  1.6095e-01 -5.4888e-01\n",
       "  -2.7124e-01  1.1846e-01 -5.7249e-02 -3.1976e-01 -1.1128e-01  1.8404e-01\n",
       "  -2.0640e-01  4.7762e-01  3.5954e-02 -1.4585e-02 -6.9505e-02  6.1174e-01\n",
       "   4.4875e-01 -5.2554e-01 -1.5218e-01  3.7220e-01  3.6481e-01 -4.6937e-01\n",
       "  -9.1761e-02 -6.8574e-01 -5.4097e-01  8.5439e-01 -3.5236e-01 -2.0113e-01\n",
       "  -2.0686e-01 -1.0377e+00  4.0393e-01 -7.6687e-01 -2.3442e-01  2.8207e-01\n",
       "  -8.8382e-01 -5.5162e-03  6.4569e-01 -6.6990e-02  6.1193e-01  7.7833e-02\n",
       "   1.2878e-01  1.1748e-01 -4.4662e-01 -1.5219e-01 -9.0765e-01  6.0395e-01\n",
       "   1.4690e-01  2.9322e-01 -2.7783e-01 -5.7250e-01 -3.1507e-01  2.0820e-01\n",
       "  -1.5681e-01  1.1861e+00  5.2476e-01  3.4866e-01 -4.0212e-01 -3.9851e-01\n",
       "   2.9129e-01 -2.7880e-01  2.8829e-01  1.9564e-01 -2.7899e-01  3.6847e-01\n",
       "   1.3826e-01 -6.9025e-01 -4.1249e-01 -7.1170e-01  2.8858e-01  2.7638e-01\n",
       "   3.6034e-01  4.2460e-01 -1.5351e-01  1.9459e-01  7.9911e-01 -4.0513e-02\n",
       "   2.9826e-01 -8.3249e-02  6.8677e-01  2.3503e-01  5.2818e-01 -3.4757e-01\n",
       "  -2.6098e-01  2.9453e-01 -5.3556e-01 -7.7834e-02 -2.9957e-01 -9.3032e-02\n",
       "   6.4985e-01  7.2779e-01 -4.7749e-01  2.4823e-01 -2.9187e-01  7.2446e-01\n",
       "   1.7321e-01  4.1393e-01  1.1927e-01 -4.2901e-01 -2.3067e-01  1.8209e-01\n",
       "   1.0044e+00 -2.7857e-02  6.2388e-03  1.9663e-01  5.7858e-02 -2.0618e-01\n",
       "   2.8117e-01 -6.6775e-01 -2.1352e-02  3.2140e-01  2.3975e-01  5.9901e-01\n",
       "   2.2148e-02 -6.5890e-01 -2.6506e-01 -1.6623e-01  1.1656e-01 -2.0030e-01\n",
       "  -3.6758e-01 -6.8177e-01  7.0396e-01  1.0068e-01  2.4387e-02  5.7095e-01\n",
       "   6.1634e-01  7.8464e-02 -4.4905e-01  2.9945e-01 -4.3499e-02  3.8068e-01\n",
       "   7.3008e-01  3.3006e-01 -7.2527e-01 -3.6724e-01 -5.7050e-01  2.7842e-01\n",
       "   5.6509e-01 -6.1163e-01 -6.0670e-01  7.4337e-03 -1.9073e-01  8.2312e-05\n",
       "  -3.1425e-01  5.3427e-01  5.6350e-01  8.3806e-01 -3.6500e-01  1.1097e-01\n",
       "   3.4283e-01 -9.2376e-02  1.5929e-02  3.7449e-01  2.3812e-01 -1.5049e-01\n",
       "   2.5985e-01 -4.8193e-01 -9.5252e-01 -5.2063e-01 -4.1430e-01  6.4254e-01\n",
       "  -9.4603e-01  1.8581e-03 -3.6450e-01 -9.3968e-02 -2.2652e-04  1.1164e+00\n",
       "  -2.2338e-01 -7.4049e-01  1.9683e-01  2.5416e-01  4.6923e-01 -3.2709e-01\n",
       "   2.3938e-01  1.7447e-01  2.8088e-02 -4.9827e-01  9.5068e-01  1.3318e-01\n",
       "   6.8061e-02  4.1904e-03]\n",
       " <NDArray 200 @cpu(0)>)"
      ]
     },
     "execution_count": 9,
     "metadata": {},
     "output_type": "execute_result"
    }
   ],
   "source": [
    "idx = vocab.embedding.token_to_idx['xmen']\n",
    "idx, vocab.embedding.idx_to_vec[idx]"
   ]
  },
  {
   "cell_type": "markdown",
   "metadata": {},
   "source": [
    "## Bucketing and DataLoader\n",
    "Since each sentence may have a different length, we need to use `Pad` to fill the sentences in a minibatch to equal lengths so that the data can be quickly tensored on the GPU. At the same time, we need to use `Stack` to stack the category tags of a batch of data. For convenience, we use `Tuple` to combine `Pad` and `Stack`.\n",
    "\n",
    "In order to make the length of the sentence pad in each minibatch as small as possible, we should make the sentences with similar lengths in a batch as much as possible. In light of this, we consider constructing a sampler using `FixedBucketSampler`, which defines how the samples in a dataset will be iterated in a more economic way.\n",
    "\n",
    "Finally, we use `DataLoader` to build a data loader for the training. dataset and validation dataset. The training dataset requires FixedBucketSampler, but the validation dataset doesn't require the sampler."
   ]
  },
  {
   "cell_type": "code",
   "execution_count": 10,
   "metadata": {},
   "outputs": [
    {
     "name": "stdout",
     "output_type": "stream",
     "text": [
      "FixedBucketSampler:\n",
      "  sample_num=75999, batch_num=1149\n",
      "  key=[39, 68, 97, 126, 155, 184, 213, 242, 271, 300]\n",
      "  cnt=[185, 1705, 3056, 3957, 9504, 9908, 7226, 5556, 4476, 30426]\n",
      "  batch_size=[246, 141, 98, 76, 64, 64, 64, 64, 64, 64]\n"
     ]
    }
   ],
   "source": [
    "batch_size = 64\n",
    "bucket_num = 10\n",
    "bucket_ratio = 0.5\n",
    "\n",
    "\n",
    "def get_dataloader():\n",
    "    # Construct the DataLoader Pad data, stack label and lengths\n",
    "    batchify_fn = nlp.data.batchify.Tuple(nlp.data.batchify.Pad(axis=0), \\\n",
    "                                          nlp.data.batchify.Pad(axis=0),\n",
    "                                          nlp.data.batchify.Stack())\n",
    "\n",
    "    # n this example, we use a FixedBucketSampler,\n",
    "    # which assigns each data sample to a fixed bucket based on its length.\n",
    "    batch_sampler = nlp.data.sampler.FixedBucketSampler(\n",
    "        train_data_lengths,\n",
    "        batch_size=batch_size,\n",
    "        num_buckets=bucket_num,\n",
    "        ratio=bucket_ratio,\n",
    "        shuffle=True)\n",
    "    print(batch_sampler.stats())\n",
    "\n",
    "    # train_dataloader\n",
    "    train_dataloader = gluon.data.DataLoader(\n",
    "        dataset=train_dataset,\n",
    "        batch_sampler=batch_sampler,\n",
    "        batchify_fn=batchify_fn)\n",
    "    # valid_dataloader\n",
    "    valid_dataloader = gluon.data.DataLoader(\n",
    "        dataset=valid_dataset,\n",
    "        batch_size=batch_size,\n",
    "        shuffle=False,\n",
    "        batchify_fn=batchify_fn)\n",
    "    return train_dataloader, valid_dataloader\n",
    "\n",
    "train_dataloader, valid_dataloader = get_dataloader()"
   ]
  },
  {
   "cell_type": "code",
   "execution_count": 11,
   "metadata": {
    "scrolled": true
   },
   "outputs": [],
   "source": [
    "# experiement one the two dataloaders\n",
    "# for left, right, label in train_dataloader:\n",
    "    # print(left.shape, right.shape, label.shape)"
   ]
  },
  {
   "cell_type": "code",
   "execution_count": 12,
   "metadata": {},
   "outputs": [],
   "source": [
    "class WeightedSoftmaxCE(nn.HybridBlock):\n",
    "    def __init__(self, sparse_label=True, from_logits=False,  **kwargs):\n",
    "        super(WeightedSoftmaxCE, self).__init__(**kwargs)\n",
    "        with self.name_scope():\n",
    "            self.sparse_label = sparse_label\n",
    "            self.from_logits = from_logits\n",
    "\n",
    "    def hybrid_forward(self, F, pred, label, class_weight, depth=None):\n",
    "        if self.sparse_label:\n",
    "            label = F.reshape(label, shape=(-1, ))\n",
    "            label = F.one_hot(label, depth)\n",
    "        if not self.from_logits:\n",
    "            pred = F.log_softmax(pred, -1)\n",
    "\n",
    "        weight_label = F.broadcast_mul(label, class_weight)\n",
    "        loss = -F.sum(pred * weight_label, axis=-1)\n",
    "\n",
    "        # return F.mean(loss, axis=0, exclude=True)\n",
    "        return loss"
   ]
  },
  {
   "cell_type": "code",
   "execution_count": 13,
   "metadata": {},
   "outputs": [],
   "source": [
    "class AlignAttention(nn.Block):\n",
    "    def __init__(self, **kwargs):\n",
    "        super(AlignAttention, self).__init__(**kwargs)\n",
    "    \n",
    "    def forward(self, inp_left, inp_right):\n",
    "        # input dimension is of (batch_size, seq_len, embed_size)\n",
    "        # att dimension is of (batch_size, seq_len_left, seq_len_right)\n",
    "        att = nd.batch_dot(inp_left, nd.transpose(inp_right, axes = (0, 2, 1)))\n",
    "        # inp_left_dot dimention is of (batch_size, seq_left, embed_size)\n",
    "        inp_left_dot = nd.batch_dot(nd.softmax(att, axis=-1), inp_right)\n",
    "        # inp_right_dot dimension is of (batch_size, seq_right, embed_size)\n",
    "        inp_right_dot = nd.batch_dot(nd.softmax(nd.transpose(att, axes=(0, 2, 1)), axis=-1), inp_left)\n",
    "        # concat original (lstm output, dot multiplier, substraction, elementwise product)\n",
    "        # therefore, the real size is (batch_size, seq_len_left/right, embed_size*4)\n",
    "        aug_left = nd.concat(inp_left, inp_left_dot, inp_left-inp_left_dot, inp_left*inp_left_dot, dim=-1)\n",
    "        aug_right = nd.concat(inp_right, inp_right_dot, inp_right-inp_right_dot, inp_right*inp_right_dot, dim=-1)\n",
    "        return aug_left, aug_right"
   ]
  },
  {
   "cell_type": "code",
   "execution_count": 14,
   "metadata": {},
   "outputs": [],
   "source": [
    "class EnhancedSeqInfer(nn.Block):\n",
    "    def __init__(self, vocab_len, embsize, nhidden, nlayers, nfc, nclass, drop_prob, **kwargs):\n",
    "        super(EnhancedSeqInfer, self).__init__(**kwargs)\n",
    "        with self.name_scope():\n",
    "            # dropout prob\n",
    "            self.drop_prob = drop_prob\n",
    "            # word embedding\n",
    "            self.embedding_layer = nn.Embedding(vocab_len, embsize)\n",
    "            # first lstm, from sentence embed to hidden outputs\n",
    "            self.bilstm1 = rnn.LSTM(nhidden, num_layers=nlayers, dropout=drop_prob, bidirectional=True)\n",
    "            # second lstm, from augmented embed to m\n",
    "            self.bilstm2 = rnn.LSTM(nhidden, num_layers=1, dropout=drop_prob, bidirectional=True)\n",
    "            # enhancement\n",
    "            self.align_att = AlignAttention()\n",
    "            # this layer is used to output the final class\n",
    "            self.output_layer = nn.HybridSequential()\n",
    "            self.output_layer.add(nn.Dense(nfc, activation='tanh'), nn.Dropout(rate=drop_prob), \\\n",
    "                                  nn.Dense(nfc, activation='tanh'), nn.Dropout(rate=drop_prob), \\\n",
    "                                  nn.Dense(nclass))\n",
    "\n",
    "    def forward(self, inp_left, inp_right):\n",
    "        # inp is a list containing left_text and right_text\n",
    "        # their size: [batch, token_idx]\n",
    "        # inp_embed_left/right size: [batch, seq_len, embed_size]\n",
    "        inp_embed_left = self.embedding_layer(inp_left)\n",
    "        inp_embed_right = self.embedding_layer(inp_right)\n",
    "        # rnn requires the first dimension to be the time steps, output is (seq_len, batch_size, embed_size)\n",
    "        h_output_left = self.bilstm1(nd.transpose(inp_embed_left, axes=(1, 0, 2)))\n",
    "        h_output_right = self.bilstm1(nd.transpose(inp_embed_right, axes=(1, 0, 2)))\n",
    "        m_left, m_right = self.align_att(nd.transpose(h_output_left, axes=(1, 0, 2)), \\\n",
    "                                                      nd.transpose(h_output_right, axes=(1, 0, 2)))\n",
    "        # apply another layer of lstm\n",
    "        # v_left/right shape is (seq_len, batch_size, embed_size)\n",
    "        v_left = self.bilstm2(nd.transpose(m_left, axes=(1, 0, 2)))\n",
    "        v_right = self.bilstm2(nd.transpose(m_right, axes=(1, 0, 2)))\n",
    "        # restore v's shape (batch_size, seq_len, embed_size)\n",
    "        v_left = nd.transpose(v_left, axes=(1, 0, 2))\n",
    "        v_right = nd.transpose(v_right, axes=(1, 0, 2))\n",
    "        # apply max pooling 1D and avg pooling 1D\n",
    "        v_left_avg = nd.sum(v_left, axis=1) / v_left.shape[1]\n",
    "        v_right_avg = nd.sum(v_right, axis=1) / v_right.shape[1]\n",
    "        v_left_max = nd.max(v_left, axis=1)\n",
    "        v_right_max = nd.max(v_right, axis=1)\n",
    "        # concatenate these 4 matrices\n",
    "        dense_input = nd.concat(v_left_avg, v_left_max, v_right_avg, v_left_max, dim=-1)\n",
    "        \n",
    "        output = self.output_layer(dense_input)\n",
    "        return output"
   ]
  },
  {
   "cell_type": "markdown",
   "metadata": {},
   "source": [
    "## Configure parameters and build models\n",
    "\n",
    "The resulting `M` is a matrix, and the way to classify this matrix is `flatten`, `mean` or `prune`. Prune is a way of trimming parameters proposed in the original paper and has been implemented here."
   ]
  },
  {
   "cell_type": "code",
   "execution_count": 15,
   "metadata": {},
   "outputs": [
    {
     "name": "stdout",
     "output_type": "stream",
     "text": [
      "EnhancedSeqInfer(\n",
      "  (embedding_layer): Embedding(20004 -> 200, float32)\n",
      "  (bilstm1): LSTM(None -> 300, TNC, num_layers=3, bidirectional)\n",
      "  (bilstm2): LSTM(None -> 300, TNC, bidirectional)\n",
      "  (align_att): AlignAttention(\n",
      "  \n",
      "  )\n",
      "  (output_layer): HybridSequential(\n",
      "    (0): Dense(None -> 1024, Activation(tanh))\n",
      "    (1): Dropout(p = 0, axes=())\n",
      "    (2): Dense(None -> 1024, Activation(tanh))\n",
      "    (3): Dropout(p = 0, axes=())\n",
      "    (4): Dense(None -> 2, linear)\n",
      "  )\n",
      ")\n"
     ]
    }
   ],
   "source": [
    "vocab_len = len(vocab)\n",
    "emsize = 200   # word embedding size\n",
    "nhidden = 300    # lstm hidden_dim\n",
    "nlayers = 3     # lstm layers\n",
    "\n",
    "# final fc layer's number of hidden units and predicted number of classes\n",
    "nfc = 1024\n",
    "nclass = 2\n",
    "\n",
    "drop_prob = 0\n",
    "\n",
    "ctx = try_gpu()\n",
    "\n",
    "model = EnhancedSeqInfer(vocab_len, emsize, nhidden, nlayers, nfc, nclass, drop_prob)\n",
    "\n",
    "model.initialize(init=init.Xavier(), ctx=ctx)\n",
    "\n",
    "# Attach a pre-trained glove word vector to the embedding layer\n",
    "model.embedding_layer.weight.set_data(vocab.embedding.idx_to_vec)\n",
    "# fixed the embedding layer\n",
    "model.embedding_layer.collect_params().setattr('grad_req', 'null')\n",
    "\n",
    "print(model)\n",
    "\n",
    "train_curve, valid_curve = [], []"
   ]
  },
  {
   "cell_type": "code",
   "execution_count": 16,
   "metadata": {},
   "outputs": [],
   "source": [
    "def calculate_loss(x_left, x_right, y, model, loss, class_weight):\n",
    "    pred = model(x_left, x_right)\n",
    "    y = nd.array(y.asnumpy().astype('int32')).as_in_context(ctx)\n",
    "    if loss_name == 'sce':\n",
    "        l = loss(pred, y)\n",
    "    elif loss_name == 'wsce':\n",
    "        l = loss(pred, y, class_weight, class_weight.shape[0])\n",
    "    else:\n",
    "        raise NotImplemented\n",
    "    return pred, l"
   ]
  },
  {
   "cell_type": "code",
   "execution_count": 17,
   "metadata": {},
   "outputs": [],
   "source": [
    "def one_epoch(data_iter, model, loss, trainer, ctx, is_train, epoch, \\\n",
    "              clip=None, class_weight=None, loss_name='sce'):\n",
    "\n",
    "    loss_val = 0.\n",
    "    total_pred = []\n",
    "    total_true = []\n",
    "    n_batch = 0\n",
    "\n",
    "    for batch_x_left, batch_x_right, batch_y in data_iter:\n",
    "        batch_x_left = batch_x_left.as_in_context(ctx)\n",
    "        batch_x_right = batch_x_right.as_in_context(ctx)\n",
    "        batch_y = batch_y.as_in_context(ctx)\n",
    "\n",
    "        if is_train:\n",
    "            with autograd.record():\n",
    "                batch_pred, l = calculate_loss(batch_x_left, batch_x_right, \\\n",
    "                                               batch_y, model, loss, class_weight)\n",
    "\n",
    "            # backward calculate\n",
    "            l.backward()\n",
    "\n",
    "            # clip gradient\n",
    "            clip_params = [p.data() for p in model.collect_params().values()]\n",
    "            if clip is not None:\n",
    "                norm = nd.array([0.0], ctx)\n",
    "                for param in clip_params:\n",
    "                    if param.grad is not None:\n",
    "                        norm += (param.grad ** 2).sum()\n",
    "                norm = norm.sqrt().asscalar()\n",
    "                if norm > clip:\n",
    "                    for param in clip_params:\n",
    "                        if param.grad is not None:\n",
    "                            param.grad[:] *= clip / norm\n",
    "\n",
    "            # update parmas\n",
    "            trainer.step(batch_x_left.shape[0])\n",
    "\n",
    "        else:\n",
    "            batch_pred, l = calculate_loss(batch_x_left, batch_x_right, \\\n",
    "                                           batch_y, model, loss, class_weight)\n",
    "\n",
    "        # keep result for metric\n",
    "        batch_pred = nd.argmax(nd.softmax(batch_pred, axis=1), axis=1).asnumpy()\n",
    "        batch_true = np.reshape(batch_y.asnumpy(), (-1, ))\n",
    "        total_pred.extend(batch_pred.tolist())\n",
    "        total_true.extend(batch_true.tolist())\n",
    "        \n",
    "        batch_loss = l.mean().asscalar()\n",
    "\n",
    "        n_batch += 1\n",
    "        loss_val += batch_loss\n",
    "\n",
    "        # check the result of traing phase\n",
    "        if is_train and n_batch % 400 == 0:\n",
    "            print('epoch %d, batch %d, batch_train_loss %.4f, batch_train_acc %.3f' %\n",
    "                  (epoch, n_batch, batch_loss, accuracy_score(batch_true, batch_pred)))\n",
    "\n",
    "    # metric\n",
    "    F1 = f1_score(np.array(total_true), np.array(total_pred), average='binary')\n",
    "    acc = accuracy_score(np.array(total_true), np.array(total_pred))\n",
    "    loss_val /= n_batch\n",
    "\n",
    "    if is_train:\n",
    "        print('epoch %d, learning_rate %.5f \\n\\t train_loss %.4f, acc_train %.3f, F1_train %.3f, ' %\n",
    "              (epoch, trainer.learning_rate, loss_val, acc, F1))\n",
    "        train_curve.append((acc, F1))\n",
    "        # declay lr\n",
    "        if epoch % 3 == 0:\n",
    "            trainer.set_learning_rate(trainer.learning_rate * 0.9)\n",
    "    else:\n",
    "        print('\\t valid_loss %.4f, acc_valid %.3f, F1_valid %.3f, ' % (loss_val, acc, F1))\n",
    "        valid_curve.append((acc, F1))"
   ]
  },
  {
   "cell_type": "code",
   "execution_count": 18,
   "metadata": {},
   "outputs": [],
   "source": [
    "def train_valid(data_iter_train, data_iter_valid, model, loss, trainer, \\\n",
    "                ctx, nepochs, clip=None, class_weight=None, loss_name='sce'):\n",
    "\n",
    "    for epoch in range(1, nepochs+1):\n",
    "        start = time.time()\n",
    "        # train\n",
    "        is_train = True\n",
    "        one_epoch(data_iter_train, model, loss, trainer, ctx, is_train,\n",
    "                  epoch, clip, class_weight, loss_name)\n",
    "\n",
    "        # valid\n",
    "        is_train = False\n",
    "        one_epoch(data_iter_valid, model, loss, trainer, ctx, is_train,\n",
    "                  epoch, clip, class_weight, loss_name)\n",
    "        end = time.time()\n",
    "        print('time %.2f sec' % (end-start))\n",
    "        print(\"*\"*100)"
   ]
  },
  {
   "cell_type": "markdown",
   "metadata": {},
   "source": [
    "## Train\n",
    "Now that we are training the model, we use WeightedSoftmaxCE to alleviate the problem of data category imbalance."
   ]
  },
  {
   "cell_type": "code",
   "execution_count": 19,
   "metadata": {},
   "outputs": [],
   "source": [
    "class_weight = None\n",
    "loss_name = 'sce'\n",
    "optim = 'adam'\n",
    "lr = 0.001\n",
    "clip = .5\n",
    "nepochs = 10\n",
    "\n",
    "trainer = gluon.Trainer(model.collect_params(), optim, {'learning_rate': lr})\n",
    "\n",
    "if loss_name == 'sce':\n",
    "    loss = gluon.loss.SoftmaxCrossEntropyLoss()\n",
    "elif loss_name == 'wsce':\n",
    "    loss = WeightedSoftmaxCE()\n",
    "    # the value of class_weight is obtained by counting data in advance. It can be seen as a hyperparameter.\n",
    "    class_weight = nd.array([1., 3.], ctx=ctx)\n",
    "else:\n",
    "    print('loss function {} is not implemented!'.format(loss_name))\n",
    "    raise NotImplemented"
   ]
  },
  {
   "cell_type": "code",
   "execution_count": 20,
   "metadata": {
    "scrolled": true
   },
   "outputs": [
    {
     "name": "stdout",
     "output_type": "stream",
     "text": [
      "epoch 1, batch 400, batch_train_loss 0.6095, batch_train_acc 0.672\n",
      "epoch 1, batch 800, batch_train_loss 0.2859, batch_train_acc 0.986\n",
      "epoch 1, learning_rate 0.00100 \n",
      "\t train_loss 0.6001, acc_train 0.737, F1_train 0.215, \n",
      "\t valid_loss 0.5172, acc_valid 0.750, F1_valid 0.403, \n",
      "time 819.00 sec\n",
      "****************************************************************************************************\n",
      "epoch 2, batch 400, batch_train_loss 0.6493, batch_train_acc 0.703\n",
      "epoch 2, batch 800, batch_train_loss 0.6246, batch_train_acc 0.641\n",
      "epoch 2, learning_rate 0.00100 \n",
      "\t train_loss 0.5329, acc_train 0.759, F1_train 0.341, \n",
      "\t valid_loss 0.4895, acc_valid 0.765, F1_valid 0.376, \n",
      "time 814.65 sec\n",
      "****************************************************************************************************\n",
      "epoch 3, batch 400, batch_train_loss 0.5962, batch_train_acc 0.672\n",
      "epoch 3, batch 800, batch_train_loss 0.6644, batch_train_acc 0.625\n",
      "epoch 3, learning_rate 0.00100 \n",
      "\t train_loss 0.5078, acc_train 0.768, F1_train 0.392, \n",
      "\t valid_loss 0.4837, acc_valid 0.773, F1_valid 0.387, \n",
      "time 826.10 sec\n",
      "****************************************************************************************************\n",
      "epoch 4, batch 400, batch_train_loss 0.6415, batch_train_acc 0.672\n",
      "epoch 4, batch 800, batch_train_loss 0.5329, batch_train_acc 0.781\n",
      "epoch 4, learning_rate 0.00090 \n",
      "\t train_loss 0.4939, acc_train 0.772, F1_train 0.425, \n",
      "\t valid_loss 0.4813, acc_valid 0.768, F1_valid 0.469, \n",
      "time 828.35 sec\n",
      "****************************************************************************************************\n",
      "epoch 5, batch 400, batch_train_loss 0.4235, batch_train_acc 0.859\n",
      "epoch 5, batch 800, batch_train_loss 0.4820, batch_train_acc 0.781\n",
      "epoch 5, learning_rate 0.00090 \n",
      "\t train_loss 0.4818, acc_train 0.779, F1_train 0.459, \n",
      "\t valid_loss 0.4743, acc_valid 0.780, F1_valid 0.447, \n",
      "time 839.85 sec\n",
      "****************************************************************************************************\n",
      "epoch 6, batch 400, batch_train_loss 0.5020, batch_train_acc 0.766\n",
      "epoch 6, batch 800, batch_train_loss 0.5056, batch_train_acc 0.769\n",
      "epoch 6, learning_rate 0.00090 \n",
      "\t train_loss 0.4660, acc_train 0.788, F1_train 0.501, \n",
      "\t valid_loss 0.4807, acc_valid 0.771, F1_valid 0.498, \n",
      "time 821.01 sec\n",
      "****************************************************************************************************\n",
      "epoch 7, batch 400, batch_train_loss 0.5392, batch_train_acc 0.734\n",
      "epoch 7, batch 800, batch_train_loss 0.3515, batch_train_acc 0.828\n",
      "epoch 7, learning_rate 0.00081 \n",
      "\t train_loss 0.4443, acc_train 0.800, F1_train 0.549, \n",
      "\t valid_loss 0.4989, acc_valid 0.761, F1_valid 0.511, \n",
      "time 842.02 sec\n",
      "****************************************************************************************************\n",
      "epoch 8, batch 400, batch_train_loss 0.4926, batch_train_acc 0.750\n",
      "epoch 8, batch 800, batch_train_loss 0.4278, batch_train_acc 0.781\n",
      "epoch 8, learning_rate 0.00081 \n",
      "\t train_loss 0.4123, acc_train 0.817, F1_train 0.605, \n",
      "\t valid_loss 0.5243, acc_valid 0.767, F1_valid 0.388, \n",
      "time 819.50 sec\n",
      "****************************************************************************************************\n",
      "epoch 9, batch 400, batch_train_loss 0.4309, batch_train_acc 0.812\n",
      "epoch 9, batch 800, batch_train_loss 0.3785, batch_train_acc 0.812\n",
      "epoch 9, learning_rate 0.00081 \n",
      "\t train_loss 0.3725, acc_train 0.842, F1_train 0.674, \n",
      "\t valid_loss 0.5083, acc_valid 0.760, F1_valid 0.485, \n",
      "time 818.13 sec\n",
      "****************************************************************************************************\n",
      "epoch 10, batch 400, batch_train_loss 0.0688, batch_train_acc 0.990\n",
      "epoch 10, batch 800, batch_train_loss 0.1599, batch_train_acc 0.947\n",
      "epoch 10, learning_rate 0.00073 \n",
      "\t train_loss 0.3151, acc_train 0.874, F1_train 0.748, \n",
      "\t valid_loss 0.5923, acc_valid 0.755, F1_valid 0.453, \n",
      "time 828.42 sec\n",
      "****************************************************************************************************\n"
     ]
    }
   ],
   "source": [
    "# train and valid\n",
    "train_valid(train_dataloader, valid_dataloader, model, loss, \\\n",
    "            trainer, ctx, nepochs, clip=clip, class_weight=class_weight, loss_name=loss_name)"
   ]
  },
  {
   "cell_type": "markdown",
   "metadata": {},
   "source": [
    "## Predict\n",
    "Now we will randomly input a movie plot summary and its review to see if the model decide the review is a spoiler or not."
   ]
  },
  {
   "cell_type": "code",
   "execution_count": 22,
   "metadata": {},
   "outputs": [
    {
     "data": {
      "text/plain": [
       "([(0.736851800681588, 0.2145241742272495),\n",
       "  (0.7592731483308991, 0.3409819530996722),\n",
       "  (0.7678390505138225, 0.3920474123079043),\n",
       "  (0.7720233160962644, 0.42472939770237067),\n",
       "  (0.7791813050171713, 0.45944727179024675),\n",
       "  (0.7876551007250095, 0.5010203450621482),\n",
       "  (0.8001684232687272, 0.5493338081248701),\n",
       "  (0.8169449598021027, 0.6049298574430625),\n",
       "  (0.8415373886498506, 0.6742229556090567),\n",
       "  (0.8738799194726247, 0.7480217671337313)],\n",
       " [(0.75, 0.4033412887828163),\n",
       "  (0.765, 0.3758300132802125),\n",
       "  (0.77275, 0.38705327039784215),\n",
       "  (0.76775, 0.4688393367638651),\n",
       "  (0.78025, 0.44682190056639387),\n",
       "  (0.771, 0.49780701754385953),\n",
       "  (0.76125, 0.5110087045570917),\n",
       "  (0.76725, 0.3879026955950033),\n",
       "  (0.76, 0.48497854077253216),\n",
       "  (0.75525, 0.4533780011166946)])"
      ]
     },
     "execution_count": 22,
     "metadata": {},
     "output_type": "execute_result"
    }
   ],
   "source": [
    "model.save_parameters('model/esim-{:.4}.params'.format(str(valid_curve[-1][0])))\n",
    "train_curve, valid_curve"
   ]
  },
  {
   "cell_type": "markdown",
   "metadata": {},
   "source": [
    "model.load_parameters('model/esim-')"
   ]
  },
  {
   "cell_type": "code",
   "execution_count": 6,
   "metadata": {},
   "outputs": [
    {
     "ename": "NameError",
     "evalue": "name 'vocab' is not defined",
     "output_type": "error",
     "traceback": [
      "\u001b[0;31m---------------------------------------------------------------------------\u001b[0m",
      "\u001b[0;31mNameError\u001b[0m                                 Traceback (most recent call last)",
      "\u001b[0;32m<ipython-input-6-2144acc2a6d2>\u001b[0m in \u001b[0;36m<module>\u001b[0;34m\u001b[0m\n\u001b[1;32m      7\u001b[0m         \u001b[0;32min\u001b[0m \u001b[0mthe\u001b[0m \u001b[0msentence\u001b[0m\u001b[0;34m.\u001b[0m \u001b[0mI\u001b[0m \u001b[0mliked\u001b[0m \u001b[0msarah\u001b[0m \u001b[0;32mand\u001b[0m \u001b[0mjack\u001b[0m \u001b[0;32min\u001b[0m \u001b[0mthis\u001b[0m \u001b[0mmovie\u001b[0m\u001b[0;34m,\u001b[0m \u001b[0mbut\u001b[0m \u001b[0mhate\u001b[0m \u001b[0mjohn\u001b[0m\u001b[0;34m,\u001b[0m \u001b[0mbecause\u001b[0m \u001b[0mhe\u001b[0m\u001b[0;31m \u001b[0m\u001b[0;31m\\\u001b[0m\u001b[0;34m\u001b[0m\u001b[0;34m\u001b[0m\u001b[0m\n\u001b[1;32m      8\u001b[0m         \u001b[0mkilled\u001b[0m \u001b[0msarah\u001b[0m\u001b[0;31m'\u001b[0m\u001b[0;34m\u001b[0m\u001b[0;34m\u001b[0m\u001b[0m\n\u001b[0;32m----> 9\u001b[0;31m \u001b[0mleft_token\u001b[0m \u001b[0;34m=\u001b[0m \u001b[0mvocab\u001b[0m\u001b[0;34m[\u001b[0m\u001b[0mtokenizer\u001b[0m\u001b[0;34m(\u001b[0m\u001b[0mleft\u001b[0m\u001b[0;34m)\u001b[0m\u001b[0;34m]\u001b[0m\u001b[0;34m\u001b[0m\u001b[0;34m\u001b[0m\u001b[0m\n\u001b[0m\u001b[1;32m     10\u001b[0m \u001b[0mright_token\u001b[0m \u001b[0;34m=\u001b[0m \u001b[0mvocab\u001b[0m\u001b[0;34m[\u001b[0m\u001b[0mtokenizer\u001b[0m\u001b[0;34m(\u001b[0m\u001b[0mright\u001b[0m\u001b[0;34m)\u001b[0m\u001b[0;34m]\u001b[0m\u001b[0;34m\u001b[0m\u001b[0;34m\u001b[0m\u001b[0m\n",
      "\u001b[0;31mNameError\u001b[0m: name 'vocab' is not defined"
     ]
    }
   ],
   "source": [
    "right = 'john is a former police, his daughter, sarah was killed in a car accident, which he \\\n",
    "        did not think was purely accidental. with his investigation went deeper, he found \\\n",
    "        that sarah\\'s boyfriend, jack, was the one to blame.'\n",
    "left = 'Word embedding can effectively represent the semantic similarity between words, \\\n",
    "        which brings many breakthroughs for natural language processing tasks. \\\n",
    "        The attention mechanism can intuitively grasp the important semantic features \\\n",
    "        in the sentence. I liked sarah and jack in this movie, but hate john, because he \\\n",
    "        killed sarah'\n",
    "left_token = vocab[tokenizer(left)]\n",
    "right_token = vocab[tokenizer(right)]"
   ]
  },
  {
   "cell_type": "code",
   "execution_count": 58,
   "metadata": {},
   "outputs": [
    {
     "data": {
      "text/plain": [
       "\n",
       "[[1.000000e+00 6.869653e-13]]\n",
       "<NDArray 1x2 @gpu(0)>"
      ]
     },
     "execution_count": 58,
     "metadata": {},
     "output_type": "execute_result"
    }
   ],
   "source": [
    "left_input = nd.array(left_token, ctx=ctx).reshape(1,-1)\n",
    "right_input = nd.array(right_token, ctx=ctx).reshape(1,-1)\n",
    "pred = model(left_input, right_input)\n",
    "pred\n",
    "#model.embedding_layer_right.weight.list_data()"
   ]
  },
  {
   "cell_type": "markdown",
   "metadata": {},
   "source": [
    "In order to intuitively feel the role of the attention mechanism, we visualize the output of the model's attention on the predicted samples."
   ]
  }
 ],
 "metadata": {
  "kernelspec": {
   "display_name": "Python 3",
   "language": "python",
   "name": "python3"
  },
  "language_info": {
   "codemirror_mode": {
    "name": "ipython",
    "version": 3
   },
   "file_extension": ".py",
   "mimetype": "text/x-python",
   "name": "python",
   "nbconvert_exporter": "python",
   "pygments_lexer": "ipython3",
   "version": "3.7.3"
  }
 },
 "nbformat": 4,
 "nbformat_minor": 2
}
