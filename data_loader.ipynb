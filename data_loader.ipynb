{
 "cells": [
  {
   "cell_type": "code",
   "execution_count": 1,
   "metadata": {},
   "outputs": [],
   "source": [
    "import json\n",
    "import numpy as np\n",
    "import pandas as pd\n",
    "import csv\n",
    "import gluonnlp as nlp\n",
    "import multiprocessing as mp"
   ]
  },
  {
   "cell_type": "markdown",
   "metadata": {},
   "source": [
    "## Load and merge the data\n",
    "The source is Kaggle, [IMDB Spoiler Dataset](https://www.kaggle.com/rmisra/imdb-spoiler-dataset). The downloaded zip includes two files, we will demonstrate some of their contents below."
   ]
  },
  {
   "cell_type": "code",
   "execution_count": 2,
   "metadata": {},
   "outputs": [
    {
     "name": "stdout",
     "output_type": "stream",
     "text": [
      "(573385, 7)\n"
     ]
    },
    {
     "data": {
      "text/html": [
       "<div>\n",
       "<style scoped>\n",
       "    .dataframe tbody tr th:only-of-type {\n",
       "        vertical-align: middle;\n",
       "    }\n",
       "\n",
       "    .dataframe tbody tr th {\n",
       "        vertical-align: top;\n",
       "    }\n",
       "\n",
       "    .dataframe thead th {\n",
       "        text-align: right;\n",
       "    }\n",
       "</style>\n",
       "<table border=\"1\" class=\"dataframe\">\n",
       "  <thead>\n",
       "    <tr style=\"text-align: right;\">\n",
       "      <th></th>\n",
       "      <th>is_spoiler</th>\n",
       "      <th>movie_id</th>\n",
       "      <th>rating</th>\n",
       "      <th>review_date</th>\n",
       "      <th>review_summary</th>\n",
       "      <th>review_text</th>\n",
       "      <th>user_id</th>\n",
       "    </tr>\n",
       "  </thead>\n",
       "  <tbody>\n",
       "    <tr>\n",
       "      <th>151931</th>\n",
       "      <td>False</td>\n",
       "      <td>tt0478304</td>\n",
       "      <td>1</td>\n",
       "      <td>2011-11-05</td>\n",
       "      <td>Someone owes me 139 minutes of my life back, I...</td>\n",
       "      <td>Very seldom, and by seldom I mean never, do I ...</td>\n",
       "      <td>ur29000275</td>\n",
       "    </tr>\n",
       "    <tr>\n",
       "      <th>167297</th>\n",
       "      <td>True</td>\n",
       "      <td>tt0948470</td>\n",
       "      <td>4</td>\n",
       "      <td>2012-07-20</td>\n",
       "      <td>Didn't really do it for me</td>\n",
       "      <td>I didn't really like this version, don't get m...</td>\n",
       "      <td>ur23522411</td>\n",
       "    </tr>\n",
       "    <tr>\n",
       "      <th>208761</th>\n",
       "      <td>False</td>\n",
       "      <td>tt1843866</td>\n",
       "      <td>9</td>\n",
       "      <td>2015-08-31</td>\n",
       "      <td>Till the end of the road.</td>\n",
       "      <td>Stonking! Now this is more like it, after the ...</td>\n",
       "      <td>ur16161013</td>\n",
       "    </tr>\n",
       "    <tr>\n",
       "      <th>365587</th>\n",
       "      <td>False</td>\n",
       "      <td>tt0369339</td>\n",
       "      <td>10</td>\n",
       "      <td>2004-12-30</td>\n",
       "      <td>Simply amazing</td>\n",
       "      <td>For a \"hit-man\" movie I give this film a 10 ou...</td>\n",
       "      <td>ur4187577</td>\n",
       "    </tr>\n",
       "    <tr>\n",
       "      <th>179746</th>\n",
       "      <td>False</td>\n",
       "      <td>tt1170358</td>\n",
       "      <td>9</td>\n",
       "      <td>2013-12-28</td>\n",
       "      <td>As Awesome as the first part.</td>\n",
       "      <td>I was satisfied with the first entry in the tr...</td>\n",
       "      <td>ur34875353</td>\n",
       "    </tr>\n",
       "  </tbody>\n",
       "</table>\n",
       "</div>"
      ],
      "text/plain": [
       "        is_spoiler   movie_id  rating review_date  \\\n",
       "151931       False  tt0478304       1  2011-11-05   \n",
       "167297        True  tt0948470       4  2012-07-20   \n",
       "208761       False  tt1843866       9  2015-08-31   \n",
       "365587       False  tt0369339      10  2004-12-30   \n",
       "179746       False  tt1170358       9  2013-12-28   \n",
       "\n",
       "                                           review_summary  \\\n",
       "151931  Someone owes me 139 minutes of my life back, I...   \n",
       "167297                         Didn't really do it for me   \n",
       "208761                          Till the end of the road.   \n",
       "365587                                     Simply amazing   \n",
       "179746                      As Awesome as the first part.   \n",
       "\n",
       "                                              review_text     user_id  \n",
       "151931  Very seldom, and by seldom I mean never, do I ...  ur29000275  \n",
       "167297  I didn't really like this version, don't get m...  ur23522411  \n",
       "208761  Stonking! Now this is more like it, after the ...  ur16161013  \n",
       "365587  For a \"hit-man\" movie I give this film a 10 ou...   ur4187577  \n",
       "179746  I was satisfied with the first entry in the tr...  ur34875353  "
      ]
     },
     "execution_count": 2,
     "metadata": {},
     "output_type": "execute_result"
    }
   ],
   "source": [
    "df_reviews = pd.read_json('./data/IMDB_reviews.json', lines=True).\\\n",
    "             drop_duplicates('review_text').sample(frac=1)\n",
    "df_reviews.review_date = pd.to_datetime(df_reviews.review_date, infer_datetime_format=True)\n",
    "df_reviews.user_id = df_reviews.user_id.astype('category')\n",
    "print(df_reviews.shape)\n",
    "review_fields = [field for field in df_reviews]\n",
    "df_reviews.tail()"
   ]
  },
  {
   "cell_type": "code",
   "execution_count": 3,
   "metadata": {},
   "outputs": [
    {
     "name": "stdout",
     "output_type": "stream",
     "text": [
      "num of spoilers in all: 150856\n",
      "ration of spoilers in all: 0.2631\n",
      "a dummy classifier can achieve acc of 0.7369\n",
      "a rough estimation of how many users declare their reviews as spoilers: 0.1752\n"
     ]
    }
   ],
   "source": [
    "# the total number of spoilers in dataset\n",
    "num_spoilers = sum(df_reviews.is_spoiler)\n",
    "print('num of spoilers in all: %d\\nration of spoilers in all: %.4f\\na dummy classifier can achieve acc of %.4f' \\\n",
    "      % (num_spoilers, num_spoilers / df_reviews.shape[0], \\\n",
    "         1 - num_spoilers / df_reviews.shape[0]))\n",
    "# only less than 20% of the user comments' explicitly say that they contain spoilers\n",
    "num_notice = df_reviews.review_text.str.contains('spoiler', case=False).sum() / \\\n",
    "             df_reviews.is_spoiler.sum()\n",
    "print('a rough estimation of how many users declare their reviews as spoilers: %.4f' % num_notice)"
   ]
  },
  {
   "cell_type": "code",
   "execution_count": 4,
   "metadata": {},
   "outputs": [],
   "source": [
    "tokenizer = nlp.data.SpacyTokenizer('en')\n",
    "def get_word_count(x):\n",
    "    return len(tokenizer(x))\n",
    "\n",
    "with mp.Pool() as pool:\n",
    "    length_list = pool.map(get_word_count, df_reviews.review_text)"
   ]
  },
  {
   "cell_type": "code",
   "execution_count": 8,
   "metadata": {},
   "outputs": [
    {
     "ename": "TypeError",
     "evalue": "'int' object is not iterable",
     "output_type": "error",
     "traceback": [
      "\u001b[0;31m---------------------------------------------------------------------------\u001b[0m",
      "\u001b[0;31mTypeError\u001b[0m                                 Traceback (most recent call last)",
      "\u001b[0;32m<ipython-input-8-cab53c94822a>\u001b[0m in \u001b[0;36m<module>\u001b[0;34m\u001b[0m\n\u001b[0;32m----> 1\u001b[0;31m \u001b[0mprint\u001b[0m\u001b[0;34m(\u001b[0m\u001b[0;34m'the average number of words in a review is %d'\u001b[0m\u001b[0;34m,\u001b[0m \u001b[0mround\u001b[0m\u001b[0;34m(\u001b[0m\u001b[0msum\u001b[0m\u001b[0;34m(\u001b[0m\u001b[0mlength_list\u001b[0m\u001b[0;34m[\u001b[0m\u001b[0;36m0\u001b[0m\u001b[0;34m]\u001b[0m\u001b[0;34m)\u001b[0m \u001b[0;34m/\u001b[0m \u001b[0mdf_reviews\u001b[0m\u001b[0;34m.\u001b[0m\u001b[0mshape\u001b[0m\u001b[0;34m[\u001b[0m\u001b[0;36m0\u001b[0m\u001b[0;34m]\u001b[0m\u001b[0;34m)\u001b[0m\u001b[0;34m)\u001b[0m\u001b[0;34m\u001b[0m\u001b[0;34m\u001b[0m\u001b[0m\n\u001b[0m",
      "\u001b[0;31mTypeError\u001b[0m: 'int' object is not iterable"
     ]
    }
   ],
   "source": [
    "print('the average number of words in a review is %d' % \\\n",
    "      (round(sum(length_list[0]) / df_reviews.shape[0]))"
   ]
  },
  {
   "cell_type": "code",
   "execution_count": 9,
   "metadata": {},
   "outputs": [
    {
     "name": "stdout",
     "output_type": "stream",
     "text": [
      "(1572, 7)\n"
     ]
    },
    {
     "data": {
      "text/html": [
       "<div>\n",
       "<style scoped>\n",
       "    .dataframe tbody tr th:only-of-type {\n",
       "        vertical-align: middle;\n",
       "    }\n",
       "\n",
       "    .dataframe tbody tr th {\n",
       "        vertical-align: top;\n",
       "    }\n",
       "\n",
       "    .dataframe thead th {\n",
       "        text-align: right;\n",
       "    }\n",
       "</style>\n",
       "<table border=\"1\" class=\"dataframe\">\n",
       "  <thead>\n",
       "    <tr style=\"text-align: right;\">\n",
       "      <th></th>\n",
       "      <th>duration</th>\n",
       "      <th>genre</th>\n",
       "      <th>movie_id</th>\n",
       "      <th>plot_summary</th>\n",
       "      <th>plot_synopsis</th>\n",
       "      <th>rating</th>\n",
       "      <th>release_date</th>\n",
       "    </tr>\n",
       "  </thead>\n",
       "  <tbody>\n",
       "    <tr>\n",
       "      <th>1567</th>\n",
       "      <td>1h 53min</td>\n",
       "      <td>[Sci-Fi, Thriller]</td>\n",
       "      <td>tt0289879</td>\n",
       "      <td>Evan Treborn grows up in a small town with his...</td>\n",
       "      <td>In the year 1998, Evan Treborn (Ashton Kutcher...</td>\n",
       "      <td>7.7</td>\n",
       "      <td>2004-01-23</td>\n",
       "    </tr>\n",
       "    <tr>\n",
       "      <th>1568</th>\n",
       "      <td>1h 41min</td>\n",
       "      <td>[Drama]</td>\n",
       "      <td>tt1723811</td>\n",
       "      <td>Brandon is a 30-something man living in New Yo...</td>\n",
       "      <td>Brandon (Michael Fassbender) is a successful, ...</td>\n",
       "      <td>7.2</td>\n",
       "      <td>2012-01-13</td>\n",
       "    </tr>\n",
       "    <tr>\n",
       "      <th>1569</th>\n",
       "      <td>1h 46min</td>\n",
       "      <td>[Action, Drama, History]</td>\n",
       "      <td>tt5013056</td>\n",
       "      <td>Evacuation of Allied soldiers from the British...</td>\n",
       "      <td>The film alternates between three different pe...</td>\n",
       "      <td>8.1</td>\n",
       "      <td>2017-07-21</td>\n",
       "    </tr>\n",
       "    <tr>\n",
       "      <th>1570</th>\n",
       "      <td>1h 33min</td>\n",
       "      <td>[Comedy, Drama]</td>\n",
       "      <td>tt0104014/</td>\n",
       "      <td>For a while now, beautiful 24-year-old Diana B...</td>\n",
       "      <td></td>\n",
       "      <td>5.3</td>\n",
       "      <td>1992-02-21</td>\n",
       "    </tr>\n",
       "    <tr>\n",
       "      <th>1571</th>\n",
       "      <td>1h 32min</td>\n",
       "      <td>[Drama, Thriller]</td>\n",
       "      <td>tt0114142/</td>\n",
       "      <td>The marriage of David Burgess, a senior execut...</td>\n",
       "      <td></td>\n",
       "      <td>4.0</td>\n",
       "      <td>1999-01-29</td>\n",
       "    </tr>\n",
       "  </tbody>\n",
       "</table>\n",
       "</div>"
      ],
      "text/plain": [
       "      duration                     genre    movie_id  \\\n",
       "1567  1h 53min        [Sci-Fi, Thriller]   tt0289879   \n",
       "1568  1h 41min                   [Drama]   tt1723811   \n",
       "1569  1h 46min  [Action, Drama, History]   tt5013056   \n",
       "1570  1h 33min           [Comedy, Drama]  tt0104014/   \n",
       "1571  1h 32min         [Drama, Thriller]  tt0114142/   \n",
       "\n",
       "                                           plot_summary  \\\n",
       "1567  Evan Treborn grows up in a small town with his...   \n",
       "1568  Brandon is a 30-something man living in New Yo...   \n",
       "1569  Evacuation of Allied soldiers from the British...   \n",
       "1570  For a while now, beautiful 24-year-old Diana B...   \n",
       "1571  The marriage of David Burgess, a senior execut...   \n",
       "\n",
       "                                          plot_synopsis  rating release_date  \n",
       "1567  In the year 1998, Evan Treborn (Ashton Kutcher...     7.7   2004-01-23  \n",
       "1568  Brandon (Michael Fassbender) is a successful, ...     7.2   2012-01-13  \n",
       "1569  The film alternates between three different pe...     8.1   2017-07-21  \n",
       "1570                                                        5.3   1992-02-21  \n",
       "1571                                                        4.0   1999-01-29  "
      ]
     },
     "execution_count": 9,
     "metadata": {},
     "output_type": "execute_result"
    }
   ],
   "source": [
    "# imdb information about the movies\n",
    "df_movies = pd.read_json('./data/IMDB_movie_details.json', lines=True)\n",
    "df_movies.release_date = pd.to_datetime(df_movies.release_date, infer_datetime_format=True)\n",
    "print(df_movies.shape)\n",
    "df_movies.tail()"
   ]
  },
  {
   "cell_type": "code",
   "execution_count": 45,
   "metadata": {},
   "outputs": [
    {
     "name": "stdout",
     "output_type": "stream",
     "text": [
      "the average number of words in a plot summary is 120\n"
     ]
    }
   ],
   "source": [
    "with mp.Pool() as mp:\n",
    "    length_list = mp.map(get_word_count, df_movies.plot_summary)\n",
    "print('the average number of words in a plot summary is %d' % \\\n",
    "      round(sum(length_list) / df_movies.shape[0]))"
   ]
  },
  {
   "cell_type": "code",
   "execution_count": 10,
   "metadata": {},
   "outputs": [],
   "source": [
    "# join the two dataframe according to movie id\n",
    "df_reviews = df_reviews.merge(df_movies, on=\"movie_id\",how=\"left\",suffixes=('_review','_movie'))"
   ]
  },
  {
   "cell_type": "code",
   "execution_count": 11,
   "metadata": {},
   "outputs": [
    {
     "data": {
      "text/html": [
       "<div>\n",
       "<style scoped>\n",
       "    .dataframe tbody tr th:only-of-type {\n",
       "        vertical-align: middle;\n",
       "    }\n",
       "\n",
       "    .dataframe tbody tr th {\n",
       "        vertical-align: top;\n",
       "    }\n",
       "\n",
       "    .dataframe thead th {\n",
       "        text-align: right;\n",
       "    }\n",
       "</style>\n",
       "<table border=\"1\" class=\"dataframe\">\n",
       "  <thead>\n",
       "    <tr style=\"text-align: right;\">\n",
       "      <th></th>\n",
       "      <th>is_spoiler</th>\n",
       "      <th>movie_id</th>\n",
       "      <th>review_text</th>\n",
       "      <th>plot_summary</th>\n",
       "    </tr>\n",
       "  </thead>\n",
       "  <tbody>\n",
       "    <tr>\n",
       "      <th>573380</th>\n",
       "      <td>False</td>\n",
       "      <td>tt0478304</td>\n",
       "      <td>Someone owes me 139 minutes of my life back, I...</td>\n",
       "      <td>The impressionistic story of a Texas family in...</td>\n",
       "    </tr>\n",
       "    <tr>\n",
       "      <th>573381</th>\n",
       "      <td>True</td>\n",
       "      <td>tt0948470</td>\n",
       "      <td>Didn't really do it for me I didn't really lik...</td>\n",
       "      <td>Peter Parker (Garfield) is an outcast high sch...</td>\n",
       "    </tr>\n",
       "    <tr>\n",
       "      <th>573382</th>\n",
       "      <td>False</td>\n",
       "      <td>tt1843866</td>\n",
       "      <td>Till the end of the road. Stonking! Now this i...</td>\n",
       "      <td>For Steve Rogers, awakening after decades of s...</td>\n",
       "    </tr>\n",
       "    <tr>\n",
       "      <th>573383</th>\n",
       "      <td>False</td>\n",
       "      <td>tt0369339</td>\n",
       "      <td>Simply amazing For a \"hit-man\" movie I give th...</td>\n",
       "      <td>LA cabbie Max Durocher is the type of person w...</td>\n",
       "    </tr>\n",
       "    <tr>\n",
       "      <th>573384</th>\n",
       "      <td>False</td>\n",
       "      <td>tt1170358</td>\n",
       "      <td>As Awesome as the first part. I was satisfied ...</td>\n",
       "      <td>After successfully crossing over (and under) t...</td>\n",
       "    </tr>\n",
       "  </tbody>\n",
       "</table>\n",
       "</div>"
      ],
      "text/plain": [
       "        is_spoiler   movie_id  \\\n",
       "573380       False  tt0478304   \n",
       "573381        True  tt0948470   \n",
       "573382       False  tt1843866   \n",
       "573383       False  tt0369339   \n",
       "573384       False  tt1170358   \n",
       "\n",
       "                                              review_text  \\\n",
       "573380  Someone owes me 139 minutes of my life back, I...   \n",
       "573381  Didn't really do it for me I didn't really lik...   \n",
       "573382  Till the end of the road. Stonking! Now this i...   \n",
       "573383  Simply amazing For a \"hit-man\" movie I give th...   \n",
       "573384  As Awesome as the first part. I was satisfied ...   \n",
       "\n",
       "                                             plot_summary  \n",
       "573380  The impressionistic story of a Texas family in...  \n",
       "573381  Peter Parker (Garfield) is an outcast high sch...  \n",
       "573382  For Steve Rogers, awakening after decades of s...  \n",
       "573383  LA cabbie Max Durocher is the type of person w...  \n",
       "573384  After successfully crossing over (and under) t...  "
      ]
     },
     "execution_count": 11,
     "metadata": {},
     "output_type": "execute_result"
    }
   ],
   "source": [
    "columns_keep = ['is_spoiler', 'movie_id', 'plot_summary', 'review_summary', 'review_text',]\n",
    "all_columns = [review for review in df_reviews]\n",
    "for x in columns_keep:\n",
    "    all_columns.remove(x)\n",
    "drop_columns = all_columns\n",
    "df_train = df_reviews.drop(columns=drop_columns)\n",
    "df_train['review_text'] = df_reviews['review_summary']+ ' ' + df_reviews['review_text']\n",
    "df_train = df_train.drop(columns=['review_summary'])\n",
    "df_train.tail()"
   ]
  },
  {
   "cell_type": "markdown",
   "metadata": {},
   "source": [
    "## Save the processed data for future use"
   ]
  },
  {
   "cell_type": "code",
   "execution_count": 8,
   "metadata": {},
   "outputs": [],
   "source": [
    "df_train.to_csv('./data/train.csv', index=False)"
   ]
  }
 ],
 "metadata": {
  "kernelspec": {
   "display_name": "Python 3",
   "language": "python",
   "name": "python3"
  },
  "language_info": {
   "codemirror_mode": {
    "name": "ipython",
    "version": 3
   },
   "file_extension": ".py",
   "mimetype": "text/x-python",
   "name": "python",
   "nbconvert_exporter": "python",
   "pygments_lexer": "ipython3",
   "version": "3.7.3"
  }
 },
 "nbformat": 4,
 "nbformat_minor": 2
}
